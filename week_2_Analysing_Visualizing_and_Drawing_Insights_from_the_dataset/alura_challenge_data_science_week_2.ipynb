{
 "cells": [
  {
   "cell_type": "markdown",
   "source": [
    "# Alura Challenge - Data Science - Week 2\n",
    "\n",
    "Guilherme Lupinari Volpato\n",
    "E-mail: lv.gui97@gmail.com\n",
    "Github: https://github.com/LupiVolpi\n",
    "\n",
    "You have been hired as a data scientist by the *telecom operator Alura Voz*. In the initial meeting with the people responsible for the company's *sales area*, the importance of reducing the Customer Evasion Rate, known as *Churn Rate*, was explained. Basically, the Churn Rate indicates how much the company lost revenue or customers in a period of time.\n",
    "\n",
    "\n",
    "### *Week 2 Challenges:*\n",
    "- Analyse the target variable *churn*\n",
    "- Visualize the distribution of the *churn* variable\n",
    "- Create relevant visualizations regarding the *churn* variable\n",
    "- Analyse the correlation of the variables\n",
    "- Test different types of graphs.\n",
    "\n",
    "\n",
    "### *Data index:*\n",
    "- *customerID:* each customer's unique identification number.\n",
    "- *Churn:* whether the client has left the company or not.\n",
    "- *gender:* Male or Female (according to the database).\n",
    "- *SeniorCitizen:* whether a client is 65 years of age or older.\n",
    "- *Partner:* whether the client is partnered or not.\n",
    "- *Dependents:* whether the client has got dependents or not.\n",
    "- *tenure:* duration (in months) of the client's contract with the company.\n",
    "- *PhoneService:* whether the client has hired the companie's phone service.\n",
    "- *MultipleLines:* whether the client has hired more than one phone line.\n",
    "- *InternetService:* whether the client has hired a provider of internet.\n",
    "- *OnlineSecurity:* whether the client has hired an additional online security membership.\n",
    "- *OnlineBackup:* whether the client has hired an additional online backup membership.\n",
    "- *DeviceProtection:* whether the client has hired an additional device protection membership.\n",
    "- *TechSupport:* whether the client has hired an additional technical support membership (with decreased waiting time for services).\n",
    "- *StreamingTV:* whether the client has hired the cable TV service.\n",
    "- *StreamingMovies:* whether the client has hired a movie streaming membership.\n",
    "- *Contract:* the type of the client's contract.\n",
    "- *PaperlessBilling:* whether the client prefers to receive his billings online.\n",
    "- *PaymentMethod:* the client's prefered method of payment.\n",
    "- *Charges.Monthly:* the monthly sum of the client's hired services and membreships.\n",
    "- *Charges.Total:* the total sum of the client's hired services and memberships."
   ],
   "metadata": {
    "collapsed": false,
    "pycharm": {
     "name": "#%% md\n"
    }
   }
  },
  {
   "cell_type": "markdown",
   "source": [
    "---\n",
    "# Importing libraries and Setting preferences"
   ],
   "metadata": {
    "collapsed": false,
    "pycharm": {
     "name": "#%% md\n"
    }
   }
  },
  {
   "cell_type": "code",
   "execution_count": 2,
   "outputs": [],
   "source": [
    "import pandas as pd\n",
    "\n",
    "pd.set_option(\"display.max_rows\", 100) # Pandas will display 100 DataFrame rows at most.\n",
    "pd.set_option(\"display.max_columns\", None) # Pandas won't collapse DataFrame columns visualization.\n",
    "pd.set_option(\"display.max_colwidth\", None) # Pandas will display all the information in each column, regardless of how large the values are."
   ],
   "metadata": {
    "collapsed": false,
    "pycharm": {
     "name": "#%%\n"
    }
   }
  },
  {
   "cell_type": "markdown",
   "source": [
    "---\n",
    "# Importing the treated data from week 1"
   ],
   "metadata": {
    "collapsed": false,
    "pycharm": {
     "name": "#%% md\n"
    }
   }
  },
  {
   "cell_type": "code",
   "execution_count": 16,
   "outputs": [
    {
     "data": {
      "text/plain": "  customer_id churn  gender senior_citizen partner dependents  tenure  \\\n0  0002-ORFBO    No  Female             No     Yes        Yes       9   \n1  0003-MKNFE    No    Male             No      No         No       9   \n2  0004-TLHLJ   Yes    Male             No      No         No       4   \n3  0011-IGKFF   Yes    Male            Yes     Yes         No      13   \n4  0013-EXCHZ   Yes  Female            Yes     Yes         No       3   \n\n  phone_service multiple_lines internet_service online_security online_backup  \\\n0           Yes             No              DSL              No           Yes   \n1           Yes            Yes              DSL              No            No   \n2           Yes             No      Fiber optic              No            No   \n3           Yes             No      Fiber optic              No           Yes   \n4           Yes             No      Fiber optic              No            No   \n\n  device_protection tech_support streaming_tv streaming_movies  \\\n0                No          Yes          Yes               No   \n1                No           No           No              Yes   \n2               Yes           No           No               No   \n3               Yes           No          Yes              Yes   \n4                No          Yes          Yes               No   \n\n   services_hired        contract paperless_billing    payment_method  \\\n0               5        One year               Yes      Mailed check   \n1               4  Month-to-month                No      Mailed check   \n2               3  Month-to-month               Yes  Electronic check   \n3               6  Month-to-month               Yes  Electronic check   \n4               4  Month-to-month               Yes      Mailed check   \n\n   charges_daily  charges_monthly  charges_total  \n0           2.19             65.6         593.30  \n1           2.00             59.9         542.40  \n2           2.46             73.9         280.85  \n3           3.27             98.0        1237.85  \n4           2.80             83.9         267.40  ",
      "text/html": "<div>\n<style scoped>\n    .dataframe tbody tr th:only-of-type {\n        vertical-align: middle;\n    }\n\n    .dataframe tbody tr th {\n        vertical-align: top;\n    }\n\n    .dataframe thead th {\n        text-align: right;\n    }\n</style>\n<table border=\"1\" class=\"dataframe\">\n  <thead>\n    <tr style=\"text-align: right;\">\n      <th></th>\n      <th>customer_id</th>\n      <th>churn</th>\n      <th>gender</th>\n      <th>senior_citizen</th>\n      <th>partner</th>\n      <th>dependents</th>\n      <th>tenure</th>\n      <th>phone_service</th>\n      <th>multiple_lines</th>\n      <th>internet_service</th>\n      <th>online_security</th>\n      <th>online_backup</th>\n      <th>device_protection</th>\n      <th>tech_support</th>\n      <th>streaming_tv</th>\n      <th>streaming_movies</th>\n      <th>services_hired</th>\n      <th>contract</th>\n      <th>paperless_billing</th>\n      <th>payment_method</th>\n      <th>charges_daily</th>\n      <th>charges_monthly</th>\n      <th>charges_total</th>\n    </tr>\n  </thead>\n  <tbody>\n    <tr>\n      <th>0</th>\n      <td>0002-ORFBO</td>\n      <td>No</td>\n      <td>Female</td>\n      <td>No</td>\n      <td>Yes</td>\n      <td>Yes</td>\n      <td>9</td>\n      <td>Yes</td>\n      <td>No</td>\n      <td>DSL</td>\n      <td>No</td>\n      <td>Yes</td>\n      <td>No</td>\n      <td>Yes</td>\n      <td>Yes</td>\n      <td>No</td>\n      <td>5</td>\n      <td>One year</td>\n      <td>Yes</td>\n      <td>Mailed check</td>\n      <td>2.19</td>\n      <td>65.6</td>\n      <td>593.30</td>\n    </tr>\n    <tr>\n      <th>1</th>\n      <td>0003-MKNFE</td>\n      <td>No</td>\n      <td>Male</td>\n      <td>No</td>\n      <td>No</td>\n      <td>No</td>\n      <td>9</td>\n      <td>Yes</td>\n      <td>Yes</td>\n      <td>DSL</td>\n      <td>No</td>\n      <td>No</td>\n      <td>No</td>\n      <td>No</td>\n      <td>No</td>\n      <td>Yes</td>\n      <td>4</td>\n      <td>Month-to-month</td>\n      <td>No</td>\n      <td>Mailed check</td>\n      <td>2.00</td>\n      <td>59.9</td>\n      <td>542.40</td>\n    </tr>\n    <tr>\n      <th>2</th>\n      <td>0004-TLHLJ</td>\n      <td>Yes</td>\n      <td>Male</td>\n      <td>No</td>\n      <td>No</td>\n      <td>No</td>\n      <td>4</td>\n      <td>Yes</td>\n      <td>No</td>\n      <td>Fiber optic</td>\n      <td>No</td>\n      <td>No</td>\n      <td>Yes</td>\n      <td>No</td>\n      <td>No</td>\n      <td>No</td>\n      <td>3</td>\n      <td>Month-to-month</td>\n      <td>Yes</td>\n      <td>Electronic check</td>\n      <td>2.46</td>\n      <td>73.9</td>\n      <td>280.85</td>\n    </tr>\n    <tr>\n      <th>3</th>\n      <td>0011-IGKFF</td>\n      <td>Yes</td>\n      <td>Male</td>\n      <td>Yes</td>\n      <td>Yes</td>\n      <td>No</td>\n      <td>13</td>\n      <td>Yes</td>\n      <td>No</td>\n      <td>Fiber optic</td>\n      <td>No</td>\n      <td>Yes</td>\n      <td>Yes</td>\n      <td>No</td>\n      <td>Yes</td>\n      <td>Yes</td>\n      <td>6</td>\n      <td>Month-to-month</td>\n      <td>Yes</td>\n      <td>Electronic check</td>\n      <td>3.27</td>\n      <td>98.0</td>\n      <td>1237.85</td>\n    </tr>\n    <tr>\n      <th>4</th>\n      <td>0013-EXCHZ</td>\n      <td>Yes</td>\n      <td>Female</td>\n      <td>Yes</td>\n      <td>Yes</td>\n      <td>No</td>\n      <td>3</td>\n      <td>Yes</td>\n      <td>No</td>\n      <td>Fiber optic</td>\n      <td>No</td>\n      <td>No</td>\n      <td>No</td>\n      <td>Yes</td>\n      <td>Yes</td>\n      <td>No</td>\n      <td>4</td>\n      <td>Month-to-month</td>\n      <td>Yes</td>\n      <td>Mailed check</td>\n      <td>2.80</td>\n      <td>83.9</td>\n      <td>267.40</td>\n    </tr>\n  </tbody>\n</table>\n</div>"
     },
     "execution_count": 16,
     "metadata": {},
     "output_type": "execute_result"
    }
   ],
   "source": [
    "data_treated = pd.read_json(path_or_buf = \"https://raw.githubusercontent.com/LupiVolpi/alura_challenge_data_science/main/datasets/data_treated.json\")\n",
    "\n",
    "data_treated.head(5)"
   ],
   "metadata": {
    "collapsed": false,
    "pycharm": {
     "name": "#%%\n"
    }
   }
  },
  {
   "cell_type": "markdown",
   "source": [
    "---\n",
    "# Analysing the *churn* variable"
   ],
   "metadata": {
    "collapsed": false,
    "pycharm": {
     "name": "#%% md\n"
    }
   }
  },
  {
   "cell_type": "code",
   "execution_count": null,
   "outputs": [],
   "source": [],
   "metadata": {
    "collapsed": false,
    "pycharm": {
     "name": "#%%\n"
    }
   }
  },
  {
   "cell_type": "markdown",
   "source": [
    "---\n",
    "# Visualizing the distribution of the *churn* variable"
   ],
   "metadata": {
    "collapsed": false,
    "pycharm": {
     "name": "#%% md\n"
    }
   }
  },
  {
   "cell_type": "code",
   "execution_count": null,
   "outputs": [],
   "source": [],
   "metadata": {
    "collapsed": false,
    "pycharm": {
     "name": "#%%\n"
    }
   }
  },
  {
   "cell_type": "markdown",
   "source": [
    "---\n",
    "# Applying other relevant visualization methods for the *churn* variable"
   ],
   "metadata": {
    "collapsed": false,
    "pycharm": {
     "name": "#%% md\n"
    }
   }
  },
  {
   "cell_type": "code",
   "execution_count": null,
   "outputs": [],
   "source": [],
   "metadata": {
    "collapsed": false,
    "pycharm": {
     "name": "#%%\n"
    }
   }
  },
  {
   "cell_type": "markdown",
   "source": [
    "---\n",
    "# Analysing the correlation between the variables"
   ],
   "metadata": {
    "collapsed": false,
    "pycharm": {
     "name": "#%% md\n"
    }
   }
  },
  {
   "cell_type": "code",
   "execution_count": null,
   "outputs": [],
   "source": [],
   "metadata": {
    "collapsed": false,
    "pycharm": {
     "name": "#%%\n"
    }
   }
  }
 ],
 "metadata": {
  "kernelspec": {
   "display_name": "Python 3",
   "language": "python",
   "name": "python3"
  },
  "language_info": {
   "codemirror_mode": {
    "name": "ipython",
    "version": 2
   },
   "file_extension": ".py",
   "mimetype": "text/x-python",
   "name": "python",
   "nbconvert_exporter": "python",
   "pygments_lexer": "ipython2",
   "version": "2.7.6"
  }
 },
 "nbformat": 4,
 "nbformat_minor": 0
}