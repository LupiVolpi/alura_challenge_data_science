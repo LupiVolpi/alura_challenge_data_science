{
 "cells": [
  {
   "cell_type": "markdown",
   "source": [
    "# Alura Challenge - Data Science - Week 2\n",
    "\n",
    "Guilherme Lupinari Volpato\n",
    "E-mail: lv.gui97@gmail.com\n",
    "Github: https://github.com/LupiVolpi\n",
    "\n",
    "You have been hired as a data scientist by the *telecom operator Alura Voz*. In the initial meeting with the people responsible for the company's *sales area*, the importance of reducing the Customer Evasion Rate, known as *Churn Rate*, was explained. Basically, the Churn Rate indicates how much the company lost revenue or customers in a period of time.\n",
    "\n",
    "\n",
    "### *Week 2 Challenges:*\n",
    "- Analyse the target variable *churn*\n",
    "- Visualize the distribution of the *churn* variable\n",
    "- Create relevant visualizations regarding the *churn* variable\n",
    "- Analyse the correlation of the variables\n",
    "- Test different types of graphs.\n",
    "\n",
    "\n",
    "### *Data index:*\n",
    "- *customerID:* each customer's unique identification number.\n",
    "- *Churn:* whether the client has left the company or not.\n",
    "- *gender:* Male or Female (according to the database).\n",
    "- *SeniorCitizen:* whether a client is 65 years of age or older.\n",
    "- *Partner:* whether the client is partnered or not.\n",
    "- *Dependents:* whether the client has got dependents or not.\n",
    "- *tenure:* duration (in months) of the client's contract with the company.\n",
    "- *PhoneService:* whether the client has hired the companie's phone service.\n",
    "- *MultipleLines:* whether the client has hired more than one phone line.\n",
    "- *InternetService:* whether the client has hired a provider of internet.\n",
    "- *OnlineSecurity:* whether the client has hired an additional online security membership.\n",
    "- *OnlineBackup:* whether the client has hired an additional online backup membership.\n",
    "- *DeviceProtection:* whether the client has hired an additional device protection membership.\n",
    "- *TechSupport:* whether the client has hired an additional technical support membership (with decreased waiting time for services).\n",
    "- *StreamingTV:* whether the client has hired the cable TV service.\n",
    "- *StreamingMovies:* whether the client has hired a movie streaming membership.\n",
    "- *Contract:* the type of the client's contract.\n",
    "- *PaperlessBilling:* whether the client prefers to receive his billings online.\n",
    "- *PaymentMethod:* the client's prefered method of payment.\n",
    "- *Charges.Monthly:* the monthly sum of the client's hired services and membreships.\n",
    "- *Charges.Total:* the total sum of the client's hired services and memberships."
   ],
   "metadata": {
    "collapsed": false,
    "pycharm": {
     "name": "#%% md\n"
    }
   }
  },
  {
   "cell_type": "markdown",
   "source": [
    "---\n",
    "# Importing libraries and Setting preferences"
   ],
   "metadata": {
    "collapsed": false,
    "pycharm": {
     "name": "#%% md\n"
    }
   }
  },
  {
   "cell_type": "code",
   "execution_count": 29,
   "outputs": [],
   "source": [
    "import pandas as pd\n",
    "\n",
    "pd.set_option(\"display.max_rows\", 100) # Pandas will display 100 DataFrame rows at most.\n",
    "pd.set_option(\"display.max_columns\", None) # Pandas won't collapse DataFrame columns visualization.\n",
    "pd.set_option(\"display.max_colwidth\", None) # Pandas will display all the information in each column, regardless of how large the values are.\n",
    "\n",
    "import matplotlib.pyplot as plt"
   ],
   "metadata": {
    "collapsed": false,
    "pycharm": {
     "name": "#%%\n"
    }
   }
  },
  {
   "cell_type": "markdown",
   "source": [
    "---\n",
    "# Importing the treated data from week 1"
   ],
   "metadata": {
    "collapsed": false,
    "pycharm": {
     "name": "#%% md\n"
    }
   }
  },
  {
   "cell_type": "code",
   "execution_count": 18,
   "outputs": [
    {
     "data": {
      "text/plain": "  customer_id churn  gender senior_citizen partner dependents  tenure  \\\n0  0002-ORFBO    No  Female             No     Yes        Yes       9   \n1  0003-MKNFE    No    Male             No      No         No       9   \n2  0004-TLHLJ   Yes    Male             No      No         No       4   \n3  0011-IGKFF   Yes    Male            Yes     Yes         No      13   \n4  0013-EXCHZ   Yes  Female            Yes     Yes         No       3   \n\n  phone_service multiple_lines internet_service online_security online_backup  \\\n0           Yes             No              DSL              No           Yes   \n1           Yes            Yes              DSL              No            No   \n2           Yes             No      Fiber optic              No            No   \n3           Yes             No      Fiber optic              No           Yes   \n4           Yes             No      Fiber optic              No            No   \n\n  device_protection tech_support streaming_tv streaming_movies  \\\n0                No          Yes          Yes               No   \n1                No           No           No              Yes   \n2               Yes           No           No               No   \n3               Yes           No          Yes              Yes   \n4                No          Yes          Yes               No   \n\n   services_hired        contract paperless_billing    payment_method  \\\n0               5        One year               Yes      Mailed check   \n1               4  Month-to-month                No      Mailed check   \n2               3  Month-to-month               Yes  Electronic check   \n3               6  Month-to-month               Yes  Electronic check   \n4               4  Month-to-month               Yes      Mailed check   \n\n   charges_daily  charges_monthly  charges_total  \n0           2.19             65.6         593.30  \n1           2.00             59.9         542.40  \n2           2.46             73.9         280.85  \n3           3.27             98.0        1237.85  \n4           2.80             83.9         267.40  ",
      "text/html": "<div>\n<style scoped>\n    .dataframe tbody tr th:only-of-type {\n        vertical-align: middle;\n    }\n\n    .dataframe tbody tr th {\n        vertical-align: top;\n    }\n\n    .dataframe thead th {\n        text-align: right;\n    }\n</style>\n<table border=\"1\" class=\"dataframe\">\n  <thead>\n    <tr style=\"text-align: right;\">\n      <th></th>\n      <th>customer_id</th>\n      <th>churn</th>\n      <th>gender</th>\n      <th>senior_citizen</th>\n      <th>partner</th>\n      <th>dependents</th>\n      <th>tenure</th>\n      <th>phone_service</th>\n      <th>multiple_lines</th>\n      <th>internet_service</th>\n      <th>online_security</th>\n      <th>online_backup</th>\n      <th>device_protection</th>\n      <th>tech_support</th>\n      <th>streaming_tv</th>\n      <th>streaming_movies</th>\n      <th>services_hired</th>\n      <th>contract</th>\n      <th>paperless_billing</th>\n      <th>payment_method</th>\n      <th>charges_daily</th>\n      <th>charges_monthly</th>\n      <th>charges_total</th>\n    </tr>\n  </thead>\n  <tbody>\n    <tr>\n      <th>0</th>\n      <td>0002-ORFBO</td>\n      <td>No</td>\n      <td>Female</td>\n      <td>No</td>\n      <td>Yes</td>\n      <td>Yes</td>\n      <td>9</td>\n      <td>Yes</td>\n      <td>No</td>\n      <td>DSL</td>\n      <td>No</td>\n      <td>Yes</td>\n      <td>No</td>\n      <td>Yes</td>\n      <td>Yes</td>\n      <td>No</td>\n      <td>5</td>\n      <td>One year</td>\n      <td>Yes</td>\n      <td>Mailed check</td>\n      <td>2.19</td>\n      <td>65.6</td>\n      <td>593.30</td>\n    </tr>\n    <tr>\n      <th>1</th>\n      <td>0003-MKNFE</td>\n      <td>No</td>\n      <td>Male</td>\n      <td>No</td>\n      <td>No</td>\n      <td>No</td>\n      <td>9</td>\n      <td>Yes</td>\n      <td>Yes</td>\n      <td>DSL</td>\n      <td>No</td>\n      <td>No</td>\n      <td>No</td>\n      <td>No</td>\n      <td>No</td>\n      <td>Yes</td>\n      <td>4</td>\n      <td>Month-to-month</td>\n      <td>No</td>\n      <td>Mailed check</td>\n      <td>2.00</td>\n      <td>59.9</td>\n      <td>542.40</td>\n    </tr>\n    <tr>\n      <th>2</th>\n      <td>0004-TLHLJ</td>\n      <td>Yes</td>\n      <td>Male</td>\n      <td>No</td>\n      <td>No</td>\n      <td>No</td>\n      <td>4</td>\n      <td>Yes</td>\n      <td>No</td>\n      <td>Fiber optic</td>\n      <td>No</td>\n      <td>No</td>\n      <td>Yes</td>\n      <td>No</td>\n      <td>No</td>\n      <td>No</td>\n      <td>3</td>\n      <td>Month-to-month</td>\n      <td>Yes</td>\n      <td>Electronic check</td>\n      <td>2.46</td>\n      <td>73.9</td>\n      <td>280.85</td>\n    </tr>\n    <tr>\n      <th>3</th>\n      <td>0011-IGKFF</td>\n      <td>Yes</td>\n      <td>Male</td>\n      <td>Yes</td>\n      <td>Yes</td>\n      <td>No</td>\n      <td>13</td>\n      <td>Yes</td>\n      <td>No</td>\n      <td>Fiber optic</td>\n      <td>No</td>\n      <td>Yes</td>\n      <td>Yes</td>\n      <td>No</td>\n      <td>Yes</td>\n      <td>Yes</td>\n      <td>6</td>\n      <td>Month-to-month</td>\n      <td>Yes</td>\n      <td>Electronic check</td>\n      <td>3.27</td>\n      <td>98.0</td>\n      <td>1237.85</td>\n    </tr>\n    <tr>\n      <th>4</th>\n      <td>0013-EXCHZ</td>\n      <td>Yes</td>\n      <td>Female</td>\n      <td>Yes</td>\n      <td>Yes</td>\n      <td>No</td>\n      <td>3</td>\n      <td>Yes</td>\n      <td>No</td>\n      <td>Fiber optic</td>\n      <td>No</td>\n      <td>No</td>\n      <td>No</td>\n      <td>Yes</td>\n      <td>Yes</td>\n      <td>No</td>\n      <td>4</td>\n      <td>Month-to-month</td>\n      <td>Yes</td>\n      <td>Mailed check</td>\n      <td>2.80</td>\n      <td>83.9</td>\n      <td>267.40</td>\n    </tr>\n  </tbody>\n</table>\n</div>"
     },
     "execution_count": 18,
     "metadata": {},
     "output_type": "execute_result"
    }
   ],
   "source": [
    "data_treated = pd.read_json(path_or_buf = \"https://raw.githubusercontent.com/LupiVolpi/alura_challenge_data_science/main/datasets/data_treated.json\")\n",
    "\n",
    "data_treated.head(5)"
   ],
   "metadata": {
    "collapsed": false,
    "pycharm": {
     "name": "#%%\n"
    }
   }
  },
  {
   "cell_type": "markdown",
   "source": [
    "---\n",
    "# Analysing the *churn* variable"
   ],
   "metadata": {
    "collapsed": false,
    "pycharm": {
     "name": "#%% md\n"
    }
   }
  },
  {
   "cell_type": "markdown",
   "source": [
    "#### <font color = \"Blue\"> 1. Basic information."
   ],
   "metadata": {
    "collapsed": false,
    "pycharm": {
     "name": "#%% md\n"
    }
   }
  },
  {
   "cell_type": "code",
   "execution_count": 49,
   "outputs": [
    {
     "data": {
      "text/plain": "Text(0.5, 1.0, 'Customers that have left the company (Churn)')"
     },
     "execution_count": 49,
     "metadata": {},
     "output_type": "execute_result"
    },
    {
     "data": {
      "text/plain": "<Figure size 360x288 with 1 Axes>",
      "image/png": "[encoded data removed]"
     },
     "metadata": {},
     "output_type": "display_data"
    }
   ],
   "source": [
    "fig1 = plt.figure(figsize = (5, 4))\n",
    "axis1 = fig1.add_axes([0, 0, 1, 1])\n",
    "\n",
    "labels = data_treated[\"churn\"].value_counts().index\n",
    "\n",
    "axis1.pie(data_treated[\"churn\"].value_counts(normalize = True).round(decimals = 4) * 100, labels = labels, colors = [\"blue\", \"red\"], autopct = \"%.1f%%\")\n",
    "axis1.set_title(\"Customers that have left the company (Churn)\", fontsize = 15, pad = 5)"
   ],
   "metadata": {
    "collapsed": false,
    "pycharm": {
     "name": "#%%\n"
    }
   }
  },
  {
   "cell_type": "markdown",
   "source": [
    "##### <font color = \"Green\"> Approximately 26,54% of the customers have left the company."
   ],
   "metadata": {
    "collapsed": false,
    "pycharm": {
     "name": "#%% md\n"
    }
   }
  },
  {
   "cell_type": "code",
   "execution_count": 45,
   "outputs": [
    {
     "data": {
      "text/plain": "Text(0.5, 1.0, 'Customers by gender')"
     },
     "execution_count": 45,
     "metadata": {},
     "output_type": "execute_result"
    },
    {
     "data": {
      "text/plain": "<Figure size 360x288 with 1 Axes>",
      "image/png": "[encoded data removed]"
     },
     "metadata": {},
     "output_type": "display_data"
    }
   ],
   "source": [
    "fig2 = plt.figure(figsize = (5, 4))\n",
    "axis2 = fig2.add_axes([0, 0, 1, 1])\n",
    "\n",
    "labels = data_treated[\"gender\"].value_counts().index\n",
    "\n",
    "axis2.pie(data_treated[\"gender\"].value_counts(normalize = True).round(decimals = 4) * 100, labels = labels, colors = [\"blue\", \"pink\"], autopct = \"%.1f%%\")\n",
    "axis2.set_title(\"Customers by gender\", fontsize = 15, pad = 5)"
   ],
   "metadata": {
    "collapsed": false,
    "pycharm": {
     "name": "#%%\n"
    }
   }
  },
  {
   "cell_type": "markdown",
   "source": [
    "##### <font color = \"Green\"> The customer base is almost equally divided between male and female."
   ],
   "metadata": {
    "collapsed": false,
    "pycharm": {
     "name": "#%% md\n"
    }
   }
  },
  {
   "cell_type": "code",
   "execution_count": 53,
   "outputs": [
    {
     "data": {
      "text/plain": "Text(0.5, 1.0, 'Churn by gender')"
     },
     "execution_count": 53,
     "metadata": {},
     "output_type": "execute_result"
    },
    {
     "data": {
      "text/plain": "<Figure size 360x288 with 1 Axes>",
      "image/png": "[encoded data removed]"
     },
     "metadata": {},
     "output_type": "display_data"
    }
   ],
   "source": [
    "fig3 = plt.figure(figsize = (5, 4))\n",
    "axis3 = fig3.add_axes([0, 0, 1, 1])\n",
    "\n",
    "labels = data_treated.query(\"churn == 'Yes'\")[\"gender\"].value_counts().index\n",
    "\n",
    "axis3.pie(data_treated.query(\"churn == 'Yes'\")[\"gender\"].value_counts(normalize = True).round(decimals = 4) * 100, labels = labels, autopct = \"%.1f%%\", colors = [\"pink\", \"blue\"])\n",
    "axis3.set_title(\"Churn by gender\", fontsize = 15, pad = 5)"
   ],
   "metadata": {
    "collapsed": false,
    "pycharm": {
     "name": "#%%\n"
    }
   }
  },
  {
   "cell_type": "markdown",
   "source": [
    "##### <font color = \"Green\"> Customers who have left the company are almost equally divided between male and female.\n"
   ],
   "metadata": {
    "collapsed": false,
    "pycharm": {
     "name": "#%% md\n"
    }
   }
  },
  {
   "cell_type": "code",
   "execution_count": 65,
   "outputs": [
    {
     "data": {
      "text/plain": "[Text(0, 0, 'No'), Text(1, 0, 'Yes'), Text(2, 0, 'Total'), Text(3, 0, 'Max')]"
     },
     "execution_count": 65,
     "metadata": {},
     "output_type": "execute_result"
    },
    {
     "data": {
      "text/plain": "<Figure size 720x576 with 1 Axes>",
      "image/png": "[encoded data removed]"
     },
     "metadata": {
      "needs_background": "light"
     },
     "output_type": "display_data"
    }
   ],
   "source": [
    "fig4 = plt.figure(figsize = (10,8))\n",
    "axis4 = fig4.add_axes([0, 0, 1, 1])\n",
    "\n",
    "data = [data_treated.query(\"churn == 'No'\")[\"services_hired\"].mean(), data_treated.query(\"churn == 'Yes'\")[\"services_hired\"].mean(), data_treated[\"services_hired\"].mean(), data_treated[\"services_hired\"].max()]\n",
    "index = range(len(data))\n",
    "xlabels = [\"No\", \"Yes\", \"Total\", \"Max\"]\n",
    "\n",
    "axis4.bar(index, data, color = [\"blue\", \"red\", \"yellow\", \"gray\"], edgecolor = \"black\")\n",
    "axis4.set_title(\"Churn by number of services hired (mean)\", fontsize = 30, pad = 10)\n",
    "axis4.set_xlabel(\"Mean\", fontsize = 25)\n",
    "axis4.set_ylabel(\"Services hired\", fontsize = 25)\n",
    "\n",
    "axis4.set_xticks(index)\n",
    "axis4.set_xticklabels(xlabels, fontsize = 20)"
   ],
   "metadata": {
    "collapsed": false,
    "pycharm": {
     "name": "#%%\n"
    }
   }
  },
  {
   "cell_type": "markdown",
   "source": [
    "##### <font color = \"Green\"> A customer, on average, hires 4 out of 9 different services from the company, regardless of having left the company or not."
   ],
   "metadata": {
    "collapsed": false,
    "pycharm": {
     "name": "#%% md\n"
    }
   }
  },
  {
   "cell_type": "code",
   "execution_count": 66,
   "outputs": [
    {
     "name": "stderr",
     "output_type": "stream",
     "text": [
      "C:\\Users\\lvgui\\anaconda3\\lib\\site-packages\\numpy\\lib\\stride_tricks.py:536: VisibleDeprecationWarning: Creating an ndarray from ragged nested sequences (which is a list-or-tuple of lists-or-tuples-or ndarrays with different lengths or shapes) is deprecated. If you meant to do this, you must specify 'dtype=object' when creating the ndarray.\n",
      "  args = [np.array(_m, copy=False, subok=subok) for _m in args]\n",
      "C:\\Users\\lvgui\\anaconda3\\lib\\site-packages\\numpy\\core\\_asarray.py:102: VisibleDeprecationWarning: Creating an ndarray from ragged nested sequences (which is a list-or-tuple of lists-or-tuples-or ndarrays with different lengths or shapes) is deprecated. If you meant to do this, you must specify 'dtype=object' when creating the ndarray.\n",
      "  return array(a, dtype, copy=False, order=order)\n"
     ]
    },
    {
     "data": {
      "text/plain": "[Text(0, 0, 'No'), Text(1, 0, 'Yes'), Text(2, 0, 'Total'), Text(3, 0, 'Max')]"
     },
     "execution_count": 66,
     "metadata": {},
     "output_type": "execute_result"
    },
    {
     "data": {
      "text/plain": "<Figure size 720x576 with 1 Axes>",
      "image/png": "[encoded data removed]"
     },
     "metadata": {
      "needs_background": "light"
     },
     "output_type": "display_data"
    }
   ],
   "source": [
    "fig5 = plt.figure(figsize = (10,8))\n",
    "axis5 = fig5.add_axes([0, 0, 1, 1])\n",
    "\n",
    "data = [data_treated.query(\"churn == 'No'\")[\"services_hired\"].mode(), data_treated.query(\"churn == 'Yes'\")[\"services_hired\"].mode(), data_treated[\"services_hired\"].mode(), data_treated[\"services_hired\"].max()]\n",
    "index = range(len(data))\n",
    "xlabels = [\"No\", \"Yes\", \"Total\", \"Max\"]\n",
    "\n",
    "axis5.bar(index, data, color = [\"blue\", \"red\", \"yellow\", \"gray\"], edgecolor = \"black\")\n",
    "axis5.set_title(\"Churn by number of services hired (mode)\", fontsize = 30, pad = 10)\n",
    "axis5.set_xlabel(\"Mode\", fontsize = 25)\n",
    "axis5.set_ylabel(\"Services hired\", fontsize = 25)\n",
    "\n",
    "axis5.set_xticks(index)\n",
    "axis5.set_xticklabels(xlabels, fontsize = 20)"
   ],
   "metadata": {
    "collapsed": false,
    "pycharm": {
     "name": "#%%\n"
    }
   }
  },
  {
   "cell_type": "markdown",
   "source": [
    "##### <font color = \"green\"> The most frequently seen number of services hired among customer who have left the company is 3, whereas the mode for customers who haven't left the company is 1 service hired."
   ],
   "metadata": {
    "collapsed": false,
    "pycharm": {
     "name": "#%% md\n"
    }
   }
  },
  {
   "cell_type": "code",
   "execution_count": 68,
   "outputs": [
    {
     "data": {
      "text/plain": "64.7616924605992"
     },
     "execution_count": 68,
     "metadata": {},
     "output_type": "execute_result"
    },
    {
     "data": {
      "text/plain": "<Figure size 720x576 with 1 Axes>",
      "image/png": "[encoded data removed]"
     },
     "metadata": {
      "needs_background": "light"
     },
     "output_type": "display_data"
    }
   ],
   "source": [
    "fig6 = plt.figure(figsize = (10,8))\n",
    "axis6 = fig6.add_axes([0, 0, 1, 1])\n",
    "\n",
    "data = [data_treated.query(\"churn == 'No'\")[\"charges_monthly\"].mean(), data_treated.query(\"churn == 'Yes'\")[\"charges_monthly\"].mean(), data_treated[\"charges_monthly\"].mean(), data_treated[\"charges_monthly\"].max()]\n",
    "index = range(len(data))\n",
    "xlabels = [\"No\", \"Yes\", \"Total\", \"Max\"]\n",
    "\n",
    "axis6.bar(index, data, color = [\"blue\", \"red\", \"yellow\", \"gray\"], edgecolor = \"black\")\n",
    "axis6.set_title(\"Churn by charges monthly (mean)\", fontsize = 30, pad = 10)\n",
    "axis6.set_xlabel(\"Mean\", fontsize = 25)\n",
    "axis6.set_ylabel(\"Value (BRL)\", fontsize = 25)\n",
    "\n",
    "axis6.set_xticks(index)\n",
    "axis6.set_xticklabels(xlabels, fontsize = 20)\n",
    "\n",
    "data_treated[\"charges_monthly\"].mean()"
   ],
   "metadata": {
    "collapsed": false,
    "pycharm": {
     "name": "#%%\n"
    }
   }
  },
  {
   "cell_type": "markdown",
   "source": [
    "##### <font color = \"Green\"> A customer that has left the company has spent, on average, around 74,44 BRL monthly with the company's services, whereas customers ho haven't left spend around 61.27 BRL monthly."
   ],
   "metadata": {
    "collapsed": false,
    "pycharm": {
     "name": "#%% md\n"
    }
   }
  },
  {
   "cell_type": "markdown",
   "source": [
    "#### <font color = \"Blue\"> 2. More information about the *churn* variable.\n"
   ],
   "metadata": {
    "collapsed": false,
    "pycharm": {
     "name": "#%% md\n"
    }
   }
  },
  {
   "cell_type": "code",
   "execution_count": 43,
   "outputs": [
    {
     "data": {
      "text/plain": "partner  dependents\nNo       No            60.085607\nYes      No            22.471910\n         Yes           13.322632\nNo       Yes            4.119850\ndtype: float64"
     },
     "execution_count": 43,
     "metadata": {},
     "output_type": "execute_result"
    }
   ],
   "source": [
    "data_treated.query(\"churn == 'Yes'\")[[\"partner\", \"dependents\"]].value_counts(normalize = True) * 100"
   ],
   "metadata": {
    "collapsed": false,
    "pycharm": {
     "name": "#%%\n"
    }
   }
  },
  {
   "cell_type": "markdown",
   "source": [
    "##### <font color = \"Green\"> A little more than 60% of customers who have left the company are neither partnered nor have dependents."
   ],
   "metadata": {
    "collapsed": false,
    "pycharm": {
     "name": "#%% md\n"
    }
   }
  },
  {
   "cell_type": "code",
   "execution_count": 24,
   "outputs": [
    {
     "data": {
      "text/plain": "partner  dependents\nNo       No            41.689215\nYes      Yes           28.991109\n         No            23.830692\nNo       Yes            5.488983\ndtype: float64"
     },
     "execution_count": 24,
     "metadata": {},
     "output_type": "execute_result"
    }
   ],
   "source": [
    "# Just for comparison, this number is fairly different for customers who haven't left the company.\n",
    "\n",
    "data_treated.query(\"churn == 'No'\")[[\"partner\", \"dependents\"]].value_counts(normalize = True) * 100"
   ],
   "metadata": {
    "collapsed": false,
    "pycharm": {
     "name": "#%%\n"
    }
   }
  },
  {
   "cell_type": "code",
   "execution_count": 24,
   "outputs": [],
   "source": [],
   "metadata": {
    "collapsed": false,
    "pycharm": {
     "name": "#%%\n"
    }
   }
  },
  {
   "cell_type": "markdown",
   "source": [
    "#### <font color = \"Blue\"> 3. Grouping the DataFrame by the *churn* variable."
   ],
   "metadata": {
    "collapsed": false,
    "pycharm": {
     "name": "#%% md\n"
    }
   }
  },
  {
   "cell_type": "markdown",
   "source": [
    "##### Using the groupby() method, we can divide all entries of the DataFrame by the *churn* variable to draw further insight from integer or float data."
   ],
   "metadata": {
    "collapsed": false,
    "pycharm": {
     "name": "#%% md\n"
    }
   }
  },
  {
   "cell_type": "code",
   "execution_count": 25,
   "outputs": [],
   "source": [
    "data_by_churn = data_treated.groupby(by = \"churn\")"
   ],
   "metadata": {
    "collapsed": false,
    "pycharm": {
     "name": "#%%\n"
    }
   }
  },
  {
   "cell_type": "code",
   "execution_count": 26,
   "outputs": [
    {
     "data": {
      "text/plain": "       min       mean  max\nchurn                     \nNo       0  37.569965   72\nYes      1  17.979133   72",
      "text/html": "<div>\n<style scoped>\n    .dataframe tbody tr th:only-of-type {\n        vertical-align: middle;\n    }\n\n    .dataframe tbody tr th {\n        vertical-align: top;\n    }\n\n    .dataframe thead th {\n        text-align: right;\n    }\n</style>\n<table border=\"1\" class=\"dataframe\">\n  <thead>\n    <tr style=\"text-align: right;\">\n      <th></th>\n      <th>min</th>\n      <th>mean</th>\n      <th>max</th>\n    </tr>\n    <tr>\n      <th>churn</th>\n      <th></th>\n      <th></th>\n      <th></th>\n    </tr>\n  </thead>\n  <tbody>\n    <tr>\n      <th>No</th>\n      <td>0</td>\n      <td>37.569965</td>\n      <td>72</td>\n    </tr>\n    <tr>\n      <th>Yes</th>\n      <td>1</td>\n      <td>17.979133</td>\n      <td>72</td>\n    </tr>\n  </tbody>\n</table>\n</div>"
     },
     "execution_count": 26,
     "metadata": {},
     "output_type": "execute_result"
    }
   ],
   "source": [
    "data_by_churn[\"tenure\"].agg(func = [\"min\", \"mean\", \"max\"])"
   ],
   "metadata": {
    "collapsed": false,
    "pycharm": {
     "name": "#%%\n"
    }
   }
  },
  {
   "cell_type": "markdown",
   "source": [
    "##### <font color = \"Green\"> The average tenure of customers who have left the company is a little below 18 months."
   ],
   "metadata": {
    "collapsed": false,
    "pycharm": {
     "name": "#%% md\n"
    }
   }
  },
  {
   "cell_type": "code",
   "execution_count": 27,
   "outputs": [
    {
     "data": {
      "text/plain": "      charges_monthly                    charges_total                      \n                  min       mean     max           min         mean      max\nchurn                                                                       \nNo              18.25  61.265124  118.75          0.00  2549.911442  8672.45\nYes             18.85  74.441332  118.35         18.85  1531.796094  8684.80",
      "text/html": "<div>\n<style scoped>\n    .dataframe tbody tr th:only-of-type {\n        vertical-align: middle;\n    }\n\n    .dataframe tbody tr th {\n        vertical-align: top;\n    }\n\n    .dataframe thead tr th {\n        text-align: left;\n    }\n\n    .dataframe thead tr:last-of-type th {\n        text-align: right;\n    }\n</style>\n<table border=\"1\" class=\"dataframe\">\n  <thead>\n    <tr>\n      <th></th>\n      <th colspan=\"3\" halign=\"left\">charges_monthly</th>\n      <th colspan=\"3\" halign=\"left\">charges_total</th>\n    </tr>\n    <tr>\n      <th></th>\n      <th>min</th>\n      <th>mean</th>\n      <th>max</th>\n      <th>min</th>\n      <th>mean</th>\n      <th>max</th>\n    </tr>\n    <tr>\n      <th>churn</th>\n      <th></th>\n      <th></th>\n      <th></th>\n      <th></th>\n      <th></th>\n      <th></th>\n    </tr>\n  </thead>\n  <tbody>\n    <tr>\n      <th>No</th>\n      <td>18.25</td>\n      <td>61.265124</td>\n      <td>118.75</td>\n      <td>0.00</td>\n      <td>2549.911442</td>\n      <td>8672.45</td>\n    </tr>\n    <tr>\n      <th>Yes</th>\n      <td>18.85</td>\n      <td>74.441332</td>\n      <td>118.35</td>\n      <td>18.85</td>\n      <td>1531.796094</td>\n      <td>8684.80</td>\n    </tr>\n  </tbody>\n</table>\n</div>"
     },
     "execution_count": 27,
     "metadata": {},
     "output_type": "execute_result"
    }
   ],
   "source": [
    "data_by_churn[[\"charges_monthly\", \"charges_total\"]].agg(func = [\"min\", \"mean\", \"max\"])"
   ],
   "metadata": {
    "collapsed": false,
    "pycharm": {
     "name": "#%%\n"
    }
   }
  },
  {
   "cell_type": "markdown",
   "source": [
    "##### <font color = \"Green\"> The customers who have left the company have spent, on average, around *74,44* with the company's services, which is around *13,00* more than the average customer who hasn't left the company."
   ],
   "metadata": {
    "collapsed": false,
    "pycharm": {
     "name": "#%% md\n"
    }
   }
  },
  {
   "cell_type": "code",
   "execution_count": 28,
   "outputs": [
    {
     "data": {
      "text/plain": "       min      mean  max\nchurn                    \nNo       1  4.173174    9\nYes      1  4.071696    9",
      "text/html": "<div>\n<style scoped>\n    .dataframe tbody tr th:only-of-type {\n        vertical-align: middle;\n    }\n\n    .dataframe tbody tr th {\n        vertical-align: top;\n    }\n\n    .dataframe thead th {\n        text-align: right;\n    }\n</style>\n<table border=\"1\" class=\"dataframe\">\n  <thead>\n    <tr style=\"text-align: right;\">\n      <th></th>\n      <th>min</th>\n      <th>mean</th>\n      <th>max</th>\n    </tr>\n    <tr>\n      <th>churn</th>\n      <th></th>\n      <th></th>\n      <th></th>\n    </tr>\n  </thead>\n  <tbody>\n    <tr>\n      <th>No</th>\n      <td>1</td>\n      <td>4.173174</td>\n      <td>9</td>\n    </tr>\n    <tr>\n      <th>Yes</th>\n      <td>1</td>\n      <td>4.071696</td>\n      <td>9</td>\n    </tr>\n  </tbody>\n</table>\n</div>"
     },
     "execution_count": 28,
     "metadata": {},
     "output_type": "execute_result"
    }
   ],
   "source": [
    "data_by_churn[\"services_hired\"].agg(func = [\"min\", \"mean\", \"max\"])"
   ],
   "metadata": {
    "collapsed": false,
    "pycharm": {
     "name": "#%%\n"
    }
   }
  },
  {
   "cell_type": "markdown",
   "source": [
    "##### <font color = \"Green\"> No obvious difference can be seen between the consumption habits of customers that have left and the ones that stayed with the company."
   ],
   "metadata": {
    "collapsed": false,
    "pycharm": {
     "name": "#%% md\n"
    }
   }
  },
  {
   "cell_type": "markdown",
   "source": [
    "---\n",
    "# Visualizing the distribution of the *churn* variable"
   ],
   "metadata": {
    "collapsed": false,
    "pycharm": {
     "name": "#%% md\n"
    }
   }
  },
  {
   "cell_type": "code",
   "execution_count": 28,
   "outputs": [],
   "source": [],
   "metadata": {
    "collapsed": false,
    "pycharm": {
     "name": "#%%\n"
    }
   }
  },
  {
   "cell_type": "markdown",
   "source": [
    "---\n",
    "# Applying other relevant visualization methods for the *churn* variable"
   ],
   "metadata": {
    "collapsed": false,
    "pycharm": {
     "name": "#%% md\n"
    }
   }
  },
  {
   "cell_type": "code",
   "execution_count": 28,
   "outputs": [],
   "source": [],
   "metadata": {
    "collapsed": false,
    "pycharm": {
     "name": "#%%\n"
    }
   }
  },
  {
   "cell_type": "markdown",
   "source": [
    "---\n",
    "# Analysing the correlation between the variables"
   ],
   "metadata": {
    "collapsed": false,
    "pycharm": {
     "name": "#%% md\n"
    }
   }
  },
  {
   "cell_type": "code",
   "execution_count": 28,
   "outputs": [],
   "source": [],
   "metadata": {
    "collapsed": false,
    "pycharm": {
     "name": "#%%\n"
    }
   }
  }
 ],
 "metadata": {
  "kernelspec": {
   "display_name": "Python 3",
   "language": "python",
   "name": "python3"
  },
  "language_info": {
   "codemirror_mode": {
    "name": "ipython",
    "version": 2
   },
   "file_extension": ".py",
   "mimetype": "text/x-python",
   "name": "python",
   "nbconvert_exporter": "python",
   "pygments_lexer": "ipython2",
   "version": "2.7.6"
  }
 },
 "nbformat": 4,
 "nbformat_minor": 0
}