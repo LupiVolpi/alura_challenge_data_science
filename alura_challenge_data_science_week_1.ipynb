{
 "cells": [
  {
   "cell_type": "markdown",
   "source": [
    "# Alura Challenge - Data Science - Week 1\n",
    "\n",
    "Guilherme Lupinari Volpato\n",
    "E-mail: lv.gui97@gmail.com\n",
    "Github: https://github.com/LupiVolpi\n",
    "\n",
    "### *Week 1*\n",
    "- You have been hired as a data scientist by the *telecom operator Alura Voz*. In the initial meeting with the people responsible for the company's *sales area*, the importance of reducing the Customer Evasion Rate, known as *Churn Rate*, was explained. Basically, the Churn Rate indicates how much the company lost revenue or customers in a period of time.\n",
    "\n",
    "\n",
    "### *Challenges:*\n",
    "- Understand the dataset information\n",
    "- Analyse data types\n",
    "- Check for inconsistencies in the data\n",
    "- Fix data incosistencies\n",
    "- Create daily account columns\n",
    "\n",
    "\n",
    "### *Data index:*\n",
    "- *customerID:* each customer's unique identification number.\n",
    "- *Churn:* whether the client has left the company or not.\n",
    "- *gender:* Male or Female (according to the database).\n",
    "- *SeniorCitizen:* whether a client is 65 years of age or older.\n",
    "- *Partner:* whether the client is partnered or not.\n",
    "- *Dependents:* whether the client has got dependents or not.\n",
    "- *tenure:* duration (in months) of the client's contract with the company.\n",
    "- *PhoneService:* whether the client has hired the companie's phone service.\n",
    "- *MultipleLines:* whether the client has hired more than one phone line.\n",
    "- *InternetService:* whether the client has hired a provider of internet.\n",
    "- *OnlineSecurity:* whether the client has hired an additional online security membership.\n",
    "- *OnlineBackup:* whether the client has hired an additional online backup membership.\n",
    "- *DeviceProtection:* whether the client has hired an additional device protection membership.\n",
    "- *TechSupport:* whether the client has hired an additional technical support membership (with decreased waiting time for services).\n",
    "- *StreamingTV:* whether the client has hired the cable TV service.\n",
    "- *StreamingMovies:* whether the client has hired a movie streaming membership.\n",
    "- *Contract:* the type of the client's contract.\n",
    "- *PaperlessBilling:* whether the client prefers to receive his billings online.\n",
    "- *PaymentMethod:* the client's prefered method of payment.\n",
    "- *Charges.Monthly:* the monthly sum of the client's hired services and membreships.\n",
    "- *Charges.Total:* the total sum of the client's hired services and memberships."
   ],
   "metadata": {
    "collapsed": false,
    "pycharm": {
     "name": "#%% md\n"
    }
   }
  },
  {
   "cell_type": "markdown",
   "source": [
    "---\n",
    "# Importing libraries and setting preferences"
   ],
   "metadata": {
    "collapsed": false,
    "pycharm": {
     "name": "#%% md\n"
    }
   }
  },
  {
   "cell_type": "code",
   "execution_count": 21,
   "outputs": [],
   "source": [
    "import pandas as pd\n",
    "\n",
    "pd.set_option(\"display.max_rows\", 100) # Pandas will display 100 DataFrame rows at most.\n",
    "pd.set_option(\"display.max_columns\", None) # Pandas won't collapse DataFrame columns visualization.\n",
    "pd.set_option(\"display.max_colwidth\", None) # Pandas will display all the information in each column, regardless of how large the values are."
   ],
   "metadata": {
    "collapsed": false,
    "pycharm": {
     "name": "#%%\n"
    }
   }
  },
  {
   "cell_type": "markdown",
   "source": [
    "---\n",
    "# Understanding the dataset"
   ],
   "metadata": {
    "collapsed": false,
    "pycharm": {
     "name": "#%% md\n"
    }
   }
  },
  {
   "cell_type": "markdown",
   "source": [
    "For the purposes of understanding the layout of the dataset used for this project before actually loading it, I used the Online JSON Viewer website, which can be found [here](http://jsonviewer.stack.hu/)"
   ],
   "metadata": {
    "collapsed": false,
    "pycharm": {
     "name": "#%% md\n"
    }
   }
  },
  {
   "cell_type": "markdown",
   "source": [
    "---\n",
    "# Loading the dataset."
   ],
   "metadata": {
    "collapsed": false,
    "pycharm": {
     "name": "#%% md\n"
    }
   }
  },
  {
   "cell_type": "code",
   "execution_count": 22,
   "outputs": [
    {
     "data": {
      "text/plain": "   customerID Churn  \\\n0  0002-ORFBO    No   \n1  0003-MKNFE    No   \n2  0004-TLHLJ   Yes   \n3  0011-IGKFF   Yes   \n4  0013-EXCHZ   Yes   \n5  0013-MHZWF    No   \n6  0013-SMEOE    No   \n7  0014-BMAQU    No   \n8  0015-UOCOJ    No   \n9  0016-QLJIS    No   \n\n                                                                                        customer  \\\n0   {'gender': 'Female', 'SeniorCitizen': 0, 'Partner': 'Yes', 'Dependents': 'Yes', 'tenure': 9}   \n1       {'gender': 'Male', 'SeniorCitizen': 0, 'Partner': 'No', 'Dependents': 'No', 'tenure': 9}   \n2       {'gender': 'Male', 'SeniorCitizen': 0, 'Partner': 'No', 'Dependents': 'No', 'tenure': 4}   \n3     {'gender': 'Male', 'SeniorCitizen': 1, 'Partner': 'Yes', 'Dependents': 'No', 'tenure': 13}   \n4    {'gender': 'Female', 'SeniorCitizen': 1, 'Partner': 'Yes', 'Dependents': 'No', 'tenure': 3}   \n5    {'gender': 'Female', 'SeniorCitizen': 0, 'Partner': 'No', 'Dependents': 'Yes', 'tenure': 9}   \n6   {'gender': 'Female', 'SeniorCitizen': 1, 'Partner': 'Yes', 'Dependents': 'No', 'tenure': 71}   \n7     {'gender': 'Male', 'SeniorCitizen': 0, 'Partner': 'Yes', 'Dependents': 'No', 'tenure': 63}   \n8     {'gender': 'Female', 'SeniorCitizen': 1, 'Partner': 'No', 'Dependents': 'No', 'tenure': 7}   \n9  {'gender': 'Female', 'SeniorCitizen': 0, 'Partner': 'Yes', 'Dependents': 'Yes', 'tenure': 65}   \n\n                                             phone  \\\n0   {'PhoneService': 'Yes', 'MultipleLines': 'No'}   \n1  {'PhoneService': 'Yes', 'MultipleLines': 'Yes'}   \n2   {'PhoneService': 'Yes', 'MultipleLines': 'No'}   \n3   {'PhoneService': 'Yes', 'MultipleLines': 'No'}   \n4   {'PhoneService': 'Yes', 'MultipleLines': 'No'}   \n5   {'PhoneService': 'Yes', 'MultipleLines': 'No'}   \n6   {'PhoneService': 'Yes', 'MultipleLines': 'No'}   \n7  {'PhoneService': 'Yes', 'MultipleLines': 'Yes'}   \n8   {'PhoneService': 'Yes', 'MultipleLines': 'No'}   \n9  {'PhoneService': 'Yes', 'MultipleLines': 'Yes'}   \n\n                                                                                                                                                                              internet  \\\n0             {'InternetService': 'DSL', 'OnlineSecurity': 'No', 'OnlineBackup': 'Yes', 'DeviceProtection': 'No', 'TechSupport': 'Yes', 'StreamingTV': 'Yes', 'StreamingMovies': 'No'}   \n1               {'InternetService': 'DSL', 'OnlineSecurity': 'No', 'OnlineBackup': 'No', 'DeviceProtection': 'No', 'TechSupport': 'No', 'StreamingTV': 'No', 'StreamingMovies': 'Yes'}   \n2       {'InternetService': 'Fiber optic', 'OnlineSecurity': 'No', 'OnlineBackup': 'No', 'DeviceProtection': 'Yes', 'TechSupport': 'No', 'StreamingTV': 'No', 'StreamingMovies': 'No'}   \n3    {'InternetService': 'Fiber optic', 'OnlineSecurity': 'No', 'OnlineBackup': 'Yes', 'DeviceProtection': 'Yes', 'TechSupport': 'No', 'StreamingTV': 'Yes', 'StreamingMovies': 'Yes'}   \n4      {'InternetService': 'Fiber optic', 'OnlineSecurity': 'No', 'OnlineBackup': 'No', 'DeviceProtection': 'No', 'TechSupport': 'Yes', 'StreamingTV': 'Yes', 'StreamingMovies': 'No'}   \n5             {'InternetService': 'DSL', 'OnlineSecurity': 'No', 'OnlineBackup': 'No', 'DeviceProtection': 'No', 'TechSupport': 'Yes', 'StreamingTV': 'Yes', 'StreamingMovies': 'Yes'}   \n6  {'InternetService': 'Fiber optic', 'OnlineSecurity': 'Yes', 'OnlineBackup': 'Yes', 'DeviceProtection': 'Yes', 'TechSupport': 'Yes', 'StreamingTV': 'Yes', 'StreamingMovies': 'Yes'}   \n7      {'InternetService': 'Fiber optic', 'OnlineSecurity': 'Yes', 'OnlineBackup': 'No', 'DeviceProtection': 'No', 'TechSupport': 'Yes', 'StreamingTV': 'No', 'StreamingMovies': 'No'}   \n8               {'InternetService': 'DSL', 'OnlineSecurity': 'Yes', 'OnlineBackup': 'No', 'DeviceProtection': 'No', 'TechSupport': 'No', 'StreamingTV': 'No', 'StreamingMovies': 'No'}   \n9          {'InternetService': 'DSL', 'OnlineSecurity': 'Yes', 'OnlineBackup': 'Yes', 'DeviceProtection': 'Yes', 'TechSupport': 'Yes', 'StreamingTV': 'Yes', 'StreamingMovies': 'Yes'}   \n\n                                                                                                                                                  account  \n0                    {'Contract': 'One year', 'PaperlessBilling': 'Yes', 'PaymentMethod': 'Mailed check', 'Charges': {'Monthly': 65.6, 'Total': '593.3'}}  \n1               {'Contract': 'Month-to-month', 'PaperlessBilling': 'No', 'PaymentMethod': 'Mailed check', 'Charges': {'Monthly': 59.9, 'Total': '542.4'}}  \n2         {'Contract': 'Month-to-month', 'PaperlessBilling': 'Yes', 'PaymentMethod': 'Electronic check', 'Charges': {'Monthly': 73.9, 'Total': '280.85'}}  \n3        {'Contract': 'Month-to-month', 'PaperlessBilling': 'Yes', 'PaymentMethod': 'Electronic check', 'Charges': {'Monthly': 98.0, 'Total': '1237.85'}}  \n4              {'Contract': 'Month-to-month', 'PaperlessBilling': 'Yes', 'PaymentMethod': 'Mailed check', 'Charges': {'Monthly': 83.9, 'Total': '267.4'}}  \n5  {'Contract': 'Month-to-month', 'PaperlessBilling': 'Yes', 'PaymentMethod': 'Credit card (automatic)', 'Charges': {'Monthly': 69.4, 'Total': '571.45'}}  \n6    {'Contract': 'Two year', 'PaperlessBilling': 'Yes', 'PaymentMethod': 'Bank transfer (automatic)', 'Charges': {'Monthly': 109.7, 'Total': '7904.25'}}  \n7       {'Contract': 'Two year', 'PaperlessBilling': 'Yes', 'PaymentMethod': 'Credit card (automatic)', 'Charges': {'Monthly': 84.65, 'Total': '5377.8'}}  \n8         {'Contract': 'Month-to-month', 'PaperlessBilling': 'Yes', 'PaymentMethod': 'Electronic check', 'Charges': {'Monthly': 48.2, 'Total': '340.35'}}  \n9                  {'Contract': 'Two year', 'PaperlessBilling': 'Yes', 'PaymentMethod': 'Mailed check', 'Charges': {'Monthly': 90.45, 'Total': '5957.9'}}  ",
      "text/html": "<div>\n<style scoped>\n    .dataframe tbody tr th:only-of-type {\n        vertical-align: middle;\n    }\n\n    .dataframe tbody tr th {\n        vertical-align: top;\n    }\n\n    .dataframe thead th {\n        text-align: right;\n    }\n</style>\n<table border=\"1\" class=\"dataframe\">\n  <thead>\n    <tr style=\"text-align: right;\">\n      <th></th>\n      <th>customerID</th>\n      <th>Churn</th>\n      <th>customer</th>\n      <th>phone</th>\n      <th>internet</th>\n      <th>account</th>\n    </tr>\n  </thead>\n  <tbody>\n    <tr>\n      <th>0</th>\n      <td>0002-ORFBO</td>\n      <td>No</td>\n      <td>{'gender': 'Female', 'SeniorCitizen': 0, 'Partner': 'Yes', 'Dependents': 'Yes', 'tenure': 9}</td>\n      <td>{'PhoneService': 'Yes', 'MultipleLines': 'No'}</td>\n      <td>{'InternetService': 'DSL', 'OnlineSecurity': 'No', 'OnlineBackup': 'Yes', 'DeviceProtection': 'No', 'TechSupport': 'Yes', 'StreamingTV': 'Yes', 'StreamingMovies': 'No'}</td>\n      <td>{'Contract': 'One year', 'PaperlessBilling': 'Yes', 'PaymentMethod': 'Mailed check', 'Charges': {'Monthly': 65.6, 'Total': '593.3'}}</td>\n    </tr>\n    <tr>\n      <th>1</th>\n      <td>0003-MKNFE</td>\n      <td>No</td>\n      <td>{'gender': 'Male', 'SeniorCitizen': 0, 'Partner': 'No', 'Dependents': 'No', 'tenure': 9}</td>\n      <td>{'PhoneService': 'Yes', 'MultipleLines': 'Yes'}</td>\n      <td>{'InternetService': 'DSL', 'OnlineSecurity': 'No', 'OnlineBackup': 'No', 'DeviceProtection': 'No', 'TechSupport': 'No', 'StreamingTV': 'No', 'StreamingMovies': 'Yes'}</td>\n      <td>{'Contract': 'Month-to-month', 'PaperlessBilling': 'No', 'PaymentMethod': 'Mailed check', 'Charges': {'Monthly': 59.9, 'Total': '542.4'}}</td>\n    </tr>\n    <tr>\n      <th>2</th>\n      <td>0004-TLHLJ</td>\n      <td>Yes</td>\n      <td>{'gender': 'Male', 'SeniorCitizen': 0, 'Partner': 'No', 'Dependents': 'No', 'tenure': 4}</td>\n      <td>{'PhoneService': 'Yes', 'MultipleLines': 'No'}</td>\n      <td>{'InternetService': 'Fiber optic', 'OnlineSecurity': 'No', 'OnlineBackup': 'No', 'DeviceProtection': 'Yes', 'TechSupport': 'No', 'StreamingTV': 'No', 'StreamingMovies': 'No'}</td>\n      <td>{'Contract': 'Month-to-month', 'PaperlessBilling': 'Yes', 'PaymentMethod': 'Electronic check', 'Charges': {'Monthly': 73.9, 'Total': '280.85'}}</td>\n    </tr>\n    <tr>\n      <th>3</th>\n      <td>0011-IGKFF</td>\n      <td>Yes</td>\n      <td>{'gender': 'Male', 'SeniorCitizen': 1, 'Partner': 'Yes', 'Dependents': 'No', 'tenure': 13}</td>\n      <td>{'PhoneService': 'Yes', 'MultipleLines': 'No'}</td>\n      <td>{'InternetService': 'Fiber optic', 'OnlineSecurity': 'No', 'OnlineBackup': 'Yes', 'DeviceProtection': 'Yes', 'TechSupport': 'No', 'StreamingTV': 'Yes', 'StreamingMovies': 'Yes'}</td>\n      <td>{'Contract': 'Month-to-month', 'PaperlessBilling': 'Yes', 'PaymentMethod': 'Electronic check', 'Charges': {'Monthly': 98.0, 'Total': '1237.85'}}</td>\n    </tr>\n    <tr>\n      <th>4</th>\n      <td>0013-EXCHZ</td>\n      <td>Yes</td>\n      <td>{'gender': 'Female', 'SeniorCitizen': 1, 'Partner': 'Yes', 'Dependents': 'No', 'tenure': 3}</td>\n      <td>{'PhoneService': 'Yes', 'MultipleLines': 'No'}</td>\n      <td>{'InternetService': 'Fiber optic', 'OnlineSecurity': 'No', 'OnlineBackup': 'No', 'DeviceProtection': 'No', 'TechSupport': 'Yes', 'StreamingTV': 'Yes', 'StreamingMovies': 'No'}</td>\n      <td>{'Contract': 'Month-to-month', 'PaperlessBilling': 'Yes', 'PaymentMethod': 'Mailed check', 'Charges': {'Monthly': 83.9, 'Total': '267.4'}}</td>\n    </tr>\n    <tr>\n      <th>5</th>\n      <td>0013-MHZWF</td>\n      <td>No</td>\n      <td>{'gender': 'Female', 'SeniorCitizen': 0, 'Partner': 'No', 'Dependents': 'Yes', 'tenure': 9}</td>\n      <td>{'PhoneService': 'Yes', 'MultipleLines': 'No'}</td>\n      <td>{'InternetService': 'DSL', 'OnlineSecurity': 'No', 'OnlineBackup': 'No', 'DeviceProtection': 'No', 'TechSupport': 'Yes', 'StreamingTV': 'Yes', 'StreamingMovies': 'Yes'}</td>\n      <td>{'Contract': 'Month-to-month', 'PaperlessBilling': 'Yes', 'PaymentMethod': 'Credit card (automatic)', 'Charges': {'Monthly': 69.4, 'Total': '571.45'}}</td>\n    </tr>\n    <tr>\n      <th>6</th>\n      <td>0013-SMEOE</td>\n      <td>No</td>\n      <td>{'gender': 'Female', 'SeniorCitizen': 1, 'Partner': 'Yes', 'Dependents': 'No', 'tenure': 71}</td>\n      <td>{'PhoneService': 'Yes', 'MultipleLines': 'No'}</td>\n      <td>{'InternetService': 'Fiber optic', 'OnlineSecurity': 'Yes', 'OnlineBackup': 'Yes', 'DeviceProtection': 'Yes', 'TechSupport': 'Yes', 'StreamingTV': 'Yes', 'StreamingMovies': 'Yes'}</td>\n      <td>{'Contract': 'Two year', 'PaperlessBilling': 'Yes', 'PaymentMethod': 'Bank transfer (automatic)', 'Charges': {'Monthly': 109.7, 'Total': '7904.25'}}</td>\n    </tr>\n    <tr>\n      <th>7</th>\n      <td>0014-BMAQU</td>\n      <td>No</td>\n      <td>{'gender': 'Male', 'SeniorCitizen': 0, 'Partner': 'Yes', 'Dependents': 'No', 'tenure': 63}</td>\n      <td>{'PhoneService': 'Yes', 'MultipleLines': 'Yes'}</td>\n      <td>{'InternetService': 'Fiber optic', 'OnlineSecurity': 'Yes', 'OnlineBackup': 'No', 'DeviceProtection': 'No', 'TechSupport': 'Yes', 'StreamingTV': 'No', 'StreamingMovies': 'No'}</td>\n      <td>{'Contract': 'Two year', 'PaperlessBilling': 'Yes', 'PaymentMethod': 'Credit card (automatic)', 'Charges': {'Monthly': 84.65, 'Total': '5377.8'}}</td>\n    </tr>\n    <tr>\n      <th>8</th>\n      <td>0015-UOCOJ</td>\n      <td>No</td>\n      <td>{'gender': 'Female', 'SeniorCitizen': 1, 'Partner': 'No', 'Dependents': 'No', 'tenure': 7}</td>\n      <td>{'PhoneService': 'Yes', 'MultipleLines': 'No'}</td>\n      <td>{'InternetService': 'DSL', 'OnlineSecurity': 'Yes', 'OnlineBackup': 'No', 'DeviceProtection': 'No', 'TechSupport': 'No', 'StreamingTV': 'No', 'StreamingMovies': 'No'}</td>\n      <td>{'Contract': 'Month-to-month', 'PaperlessBilling': 'Yes', 'PaymentMethod': 'Electronic check', 'Charges': {'Monthly': 48.2, 'Total': '340.35'}}</td>\n    </tr>\n    <tr>\n      <th>9</th>\n      <td>0016-QLJIS</td>\n      <td>No</td>\n      <td>{'gender': 'Female', 'SeniorCitizen': 0, 'Partner': 'Yes', 'Dependents': 'Yes', 'tenure': 65}</td>\n      <td>{'PhoneService': 'Yes', 'MultipleLines': 'Yes'}</td>\n      <td>{'InternetService': 'DSL', 'OnlineSecurity': 'Yes', 'OnlineBackup': 'Yes', 'DeviceProtection': 'Yes', 'TechSupport': 'Yes', 'StreamingTV': 'Yes', 'StreamingMovies': 'Yes'}</td>\n      <td>{'Contract': 'Two year', 'PaperlessBilling': 'Yes', 'PaymentMethod': 'Mailed check', 'Charges': {'Monthly': 90.45, 'Total': '5957.9'}}</td>\n    </tr>\n  </tbody>\n</table>\n</div>"
     },
     "execution_count": 22,
     "metadata": {},
     "output_type": "execute_result"
    }
   ],
   "source": [
    "data_url = \"https://raw.githubusercontent.com/sthemonica/alura-voz/main/Dados/Telco-Customer-Churn.json\"\n",
    "\n",
    "data = pd.read_json(path_or_buf = data_url)\n",
    "\n",
    "data.head(10)"
   ],
   "metadata": {
    "collapsed": false,
    "pycharm": {
     "name": "#%%\n"
    }
   }
  },
  {
   "cell_type": "code",
   "execution_count": 23,
   "outputs": [
    {
     "data": {
      "text/plain": "  customer_id churn  \\\n0  0002-ORFBO    No   \n1  0003-MKNFE    No   \n2  0004-TLHLJ   Yes   \n3  0011-IGKFF   Yes   \n4  0013-EXCHZ   Yes   \n5  0013-MHZWF    No   \n6  0013-SMEOE    No   \n7  0014-BMAQU    No   \n8  0015-UOCOJ    No   \n9  0016-QLJIS    No   \n\n                                                                                        customer  \\\n0   {'gender': 'Female', 'SeniorCitizen': 0, 'Partner': 'Yes', 'Dependents': 'Yes', 'tenure': 9}   \n1       {'gender': 'Male', 'SeniorCitizen': 0, 'Partner': 'No', 'Dependents': 'No', 'tenure': 9}   \n2       {'gender': 'Male', 'SeniorCitizen': 0, 'Partner': 'No', 'Dependents': 'No', 'tenure': 4}   \n3     {'gender': 'Male', 'SeniorCitizen': 1, 'Partner': 'Yes', 'Dependents': 'No', 'tenure': 13}   \n4    {'gender': 'Female', 'SeniorCitizen': 1, 'Partner': 'Yes', 'Dependents': 'No', 'tenure': 3}   \n5    {'gender': 'Female', 'SeniorCitizen': 0, 'Partner': 'No', 'Dependents': 'Yes', 'tenure': 9}   \n6   {'gender': 'Female', 'SeniorCitizen': 1, 'Partner': 'Yes', 'Dependents': 'No', 'tenure': 71}   \n7     {'gender': 'Male', 'SeniorCitizen': 0, 'Partner': 'Yes', 'Dependents': 'No', 'tenure': 63}   \n8     {'gender': 'Female', 'SeniorCitizen': 1, 'Partner': 'No', 'Dependents': 'No', 'tenure': 7}   \n9  {'gender': 'Female', 'SeniorCitizen': 0, 'Partner': 'Yes', 'Dependents': 'Yes', 'tenure': 65}   \n\n                                             phone  \\\n0   {'PhoneService': 'Yes', 'MultipleLines': 'No'}   \n1  {'PhoneService': 'Yes', 'MultipleLines': 'Yes'}   \n2   {'PhoneService': 'Yes', 'MultipleLines': 'No'}   \n3   {'PhoneService': 'Yes', 'MultipleLines': 'No'}   \n4   {'PhoneService': 'Yes', 'MultipleLines': 'No'}   \n5   {'PhoneService': 'Yes', 'MultipleLines': 'No'}   \n6   {'PhoneService': 'Yes', 'MultipleLines': 'No'}   \n7  {'PhoneService': 'Yes', 'MultipleLines': 'Yes'}   \n8   {'PhoneService': 'Yes', 'MultipleLines': 'No'}   \n9  {'PhoneService': 'Yes', 'MultipleLines': 'Yes'}   \n\n                                                                                                                                                                              internet  \\\n0             {'InternetService': 'DSL', 'OnlineSecurity': 'No', 'OnlineBackup': 'Yes', 'DeviceProtection': 'No', 'TechSupport': 'Yes', 'StreamingTV': 'Yes', 'StreamingMovies': 'No'}   \n1               {'InternetService': 'DSL', 'OnlineSecurity': 'No', 'OnlineBackup': 'No', 'DeviceProtection': 'No', 'TechSupport': 'No', 'StreamingTV': 'No', 'StreamingMovies': 'Yes'}   \n2       {'InternetService': 'Fiber optic', 'OnlineSecurity': 'No', 'OnlineBackup': 'No', 'DeviceProtection': 'Yes', 'TechSupport': 'No', 'StreamingTV': 'No', 'StreamingMovies': 'No'}   \n3    {'InternetService': 'Fiber optic', 'OnlineSecurity': 'No', 'OnlineBackup': 'Yes', 'DeviceProtection': 'Yes', 'TechSupport': 'No', 'StreamingTV': 'Yes', 'StreamingMovies': 'Yes'}   \n4      {'InternetService': 'Fiber optic', 'OnlineSecurity': 'No', 'OnlineBackup': 'No', 'DeviceProtection': 'No', 'TechSupport': 'Yes', 'StreamingTV': 'Yes', 'StreamingMovies': 'No'}   \n5             {'InternetService': 'DSL', 'OnlineSecurity': 'No', 'OnlineBackup': 'No', 'DeviceProtection': 'No', 'TechSupport': 'Yes', 'StreamingTV': 'Yes', 'StreamingMovies': 'Yes'}   \n6  {'InternetService': 'Fiber optic', 'OnlineSecurity': 'Yes', 'OnlineBackup': 'Yes', 'DeviceProtection': 'Yes', 'TechSupport': 'Yes', 'StreamingTV': 'Yes', 'StreamingMovies': 'Yes'}   \n7      {'InternetService': 'Fiber optic', 'OnlineSecurity': 'Yes', 'OnlineBackup': 'No', 'DeviceProtection': 'No', 'TechSupport': 'Yes', 'StreamingTV': 'No', 'StreamingMovies': 'No'}   \n8               {'InternetService': 'DSL', 'OnlineSecurity': 'Yes', 'OnlineBackup': 'No', 'DeviceProtection': 'No', 'TechSupport': 'No', 'StreamingTV': 'No', 'StreamingMovies': 'No'}   \n9          {'InternetService': 'DSL', 'OnlineSecurity': 'Yes', 'OnlineBackup': 'Yes', 'DeviceProtection': 'Yes', 'TechSupport': 'Yes', 'StreamingTV': 'Yes', 'StreamingMovies': 'Yes'}   \n\n                                                                                                                                                  account  \n0                    {'Contract': 'One year', 'PaperlessBilling': 'Yes', 'PaymentMethod': 'Mailed check', 'Charges': {'Monthly': 65.6, 'Total': '593.3'}}  \n1               {'Contract': 'Month-to-month', 'PaperlessBilling': 'No', 'PaymentMethod': 'Mailed check', 'Charges': {'Monthly': 59.9, 'Total': '542.4'}}  \n2         {'Contract': 'Month-to-month', 'PaperlessBilling': 'Yes', 'PaymentMethod': 'Electronic check', 'Charges': {'Monthly': 73.9, 'Total': '280.85'}}  \n3        {'Contract': 'Month-to-month', 'PaperlessBilling': 'Yes', 'PaymentMethod': 'Electronic check', 'Charges': {'Monthly': 98.0, 'Total': '1237.85'}}  \n4              {'Contract': 'Month-to-month', 'PaperlessBilling': 'Yes', 'PaymentMethod': 'Mailed check', 'Charges': {'Monthly': 83.9, 'Total': '267.4'}}  \n5  {'Contract': 'Month-to-month', 'PaperlessBilling': 'Yes', 'PaymentMethod': 'Credit card (automatic)', 'Charges': {'Monthly': 69.4, 'Total': '571.45'}}  \n6    {'Contract': 'Two year', 'PaperlessBilling': 'Yes', 'PaymentMethod': 'Bank transfer (automatic)', 'Charges': {'Monthly': 109.7, 'Total': '7904.25'}}  \n7       {'Contract': 'Two year', 'PaperlessBilling': 'Yes', 'PaymentMethod': 'Credit card (automatic)', 'Charges': {'Monthly': 84.65, 'Total': '5377.8'}}  \n8         {'Contract': 'Month-to-month', 'PaperlessBilling': 'Yes', 'PaymentMethod': 'Electronic check', 'Charges': {'Monthly': 48.2, 'Total': '340.35'}}  \n9                  {'Contract': 'Two year', 'PaperlessBilling': 'Yes', 'PaymentMethod': 'Mailed check', 'Charges': {'Monthly': 90.45, 'Total': '5957.9'}}  ",
      "text/html": "<div>\n<style scoped>\n    .dataframe tbody tr th:only-of-type {\n        vertical-align: middle;\n    }\n\n    .dataframe tbody tr th {\n        vertical-align: top;\n    }\n\n    .dataframe thead th {\n        text-align: right;\n    }\n</style>\n<table border=\"1\" class=\"dataframe\">\n  <thead>\n    <tr style=\"text-align: right;\">\n      <th></th>\n      <th>customer_id</th>\n      <th>churn</th>\n      <th>customer</th>\n      <th>phone</th>\n      <th>internet</th>\n      <th>account</th>\n    </tr>\n  </thead>\n  <tbody>\n    <tr>\n      <th>0</th>\n      <td>0002-ORFBO</td>\n      <td>No</td>\n      <td>{'gender': 'Female', 'SeniorCitizen': 0, 'Partner': 'Yes', 'Dependents': 'Yes', 'tenure': 9}</td>\n      <td>{'PhoneService': 'Yes', 'MultipleLines': 'No'}</td>\n      <td>{'InternetService': 'DSL', 'OnlineSecurity': 'No', 'OnlineBackup': 'Yes', 'DeviceProtection': 'No', 'TechSupport': 'Yes', 'StreamingTV': 'Yes', 'StreamingMovies': 'No'}</td>\n      <td>{'Contract': 'One year', 'PaperlessBilling': 'Yes', 'PaymentMethod': 'Mailed check', 'Charges': {'Monthly': 65.6, 'Total': '593.3'}}</td>\n    </tr>\n    <tr>\n      <th>1</th>\n      <td>0003-MKNFE</td>\n      <td>No</td>\n      <td>{'gender': 'Male', 'SeniorCitizen': 0, 'Partner': 'No', 'Dependents': 'No', 'tenure': 9}</td>\n      <td>{'PhoneService': 'Yes', 'MultipleLines': 'Yes'}</td>\n      <td>{'InternetService': 'DSL', 'OnlineSecurity': 'No', 'OnlineBackup': 'No', 'DeviceProtection': 'No', 'TechSupport': 'No', 'StreamingTV': 'No', 'StreamingMovies': 'Yes'}</td>\n      <td>{'Contract': 'Month-to-month', 'PaperlessBilling': 'No', 'PaymentMethod': 'Mailed check', 'Charges': {'Monthly': 59.9, 'Total': '542.4'}}</td>\n    </tr>\n    <tr>\n      <th>2</th>\n      <td>0004-TLHLJ</td>\n      <td>Yes</td>\n      <td>{'gender': 'Male', 'SeniorCitizen': 0, 'Partner': 'No', 'Dependents': 'No', 'tenure': 4}</td>\n      <td>{'PhoneService': 'Yes', 'MultipleLines': 'No'}</td>\n      <td>{'InternetService': 'Fiber optic', 'OnlineSecurity': 'No', 'OnlineBackup': 'No', 'DeviceProtection': 'Yes', 'TechSupport': 'No', 'StreamingTV': 'No', 'StreamingMovies': 'No'}</td>\n      <td>{'Contract': 'Month-to-month', 'PaperlessBilling': 'Yes', 'PaymentMethod': 'Electronic check', 'Charges': {'Monthly': 73.9, 'Total': '280.85'}}</td>\n    </tr>\n    <tr>\n      <th>3</th>\n      <td>0011-IGKFF</td>\n      <td>Yes</td>\n      <td>{'gender': 'Male', 'SeniorCitizen': 1, 'Partner': 'Yes', 'Dependents': 'No', 'tenure': 13}</td>\n      <td>{'PhoneService': 'Yes', 'MultipleLines': 'No'}</td>\n      <td>{'InternetService': 'Fiber optic', 'OnlineSecurity': 'No', 'OnlineBackup': 'Yes', 'DeviceProtection': 'Yes', 'TechSupport': 'No', 'StreamingTV': 'Yes', 'StreamingMovies': 'Yes'}</td>\n      <td>{'Contract': 'Month-to-month', 'PaperlessBilling': 'Yes', 'PaymentMethod': 'Electronic check', 'Charges': {'Monthly': 98.0, 'Total': '1237.85'}}</td>\n    </tr>\n    <tr>\n      <th>4</th>\n      <td>0013-EXCHZ</td>\n      <td>Yes</td>\n      <td>{'gender': 'Female', 'SeniorCitizen': 1, 'Partner': 'Yes', 'Dependents': 'No', 'tenure': 3}</td>\n      <td>{'PhoneService': 'Yes', 'MultipleLines': 'No'}</td>\n      <td>{'InternetService': 'Fiber optic', 'OnlineSecurity': 'No', 'OnlineBackup': 'No', 'DeviceProtection': 'No', 'TechSupport': 'Yes', 'StreamingTV': 'Yes', 'StreamingMovies': 'No'}</td>\n      <td>{'Contract': 'Month-to-month', 'PaperlessBilling': 'Yes', 'PaymentMethod': 'Mailed check', 'Charges': {'Monthly': 83.9, 'Total': '267.4'}}</td>\n    </tr>\n    <tr>\n      <th>5</th>\n      <td>0013-MHZWF</td>\n      <td>No</td>\n      <td>{'gender': 'Female', 'SeniorCitizen': 0, 'Partner': 'No', 'Dependents': 'Yes', 'tenure': 9}</td>\n      <td>{'PhoneService': 'Yes', 'MultipleLines': 'No'}</td>\n      <td>{'InternetService': 'DSL', 'OnlineSecurity': 'No', 'OnlineBackup': 'No', 'DeviceProtection': 'No', 'TechSupport': 'Yes', 'StreamingTV': 'Yes', 'StreamingMovies': 'Yes'}</td>\n      <td>{'Contract': 'Month-to-month', 'PaperlessBilling': 'Yes', 'PaymentMethod': 'Credit card (automatic)', 'Charges': {'Monthly': 69.4, 'Total': '571.45'}}</td>\n    </tr>\n    <tr>\n      <th>6</th>\n      <td>0013-SMEOE</td>\n      <td>No</td>\n      <td>{'gender': 'Female', 'SeniorCitizen': 1, 'Partner': 'Yes', 'Dependents': 'No', 'tenure': 71}</td>\n      <td>{'PhoneService': 'Yes', 'MultipleLines': 'No'}</td>\n      <td>{'InternetService': 'Fiber optic', 'OnlineSecurity': 'Yes', 'OnlineBackup': 'Yes', 'DeviceProtection': 'Yes', 'TechSupport': 'Yes', 'StreamingTV': 'Yes', 'StreamingMovies': 'Yes'}</td>\n      <td>{'Contract': 'Two year', 'PaperlessBilling': 'Yes', 'PaymentMethod': 'Bank transfer (automatic)', 'Charges': {'Monthly': 109.7, 'Total': '7904.25'}}</td>\n    </tr>\n    <tr>\n      <th>7</th>\n      <td>0014-BMAQU</td>\n      <td>No</td>\n      <td>{'gender': 'Male', 'SeniorCitizen': 0, 'Partner': 'Yes', 'Dependents': 'No', 'tenure': 63}</td>\n      <td>{'PhoneService': 'Yes', 'MultipleLines': 'Yes'}</td>\n      <td>{'InternetService': 'Fiber optic', 'OnlineSecurity': 'Yes', 'OnlineBackup': 'No', 'DeviceProtection': 'No', 'TechSupport': 'Yes', 'StreamingTV': 'No', 'StreamingMovies': 'No'}</td>\n      <td>{'Contract': 'Two year', 'PaperlessBilling': 'Yes', 'PaymentMethod': 'Credit card (automatic)', 'Charges': {'Monthly': 84.65, 'Total': '5377.8'}}</td>\n    </tr>\n    <tr>\n      <th>8</th>\n      <td>0015-UOCOJ</td>\n      <td>No</td>\n      <td>{'gender': 'Female', 'SeniorCitizen': 1, 'Partner': 'No', 'Dependents': 'No', 'tenure': 7}</td>\n      <td>{'PhoneService': 'Yes', 'MultipleLines': 'No'}</td>\n      <td>{'InternetService': 'DSL', 'OnlineSecurity': 'Yes', 'OnlineBackup': 'No', 'DeviceProtection': 'No', 'TechSupport': 'No', 'StreamingTV': 'No', 'StreamingMovies': 'No'}</td>\n      <td>{'Contract': 'Month-to-month', 'PaperlessBilling': 'Yes', 'PaymentMethod': 'Electronic check', 'Charges': {'Monthly': 48.2, 'Total': '340.35'}}</td>\n    </tr>\n    <tr>\n      <th>9</th>\n      <td>0016-QLJIS</td>\n      <td>No</td>\n      <td>{'gender': 'Female', 'SeniorCitizen': 0, 'Partner': 'Yes', 'Dependents': 'Yes', 'tenure': 65}</td>\n      <td>{'PhoneService': 'Yes', 'MultipleLines': 'Yes'}</td>\n      <td>{'InternetService': 'DSL', 'OnlineSecurity': 'Yes', 'OnlineBackup': 'Yes', 'DeviceProtection': 'Yes', 'TechSupport': 'Yes', 'StreamingTV': 'Yes', 'StreamingMovies': 'Yes'}</td>\n      <td>{'Contract': 'Two year', 'PaperlessBilling': 'Yes', 'PaymentMethod': 'Mailed check', 'Charges': {'Monthly': 90.45, 'Total': '5957.9'}}</td>\n    </tr>\n  </tbody>\n</table>\n</div>"
     },
     "execution_count": 23,
     "metadata": {},
     "output_type": "execute_result"
    }
   ],
   "source": [
    "# Standardizing the \"CustomerID\" and \"Churn\" columns' names.\n",
    "\n",
    "data = data.rename({\"customerID\": \"customer_id\", \"Churn\": \"churn\"}, axis = 1)\n",
    "\n",
    "data.head(10)"
   ],
   "metadata": {
    "collapsed": false,
    "pycharm": {
     "name": "#%%\n"
    }
   }
  },
  {
   "cell_type": "markdown",
   "source": [
    "---\n",
    "# Normalizing the DataFrame\n",
    "\n",
    "As I had seen that the \"customer\", \"phone\", \"internet\" and \"account\" columns all had more information in dictionaries, my next step was to extract this data into separate columns for 2 reasons:\n",
    "1. to improve visibility and readability of the DataFrame and;\n",
    "2. to allow for operations and analysis to be made with the data, which would have been impossible in the form of dictionaries."
   ],
   "metadata": {
    "collapsed": false,
    "pycharm": {
     "name": "#%% md\n"
    }
   }
  },
  {
   "cell_type": "code",
   "execution_count": 24,
   "outputs": [
    {
     "data": {
      "text/plain": "dict"
     },
     "execution_count": 24,
     "metadata": {},
     "output_type": "execute_result"
    }
   ],
   "source": [
    "# As we check the data entries for all these categories, we see that they really are dictionaries.\n",
    "# Because of that, we can extract the data inside each of them through the method json_nrmalize().\n",
    "\n",
    "type(data[\"customer\"][0])"
   ],
   "metadata": {
    "collapsed": false,
    "pycharm": {
     "name": "#%%\n"
    }
   }
  },
  {
   "cell_type": "markdown",
   "source": [
    "### Information under \"customer\"."
   ],
   "metadata": {
    "collapsed": false,
    "pycharm": {
     "name": "#%% md\n"
    }
   }
  },
  {
   "cell_type": "code",
   "execution_count": 25,
   "outputs": [
    {
     "data": {
      "text/plain": "Index(['gender', 'SeniorCitizen', 'Partner', 'Dependents', 'tenure'], dtype='object')"
     },
     "execution_count": 25,
     "metadata": {},
     "output_type": "execute_result"
    }
   ],
   "source": [
    "data_customer = pd.json_normalize(data = data[\"customer\"], sep = \"_\")\n",
    "\n",
    "data_customer.columns"
   ],
   "metadata": {
    "collapsed": false,
    "pycharm": {
     "name": "#%%\n"
    }
   }
  },
  {
   "cell_type": "code",
   "execution_count": 26,
   "outputs": [
    {
     "data": {
      "text/plain": "      gender  senior_citizen partner dependents  tenure\n0     Female               0     Yes        Yes       9\n1       Male               0      No         No       9\n2       Male               0      No         No       4\n3       Male               1     Yes         No      13\n4     Female               1     Yes         No       3\n...      ...             ...     ...        ...     ...\n7262  Female               0      No         No      13\n7263    Male               0     Yes         No      22\n7264    Male               0      No         No       2\n7265    Male               0     Yes        Yes      67\n7266    Male               0     Yes        Yes      63\n\n[7267 rows x 5 columns]",
      "text/html": "<div>\n<style scoped>\n    .dataframe tbody tr th:only-of-type {\n        vertical-align: middle;\n    }\n\n    .dataframe tbody tr th {\n        vertical-align: top;\n    }\n\n    .dataframe thead th {\n        text-align: right;\n    }\n</style>\n<table border=\"1\" class=\"dataframe\">\n  <thead>\n    <tr style=\"text-align: right;\">\n      <th></th>\n      <th>gender</th>\n      <th>senior_citizen</th>\n      <th>partner</th>\n      <th>dependents</th>\n      <th>tenure</th>\n    </tr>\n  </thead>\n  <tbody>\n    <tr>\n      <th>0</th>\n      <td>Female</td>\n      <td>0</td>\n      <td>Yes</td>\n      <td>Yes</td>\n      <td>9</td>\n    </tr>\n    <tr>\n      <th>1</th>\n      <td>Male</td>\n      <td>0</td>\n      <td>No</td>\n      <td>No</td>\n      <td>9</td>\n    </tr>\n    <tr>\n      <th>2</th>\n      <td>Male</td>\n      <td>0</td>\n      <td>No</td>\n      <td>No</td>\n      <td>4</td>\n    </tr>\n    <tr>\n      <th>3</th>\n      <td>Male</td>\n      <td>1</td>\n      <td>Yes</td>\n      <td>No</td>\n      <td>13</td>\n    </tr>\n    <tr>\n      <th>4</th>\n      <td>Female</td>\n      <td>1</td>\n      <td>Yes</td>\n      <td>No</td>\n      <td>3</td>\n    </tr>\n    <tr>\n      <th>...</th>\n      <td>...</td>\n      <td>...</td>\n      <td>...</td>\n      <td>...</td>\n      <td>...</td>\n    </tr>\n    <tr>\n      <th>7262</th>\n      <td>Female</td>\n      <td>0</td>\n      <td>No</td>\n      <td>No</td>\n      <td>13</td>\n    </tr>\n    <tr>\n      <th>7263</th>\n      <td>Male</td>\n      <td>0</td>\n      <td>Yes</td>\n      <td>No</td>\n      <td>22</td>\n    </tr>\n    <tr>\n      <th>7264</th>\n      <td>Male</td>\n      <td>0</td>\n      <td>No</td>\n      <td>No</td>\n      <td>2</td>\n    </tr>\n    <tr>\n      <th>7265</th>\n      <td>Male</td>\n      <td>0</td>\n      <td>Yes</td>\n      <td>Yes</td>\n      <td>67</td>\n    </tr>\n    <tr>\n      <th>7266</th>\n      <td>Male</td>\n      <td>0</td>\n      <td>Yes</td>\n      <td>Yes</td>\n      <td>63</td>\n    </tr>\n  </tbody>\n</table>\n<p>7267 rows × 5 columns</p>\n</div>"
     },
     "execution_count": 26,
     "metadata": {},
     "output_type": "execute_result"
    }
   ],
   "source": [
    "# Standardizing the columns' names.\n",
    "\n",
    "data_customer = data_customer.rename({\"SeniorCitizen\": 'senior_citizen', \"Partner\": 'partner', \"Dependents\": 'dependents'}, axis = 1)\n",
    "\n",
    "data_customer"
   ],
   "metadata": {
    "collapsed": false,
    "pycharm": {
     "name": "#%%\n"
    }
   }
  },
  {
   "cell_type": "markdown",
   "source": [
    "### Information under \"phone\"."
   ],
   "metadata": {
    "collapsed": false,
    "pycharm": {
     "name": "#%% md\n"
    }
   }
  },
  {
   "cell_type": "code",
   "execution_count": 27,
   "outputs": [
    {
     "data": {
      "text/plain": "Index(['PhoneService', 'MultipleLines'], dtype='object')"
     },
     "execution_count": 27,
     "metadata": {},
     "output_type": "execute_result"
    }
   ],
   "source": [
    "data_phone = pd.json_normalize(data = data[\"phone\"], sep = \"_\")\n",
    "\n",
    "data_phone.columns"
   ],
   "metadata": {
    "collapsed": false,
    "pycharm": {
     "name": "#%%\n"
    }
   }
  },
  {
   "cell_type": "code",
   "execution_count": 28,
   "outputs": [
    {
     "data": {
      "text/plain": "     phone_service    multiple_lines\n0              Yes                No\n1              Yes               Yes\n2              Yes                No\n3              Yes                No\n4              Yes                No\n...            ...               ...\n7262           Yes                No\n7263           Yes               Yes\n7264           Yes                No\n7265           Yes                No\n7266            No  No phone service\n\n[7267 rows x 2 columns]",
      "text/html": "<div>\n<style scoped>\n    .dataframe tbody tr th:only-of-type {\n        vertical-align: middle;\n    }\n\n    .dataframe tbody tr th {\n        vertical-align: top;\n    }\n\n    .dataframe thead th {\n        text-align: right;\n    }\n</style>\n<table border=\"1\" class=\"dataframe\">\n  <thead>\n    <tr style=\"text-align: right;\">\n      <th></th>\n      <th>phone_service</th>\n      <th>multiple_lines</th>\n    </tr>\n  </thead>\n  <tbody>\n    <tr>\n      <th>0</th>\n      <td>Yes</td>\n      <td>No</td>\n    </tr>\n    <tr>\n      <th>1</th>\n      <td>Yes</td>\n      <td>Yes</td>\n    </tr>\n    <tr>\n      <th>2</th>\n      <td>Yes</td>\n      <td>No</td>\n    </tr>\n    <tr>\n      <th>3</th>\n      <td>Yes</td>\n      <td>No</td>\n    </tr>\n    <tr>\n      <th>4</th>\n      <td>Yes</td>\n      <td>No</td>\n    </tr>\n    <tr>\n      <th>...</th>\n      <td>...</td>\n      <td>...</td>\n    </tr>\n    <tr>\n      <th>7262</th>\n      <td>Yes</td>\n      <td>No</td>\n    </tr>\n    <tr>\n      <th>7263</th>\n      <td>Yes</td>\n      <td>Yes</td>\n    </tr>\n    <tr>\n      <th>7264</th>\n      <td>Yes</td>\n      <td>No</td>\n    </tr>\n    <tr>\n      <th>7265</th>\n      <td>Yes</td>\n      <td>No</td>\n    </tr>\n    <tr>\n      <th>7266</th>\n      <td>No</td>\n      <td>No phone service</td>\n    </tr>\n  </tbody>\n</table>\n<p>7267 rows × 2 columns</p>\n</div>"
     },
     "execution_count": 28,
     "metadata": {},
     "output_type": "execute_result"
    }
   ],
   "source": [
    "# Standardizing the columns' names.\n",
    "\n",
    "data_phone = data_phone.rename({\"PhoneService\": \"phone_service\", \"MultipleLines\": \"multiple_lines\"}, axis = 1)\n",
    "\n",
    "data_phone"
   ],
   "metadata": {
    "collapsed": false,
    "pycharm": {
     "name": "#%%\n"
    }
   }
  },
  {
   "cell_type": "markdown",
   "source": [
    "### Information under \"internet\"."
   ],
   "metadata": {
    "collapsed": false,
    "pycharm": {
     "name": "#%% md\n"
    }
   }
  },
  {
   "cell_type": "code",
   "execution_count": 29,
   "outputs": [
    {
     "data": {
      "text/plain": "Index(['InternetService', 'OnlineSecurity', 'OnlineBackup', 'DeviceProtection',\n       'TechSupport', 'StreamingTV', 'StreamingMovies'],\n      dtype='object')"
     },
     "execution_count": 29,
     "metadata": {},
     "output_type": "execute_result"
    }
   ],
   "source": [
    "data_internet = pd.json_normalize(data= data[\"internet\"], sep = \"_\")\n",
    "\n",
    "data_internet.columns"
   ],
   "metadata": {
    "collapsed": false,
    "pycharm": {
     "name": "#%%\n"
    }
   }
  },
  {
   "cell_type": "code",
   "execution_count": 30,
   "outputs": [
    {
     "data": {
      "text/plain": "     internet_service online_security online_backup device_protection  \\\n0                 DSL              No           Yes                No   \n1                 DSL              No            No                No   \n2         Fiber optic              No            No               Yes   \n3         Fiber optic              No           Yes               Yes   \n4         Fiber optic              No            No                No   \n...               ...             ...           ...               ...   \n7262              DSL             Yes            No                No   \n7263      Fiber optic              No            No                No   \n7264              DSL              No           Yes                No   \n7265              DSL             Yes            No               Yes   \n7266              DSL             Yes           Yes               Yes   \n\n     tech_support streaming_tv streaming_movies  \n0             Yes          Yes               No  \n1              No           No              Yes  \n2              No           No               No  \n3              No          Yes              Yes  \n4             Yes          Yes               No  \n...           ...          ...              ...  \n7262          Yes           No               No  \n7263           No           No              Yes  \n7264           No           No               No  \n7265          Yes           No              Yes  \n7266           No          Yes              Yes  \n\n[7267 rows x 7 columns]",
      "text/html": "<div>\n<style scoped>\n    .dataframe tbody tr th:only-of-type {\n        vertical-align: middle;\n    }\n\n    .dataframe tbody tr th {\n        vertical-align: top;\n    }\n\n    .dataframe thead th {\n        text-align: right;\n    }\n</style>\n<table border=\"1\" class=\"dataframe\">\n  <thead>\n    <tr style=\"text-align: right;\">\n      <th></th>\n      <th>internet_service</th>\n      <th>online_security</th>\n      <th>online_backup</th>\n      <th>device_protection</th>\n      <th>tech_support</th>\n      <th>streaming_tv</th>\n      <th>streaming_movies</th>\n    </tr>\n  </thead>\n  <tbody>\n    <tr>\n      <th>0</th>\n      <td>DSL</td>\n      <td>No</td>\n      <td>Yes</td>\n      <td>No</td>\n      <td>Yes</td>\n      <td>Yes</td>\n      <td>No</td>\n    </tr>\n    <tr>\n      <th>1</th>\n      <td>DSL</td>\n      <td>No</td>\n      <td>No</td>\n      <td>No</td>\n      <td>No</td>\n      <td>No</td>\n      <td>Yes</td>\n    </tr>\n    <tr>\n      <th>2</th>\n      <td>Fiber optic</td>\n      <td>No</td>\n      <td>No</td>\n      <td>Yes</td>\n      <td>No</td>\n      <td>No</td>\n      <td>No</td>\n    </tr>\n    <tr>\n      <th>3</th>\n      <td>Fiber optic</td>\n      <td>No</td>\n      <td>Yes</td>\n      <td>Yes</td>\n      <td>No</td>\n      <td>Yes</td>\n      <td>Yes</td>\n    </tr>\n    <tr>\n      <th>4</th>\n      <td>Fiber optic</td>\n      <td>No</td>\n      <td>No</td>\n      <td>No</td>\n      <td>Yes</td>\n      <td>Yes</td>\n      <td>No</td>\n    </tr>\n    <tr>\n      <th>...</th>\n      <td>...</td>\n      <td>...</td>\n      <td>...</td>\n      <td>...</td>\n      <td>...</td>\n      <td>...</td>\n      <td>...</td>\n    </tr>\n    <tr>\n      <th>7262</th>\n      <td>DSL</td>\n      <td>Yes</td>\n      <td>No</td>\n      <td>No</td>\n      <td>Yes</td>\n      <td>No</td>\n      <td>No</td>\n    </tr>\n    <tr>\n      <th>7263</th>\n      <td>Fiber optic</td>\n      <td>No</td>\n      <td>No</td>\n      <td>No</td>\n      <td>No</td>\n      <td>No</td>\n      <td>Yes</td>\n    </tr>\n    <tr>\n      <th>7264</th>\n      <td>DSL</td>\n      <td>No</td>\n      <td>Yes</td>\n      <td>No</td>\n      <td>No</td>\n      <td>No</td>\n      <td>No</td>\n    </tr>\n    <tr>\n      <th>7265</th>\n      <td>DSL</td>\n      <td>Yes</td>\n      <td>No</td>\n      <td>Yes</td>\n      <td>Yes</td>\n      <td>No</td>\n      <td>Yes</td>\n    </tr>\n    <tr>\n      <th>7266</th>\n      <td>DSL</td>\n      <td>Yes</td>\n      <td>Yes</td>\n      <td>Yes</td>\n      <td>No</td>\n      <td>Yes</td>\n      <td>Yes</td>\n    </tr>\n  </tbody>\n</table>\n<p>7267 rows × 7 columns</p>\n</div>"
     },
     "execution_count": 30,
     "metadata": {},
     "output_type": "execute_result"
    }
   ],
   "source": [
    "# Standardizing the columns' names.\n",
    "\n",
    "data_internet = data_internet.rename({\"InternetService\": \"internet_service\", \"OnlineSecurity\": \"online_security\", \"OnlineBackup\": \"online_backup\", \"DeviceProtection\": \"device_protection\", \"TechSupport\": \"tech_support\", \"StreamingTV\": \"streaming_tv\", \"StreamingMovies\": \"streaming_movies\"}, axis = 1)\n",
    "\n",
    "data_internet"
   ],
   "metadata": {
    "collapsed": false,
    "pycharm": {
     "name": "#%%\n"
    }
   }
  },
  {
   "cell_type": "markdown",
   "source": [
    "### Information under \"account\"."
   ],
   "metadata": {
    "collapsed": false,
    "pycharm": {
     "name": "#%% md\n"
    }
   }
  },
  {
   "cell_type": "code",
   "execution_count": 31,
   "outputs": [
    {
     "data": {
      "text/plain": "Index(['Contract', 'PaperlessBilling', 'PaymentMethod', 'Charges.Monthly',\n       'Charges.Total'],\n      dtype='object')"
     },
     "execution_count": 31,
     "metadata": {},
     "output_type": "execute_result"
    }
   ],
   "source": [
    "data_account = pd.json_normalize(data = data[\"account\"])\n",
    "\n",
    "data_account.columns"
   ],
   "metadata": {
    "collapsed": false,
    "pycharm": {
     "name": "#%%\n"
    }
   }
  },
  {
   "cell_type": "code",
   "execution_count": 32,
   "outputs": [
    {
     "data": {
      "text/plain": "            contract paperless_billing    payment_method  charges_monthly  \\\n0           One year               Yes      Mailed check            65.60   \n1     Month-to-month                No      Mailed check            59.90   \n2     Month-to-month               Yes  Electronic check            73.90   \n3     Month-to-month               Yes  Electronic check            98.00   \n4     Month-to-month               Yes      Mailed check            83.90   \n...              ...               ...               ...              ...   \n7262        One year                No      Mailed check            55.15   \n7263  Month-to-month               Yes  Electronic check            85.10   \n7264  Month-to-month               Yes      Mailed check            50.30   \n7265        Two year                No      Mailed check            67.85   \n7266        Two year                No  Electronic check            59.00   \n\n     charges_total  \n0            593.3  \n1            542.4  \n2           280.85  \n3          1237.85  \n4            267.4  \n...            ...  \n7262         742.9  \n7263        1873.7  \n7264         92.75  \n7265       4627.65  \n7266        3707.6  \n\n[7267 rows x 5 columns]",
      "text/html": "<div>\n<style scoped>\n    .dataframe tbody tr th:only-of-type {\n        vertical-align: middle;\n    }\n\n    .dataframe tbody tr th {\n        vertical-align: top;\n    }\n\n    .dataframe thead th {\n        text-align: right;\n    }\n</style>\n<table border=\"1\" class=\"dataframe\">\n  <thead>\n    <tr style=\"text-align: right;\">\n      <th></th>\n      <th>contract</th>\n      <th>paperless_billing</th>\n      <th>payment_method</th>\n      <th>charges_monthly</th>\n      <th>charges_total</th>\n    </tr>\n  </thead>\n  <tbody>\n    <tr>\n      <th>0</th>\n      <td>One year</td>\n      <td>Yes</td>\n      <td>Mailed check</td>\n      <td>65.60</td>\n      <td>593.3</td>\n    </tr>\n    <tr>\n      <th>1</th>\n      <td>Month-to-month</td>\n      <td>No</td>\n      <td>Mailed check</td>\n      <td>59.90</td>\n      <td>542.4</td>\n    </tr>\n    <tr>\n      <th>2</th>\n      <td>Month-to-month</td>\n      <td>Yes</td>\n      <td>Electronic check</td>\n      <td>73.90</td>\n      <td>280.85</td>\n    </tr>\n    <tr>\n      <th>3</th>\n      <td>Month-to-month</td>\n      <td>Yes</td>\n      <td>Electronic check</td>\n      <td>98.00</td>\n      <td>1237.85</td>\n    </tr>\n    <tr>\n      <th>4</th>\n      <td>Month-to-month</td>\n      <td>Yes</td>\n      <td>Mailed check</td>\n      <td>83.90</td>\n      <td>267.4</td>\n    </tr>\n    <tr>\n      <th>...</th>\n      <td>...</td>\n      <td>...</td>\n      <td>...</td>\n      <td>...</td>\n      <td>...</td>\n    </tr>\n    <tr>\n      <th>7262</th>\n      <td>One year</td>\n      <td>No</td>\n      <td>Mailed check</td>\n      <td>55.15</td>\n      <td>742.9</td>\n    </tr>\n    <tr>\n      <th>7263</th>\n      <td>Month-to-month</td>\n      <td>Yes</td>\n      <td>Electronic check</td>\n      <td>85.10</td>\n      <td>1873.7</td>\n    </tr>\n    <tr>\n      <th>7264</th>\n      <td>Month-to-month</td>\n      <td>Yes</td>\n      <td>Mailed check</td>\n      <td>50.30</td>\n      <td>92.75</td>\n    </tr>\n    <tr>\n      <th>7265</th>\n      <td>Two year</td>\n      <td>No</td>\n      <td>Mailed check</td>\n      <td>67.85</td>\n      <td>4627.65</td>\n    </tr>\n    <tr>\n      <th>7266</th>\n      <td>Two year</td>\n      <td>No</td>\n      <td>Electronic check</td>\n      <td>59.00</td>\n      <td>3707.6</td>\n    </tr>\n  </tbody>\n</table>\n<p>7267 rows × 5 columns</p>\n</div>"
     },
     "execution_count": 32,
     "metadata": {},
     "output_type": "execute_result"
    }
   ],
   "source": [
    "# Standardizing the columns' names.\n",
    "\n",
    "data_account = data_account.rename({\"Contract\": \"contract\", \"PaperlessBilling\": \"paperless_billing\", \"PaymentMethod\": \"payment_method\", \"Charges.Monthly\": \"charges_monthly\", \"Charges.Total\": \"charges_total\"}, axis = 1)\n",
    "\n",
    "data_account"
   ],
   "metadata": {
    "collapsed": false,
    "pycharm": {
     "name": "#%%\n"
    }
   }
  },
  {
   "cell_type": "markdown",
   "source": [
    "### Concatenating all subsets into the original DataFrame laterally."
   ],
   "metadata": {
    "collapsed": false,
    "pycharm": {
     "name": "#%% md\n"
    }
   }
  },
  {
   "cell_type": "code",
   "execution_count": 33,
   "outputs": [
    {
     "data": {
      "text/plain": "  customer_id churn  gender  senior_citizen partner dependents  tenure  \\\n0  0002-ORFBO    No  Female               0     Yes        Yes       9   \n1  0003-MKNFE    No    Male               0      No         No       9   \n2  0004-TLHLJ   Yes    Male               0      No         No       4   \n3  0011-IGKFF   Yes    Male               1     Yes         No      13   \n4  0013-EXCHZ   Yes  Female               1     Yes         No       3   \n5  0013-MHZWF    No  Female               0      No        Yes       9   \n6  0013-SMEOE    No  Female               1     Yes         No      71   \n7  0014-BMAQU    No    Male               0     Yes         No      63   \n8  0015-UOCOJ    No  Female               1      No         No       7   \n9  0016-QLJIS    No  Female               0     Yes        Yes      65   \n\n  phone_service multiple_lines internet_service online_security online_backup  \\\n0           Yes             No              DSL              No           Yes   \n1           Yes            Yes              DSL              No            No   \n2           Yes             No      Fiber optic              No            No   \n3           Yes             No      Fiber optic              No           Yes   \n4           Yes             No      Fiber optic              No            No   \n5           Yes             No              DSL              No            No   \n6           Yes             No      Fiber optic             Yes           Yes   \n7           Yes            Yes      Fiber optic             Yes            No   \n8           Yes             No              DSL             Yes            No   \n9           Yes            Yes              DSL             Yes           Yes   \n\n  device_protection tech_support streaming_tv streaming_movies  \\\n0                No          Yes          Yes               No   \n1                No           No           No              Yes   \n2               Yes           No           No               No   \n3               Yes           No          Yes              Yes   \n4                No          Yes          Yes               No   \n5                No          Yes          Yes              Yes   \n6               Yes          Yes          Yes              Yes   \n7                No          Yes           No               No   \n8                No           No           No               No   \n9               Yes          Yes          Yes              Yes   \n\n         contract paperless_billing             payment_method  \\\n0        One year               Yes               Mailed check   \n1  Month-to-month                No               Mailed check   \n2  Month-to-month               Yes           Electronic check   \n3  Month-to-month               Yes           Electronic check   \n4  Month-to-month               Yes               Mailed check   \n5  Month-to-month               Yes    Credit card (automatic)   \n6        Two year               Yes  Bank transfer (automatic)   \n7        Two year               Yes    Credit card (automatic)   \n8  Month-to-month               Yes           Electronic check   \n9        Two year               Yes               Mailed check   \n\n   charges_monthly charges_total  \n0            65.60         593.3  \n1            59.90         542.4  \n2            73.90        280.85  \n3            98.00       1237.85  \n4            83.90         267.4  \n5            69.40        571.45  \n6           109.70       7904.25  \n7            84.65        5377.8  \n8            48.20        340.35  \n9            90.45        5957.9  ",
      "text/html": "<div>\n<style scoped>\n    .dataframe tbody tr th:only-of-type {\n        vertical-align: middle;\n    }\n\n    .dataframe tbody tr th {\n        vertical-align: top;\n    }\n\n    .dataframe thead th {\n        text-align: right;\n    }\n</style>\n<table border=\"1\" class=\"dataframe\">\n  <thead>\n    <tr style=\"text-align: right;\">\n      <th></th>\n      <th>customer_id</th>\n      <th>churn</th>\n      <th>gender</th>\n      <th>senior_citizen</th>\n      <th>partner</th>\n      <th>dependents</th>\n      <th>tenure</th>\n      <th>phone_service</th>\n      <th>multiple_lines</th>\n      <th>internet_service</th>\n      <th>online_security</th>\n      <th>online_backup</th>\n      <th>device_protection</th>\n      <th>tech_support</th>\n      <th>streaming_tv</th>\n      <th>streaming_movies</th>\n      <th>contract</th>\n      <th>paperless_billing</th>\n      <th>payment_method</th>\n      <th>charges_monthly</th>\n      <th>charges_total</th>\n    </tr>\n  </thead>\n  <tbody>\n    <tr>\n      <th>0</th>\n      <td>0002-ORFBO</td>\n      <td>No</td>\n      <td>Female</td>\n      <td>0</td>\n      <td>Yes</td>\n      <td>Yes</td>\n      <td>9</td>\n      <td>Yes</td>\n      <td>No</td>\n      <td>DSL</td>\n      <td>No</td>\n      <td>Yes</td>\n      <td>No</td>\n      <td>Yes</td>\n      <td>Yes</td>\n      <td>No</td>\n      <td>One year</td>\n      <td>Yes</td>\n      <td>Mailed check</td>\n      <td>65.60</td>\n      <td>593.3</td>\n    </tr>\n    <tr>\n      <th>1</th>\n      <td>0003-MKNFE</td>\n      <td>No</td>\n      <td>Male</td>\n      <td>0</td>\n      <td>No</td>\n      <td>No</td>\n      <td>9</td>\n      <td>Yes</td>\n      <td>Yes</td>\n      <td>DSL</td>\n      <td>No</td>\n      <td>No</td>\n      <td>No</td>\n      <td>No</td>\n      <td>No</td>\n      <td>Yes</td>\n      <td>Month-to-month</td>\n      <td>No</td>\n      <td>Mailed check</td>\n      <td>59.90</td>\n      <td>542.4</td>\n    </tr>\n    <tr>\n      <th>2</th>\n      <td>0004-TLHLJ</td>\n      <td>Yes</td>\n      <td>Male</td>\n      <td>0</td>\n      <td>No</td>\n      <td>No</td>\n      <td>4</td>\n      <td>Yes</td>\n      <td>No</td>\n      <td>Fiber optic</td>\n      <td>No</td>\n      <td>No</td>\n      <td>Yes</td>\n      <td>No</td>\n      <td>No</td>\n      <td>No</td>\n      <td>Month-to-month</td>\n      <td>Yes</td>\n      <td>Electronic check</td>\n      <td>73.90</td>\n      <td>280.85</td>\n    </tr>\n    <tr>\n      <th>3</th>\n      <td>0011-IGKFF</td>\n      <td>Yes</td>\n      <td>Male</td>\n      <td>1</td>\n      <td>Yes</td>\n      <td>No</td>\n      <td>13</td>\n      <td>Yes</td>\n      <td>No</td>\n      <td>Fiber optic</td>\n      <td>No</td>\n      <td>Yes</td>\n      <td>Yes</td>\n      <td>No</td>\n      <td>Yes</td>\n      <td>Yes</td>\n      <td>Month-to-month</td>\n      <td>Yes</td>\n      <td>Electronic check</td>\n      <td>98.00</td>\n      <td>1237.85</td>\n    </tr>\n    <tr>\n      <th>4</th>\n      <td>0013-EXCHZ</td>\n      <td>Yes</td>\n      <td>Female</td>\n      <td>1</td>\n      <td>Yes</td>\n      <td>No</td>\n      <td>3</td>\n      <td>Yes</td>\n      <td>No</td>\n      <td>Fiber optic</td>\n      <td>No</td>\n      <td>No</td>\n      <td>No</td>\n      <td>Yes</td>\n      <td>Yes</td>\n      <td>No</td>\n      <td>Month-to-month</td>\n      <td>Yes</td>\n      <td>Mailed check</td>\n      <td>83.90</td>\n      <td>267.4</td>\n    </tr>\n    <tr>\n      <th>5</th>\n      <td>0013-MHZWF</td>\n      <td>No</td>\n      <td>Female</td>\n      <td>0</td>\n      <td>No</td>\n      <td>Yes</td>\n      <td>9</td>\n      <td>Yes</td>\n      <td>No</td>\n      <td>DSL</td>\n      <td>No</td>\n      <td>No</td>\n      <td>No</td>\n      <td>Yes</td>\n      <td>Yes</td>\n      <td>Yes</td>\n      <td>Month-to-month</td>\n      <td>Yes</td>\n      <td>Credit card (automatic)</td>\n      <td>69.40</td>\n      <td>571.45</td>\n    </tr>\n    <tr>\n      <th>6</th>\n      <td>0013-SMEOE</td>\n      <td>No</td>\n      <td>Female</td>\n      <td>1</td>\n      <td>Yes</td>\n      <td>No</td>\n      <td>71</td>\n      <td>Yes</td>\n      <td>No</td>\n      <td>Fiber optic</td>\n      <td>Yes</td>\n      <td>Yes</td>\n      <td>Yes</td>\n      <td>Yes</td>\n      <td>Yes</td>\n      <td>Yes</td>\n      <td>Two year</td>\n      <td>Yes</td>\n      <td>Bank transfer (automatic)</td>\n      <td>109.70</td>\n      <td>7904.25</td>\n    </tr>\n    <tr>\n      <th>7</th>\n      <td>0014-BMAQU</td>\n      <td>No</td>\n      <td>Male</td>\n      <td>0</td>\n      <td>Yes</td>\n      <td>No</td>\n      <td>63</td>\n      <td>Yes</td>\n      <td>Yes</td>\n      <td>Fiber optic</td>\n      <td>Yes</td>\n      <td>No</td>\n      <td>No</td>\n      <td>Yes</td>\n      <td>No</td>\n      <td>No</td>\n      <td>Two year</td>\n      <td>Yes</td>\n      <td>Credit card (automatic)</td>\n      <td>84.65</td>\n      <td>5377.8</td>\n    </tr>\n    <tr>\n      <th>8</th>\n      <td>0015-UOCOJ</td>\n      <td>No</td>\n      <td>Female</td>\n      <td>1</td>\n      <td>No</td>\n      <td>No</td>\n      <td>7</td>\n      <td>Yes</td>\n      <td>No</td>\n      <td>DSL</td>\n      <td>Yes</td>\n      <td>No</td>\n      <td>No</td>\n      <td>No</td>\n      <td>No</td>\n      <td>No</td>\n      <td>Month-to-month</td>\n      <td>Yes</td>\n      <td>Electronic check</td>\n      <td>48.20</td>\n      <td>340.35</td>\n    </tr>\n    <tr>\n      <th>9</th>\n      <td>0016-QLJIS</td>\n      <td>No</td>\n      <td>Female</td>\n      <td>0</td>\n      <td>Yes</td>\n      <td>Yes</td>\n      <td>65</td>\n      <td>Yes</td>\n      <td>Yes</td>\n      <td>DSL</td>\n      <td>Yes</td>\n      <td>Yes</td>\n      <td>Yes</td>\n      <td>Yes</td>\n      <td>Yes</td>\n      <td>Yes</td>\n      <td>Two year</td>\n      <td>Yes</td>\n      <td>Mailed check</td>\n      <td>90.45</td>\n      <td>5957.9</td>\n    </tr>\n  </tbody>\n</table>\n</div>"
     },
     "execution_count": 33,
     "metadata": {},
     "output_type": "execute_result"
    }
   ],
   "source": [
    "# The \"customer\", \"phone\", \"internet\" and \"account\" columns of the original DataFrame have been left out deliberately.\n",
    "\n",
    "data = pd.concat([data[[\"customer_id\", \"churn\"]], data_customer, data_phone, data_internet,data_account], axis = 1)\n",
    "\n",
    "data.head(10)"
   ],
   "metadata": {
    "collapsed": false,
    "pycharm": {
     "name": "#%%\n"
    }
   }
  },
  {
   "cell_type": "markdown",
   "source": [
    "---\n",
    "# Understanding the dataset information"
   ],
   "metadata": {
    "collapsed": false,
    "pycharm": {
     "name": "#%% md\n"
    }
   },
   "outputs": []
  },
  {
   "cell_type": "code",
   "execution_count": 34,
   "outputs": [
    {
     "name": "stdout",
     "output_type": "stream",
     "text": [
      "The dataset currently has 7267 customer entries and 21 different pieces of information about each of them\n"
     ]
    }
   ],
   "source": [
    "print(f\"The dataset currently has {data.shape[0]} customer entries and {data.shape[1]} different pieces of information about each of them\")"
   ],
   "metadata": {
    "collapsed": false,
    "pycharm": {
     "name": "#%%\n"
    }
   }
  },
  {
   "cell_type": "code",
   "execution_count": 34,
   "outputs": [],
   "source": [],
   "metadata": {
    "collapsed": false,
    "pycharm": {
     "name": "#%%\n"
    }
   }
  },
  {
   "cell_type": "markdown",
   "source": [
    "---\n",
    "# Analysing data types"
   ],
   "metadata": {
    "collapsed": false,
    "pycharm": {
     "name": "#%% md\n"
    }
   },
   "outputs": []
  },
  {
   "cell_type": "code",
   "execution_count": 34,
   "outputs": [],
   "source": [],
   "metadata": {
    "collapsed": false,
    "pycharm": {
     "name": "#%%\n"
    }
   }
  },
  {
   "cell_type": "code",
   "execution_count": 34,
   "outputs": [],
   "source": [],
   "metadata": {
    "collapsed": false,
    "pycharm": {
     "name": "#%%\n"
    }
   }
  },
  {
   "cell_type": "markdown",
   "source": [
    "---\n",
    "# Checking for inconsistencies in the data"
   ],
   "metadata": {
    "collapsed": false,
    "pycharm": {
     "name": "#%% md\n"
    }
   },
   "outputs": []
  },
  {
   "cell_type": "code",
   "execution_count": 34,
   "outputs": [],
   "source": [],
   "metadata": {
    "collapsed": false,
    "pycharm": {
     "name": "#%%\n"
    }
   }
  },
  {
   "cell_type": "code",
   "execution_count": 34,
   "outputs": [],
   "source": [],
   "metadata": {
    "collapsed": false,
    "pycharm": {
     "name": "#%%\n"
    }
   }
  },
  {
   "cell_type": "markdown",
   "source": [
    "---\n",
    "# Fixing data incosistencies"
   ],
   "metadata": {
    "collapsed": false,
    "pycharm": {
     "name": "#%% md\n"
    }
   },
   "outputs": []
  },
  {
   "cell_type": "code",
   "execution_count": 34,
   "outputs": [],
   "source": [],
   "metadata": {
    "collapsed": false,
    "pycharm": {
     "name": "#%%\n"
    }
   }
  },
  {
   "cell_type": "code",
   "execution_count": 34,
   "outputs": [],
   "source": [],
   "metadata": {
    "collapsed": false,
    "pycharm": {
     "name": "#%%\n"
    }
   }
  },
  {
   "cell_type": "markdown",
   "source": [
    "---\n",
    "# Creating daily account columns"
   ],
   "metadata": {
    "collapsed": false,
    "pycharm": {
     "name": "#%% md\n"
    }
   }
  },
  {
   "cell_type": "code",
   "execution_count": 34,
   "outputs": [],
   "source": [],
   "metadata": {
    "collapsed": false,
    "pycharm": {
     "name": "#%%\n"
    }
   }
  },
  {
   "cell_type": "code",
   "execution_count": 34,
   "outputs": [],
   "source": [],
   "metadata": {
    "collapsed": false,
    "pycharm": {
     "name": "#%%\n"
    }
   }
  }
 ],
 "metadata": {
  "kernelspec": {
   "display_name": "Python 3",
   "language": "python",
   "name": "python3"
  },
  "language_info": {
   "codemirror_mode": {
    "name": "ipython",
    "version": 2
   },
   "file_extension": ".py",
   "mimetype": "text/x-python",
   "name": "python",
   "nbconvert_exporter": "python",
   "pygments_lexer": "ipython2",
   "version": "2.7.6"
  }
 },
 "nbformat": 4,
 "nbformat_minor": 0
}