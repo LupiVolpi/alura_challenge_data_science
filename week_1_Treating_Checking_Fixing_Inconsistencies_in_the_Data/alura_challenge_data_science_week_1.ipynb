{
 "cells": [
  {
   "cell_type": "markdown",
   "source": [
    "# Alura Challenge - Data Science - Week 1\n",
    "\n",
    "Guilherme Lupinari Volpato\n",
    "E-mail: lv.gui97@gmail.com\n",
    "Github: https://github.com/LupiVolpi\n",
    "\n",
    "### *Week 1*\n",
    "- You have been hired as a data scientist by the *telecom operator Alura Voz*. In the initial meeting with the people responsible for the company's *sales area*, the importance of reducing the Customer Evasion Rate, known as *Churn Rate*, was explained. Basically, the Churn Rate indicates how much the company lost revenue or customers in a period of time.\n",
    "\n",
    "\n",
    "### *Challenges:*\n",
    "- Understand the dataset information\n",
    "- Analyse data types\n",
    "- Check for inconsistencies in the data\n",
    "- Fix data incosistencies\n",
    "- Create daily account columns\n",
    "\n",
    "\n",
    "### *Data index:*\n",
    "- *customerID:* each customer's unique identification number.\n",
    "- *Churn:* whether the client has left the company or not.\n",
    "- *gender:* Male or Female (according to the database).\n",
    "- *SeniorCitizen:* whether a client is 65 years of age or older.\n",
    "- *Partner:* whether the client is partnered or not.\n",
    "- *Dependents:* whether the client has got dependents or not.\n",
    "- *tenure:* duration (in months) of the client's contract with the company.\n",
    "- *PhoneService:* whether the client has hired the companie's phone service.\n",
    "- *MultipleLines:* whether the client has hired more than one phone line.\n",
    "- *InternetService:* whether the client has hired a provider of internet.\n",
    "- *OnlineSecurity:* whether the client has hired an additional online security membership.\n",
    "- *OnlineBackup:* whether the client has hired an additional online backup membership.\n",
    "- *DeviceProtection:* whether the client has hired an additional device protection membership.\n",
    "- *TechSupport:* whether the client has hired an additional technical support membership (with decreased waiting time for services).\n",
    "- *StreamingTV:* whether the client has hired the cable TV service.\n",
    "- *StreamingMovies:* whether the client has hired a movie streaming membership.\n",
    "- *Contract:* the type of the client's contract.\n",
    "- *PaperlessBilling:* whether the client prefers to receive his billings online.\n",
    "- *PaymentMethod:* the client's prefered method of payment.\n",
    "- *Charges.Monthly:* the monthly sum of the client's hired services and membreships.\n",
    "- *Charges.Total:* the total sum of the client's hired services and memberships."
   ],
   "metadata": {
    "collapsed": false,
    "pycharm": {
     "name": "#%% md\n"
    }
   }
  },
  {
   "cell_type": "markdown",
   "source": [
    "---\n",
    "# Importing libraries and setting preferences"
   ],
   "metadata": {
    "collapsed": false,
    "pycharm": {
     "name": "#%% md\n"
    }
   }
  },
  {
   "cell_type": "code",
   "execution_count": 1,
   "outputs": [],
   "source": [
    "import pandas as pd\n",
    "\n",
    "pd.set_option(\"display.max_rows\", 100) # Pandas will display 100 DataFrame rows at most.\n",
    "pd.set_option(\"display.max_columns\", None) # Pandas won't collapse DataFrame columns visualization.\n",
    "pd.set_option(\"display.max_colwidth\", None) # Pandas will display all the information in each column, regardless of how large the values are."
   ],
   "metadata": {
    "collapsed": false,
    "pycharm": {
     "name": "#%%\n"
    }
   }
  },
  {
   "cell_type": "markdown",
   "source": [
    "---\n",
    "# Understanding the dataset"
   ],
   "metadata": {
    "collapsed": false,
    "pycharm": {
     "name": "#%% md\n"
    }
   }
  },
  {
   "cell_type": "markdown",
   "source": [
    "##### For the purposes of understanding the layout of the dataset used for this project before actually loading it, I used the Online JSON Viewer website, which can be found [here](http://jsonviewer.stack.hu/)"
   ],
   "metadata": {
    "collapsed": false,
    "pycharm": {
     "name": "#%% md\n"
    }
   }
  },
  {
   "cell_type": "markdown",
   "source": [
    "---\n",
    "# Loading the dataset."
   ],
   "metadata": {
    "collapsed": false,
    "pycharm": {
     "name": "#%% md\n"
    }
   }
  },
  {
   "cell_type": "code",
   "execution_count": 2,
   "outputs": [
    {
     "data": {
      "text/plain": "   customerID Churn  \\\n0  0002-ORFBO    No   \n1  0003-MKNFE    No   \n2  0004-TLHLJ   Yes   \n3  0011-IGKFF   Yes   \n4  0013-EXCHZ   Yes   \n5  0013-MHZWF    No   \n6  0013-SMEOE    No   \n7  0014-BMAQU    No   \n8  0015-UOCOJ    No   \n9  0016-QLJIS    No   \n\n                                                                                        customer  \\\n0   {'gender': 'Female', 'SeniorCitizen': 0, 'Partner': 'Yes', 'Dependents': 'Yes', 'tenure': 9}   \n1       {'gender': 'Male', 'SeniorCitizen': 0, 'Partner': 'No', 'Dependents': 'No', 'tenure': 9}   \n2       {'gender': 'Male', 'SeniorCitizen': 0, 'Partner': 'No', 'Dependents': 'No', 'tenure': 4}   \n3     {'gender': 'Male', 'SeniorCitizen': 1, 'Partner': 'Yes', 'Dependents': 'No', 'tenure': 13}   \n4    {'gender': 'Female', 'SeniorCitizen': 1, 'Partner': 'Yes', 'Dependents': 'No', 'tenure': 3}   \n5    {'gender': 'Female', 'SeniorCitizen': 0, 'Partner': 'No', 'Dependents': 'Yes', 'tenure': 9}   \n6   {'gender': 'Female', 'SeniorCitizen': 1, 'Partner': 'Yes', 'Dependents': 'No', 'tenure': 71}   \n7     {'gender': 'Male', 'SeniorCitizen': 0, 'Partner': 'Yes', 'Dependents': 'No', 'tenure': 63}   \n8     {'gender': 'Female', 'SeniorCitizen': 1, 'Partner': 'No', 'Dependents': 'No', 'tenure': 7}   \n9  {'gender': 'Female', 'SeniorCitizen': 0, 'Partner': 'Yes', 'Dependents': 'Yes', 'tenure': 65}   \n\n                                             phone  \\\n0   {'PhoneService': 'Yes', 'MultipleLines': 'No'}   \n1  {'PhoneService': 'Yes', 'MultipleLines': 'Yes'}   \n2   {'PhoneService': 'Yes', 'MultipleLines': 'No'}   \n3   {'PhoneService': 'Yes', 'MultipleLines': 'No'}   \n4   {'PhoneService': 'Yes', 'MultipleLines': 'No'}   \n5   {'PhoneService': 'Yes', 'MultipleLines': 'No'}   \n6   {'PhoneService': 'Yes', 'MultipleLines': 'No'}   \n7  {'PhoneService': 'Yes', 'MultipleLines': 'Yes'}   \n8   {'PhoneService': 'Yes', 'MultipleLines': 'No'}   \n9  {'PhoneService': 'Yes', 'MultipleLines': 'Yes'}   \n\n                                                                                                                                                                              internet  \\\n0             {'InternetService': 'DSL', 'OnlineSecurity': 'No', 'OnlineBackup': 'Yes', 'DeviceProtection': 'No', 'TechSupport': 'Yes', 'StreamingTV': 'Yes', 'StreamingMovies': 'No'}   \n1               {'InternetService': 'DSL', 'OnlineSecurity': 'No', 'OnlineBackup': 'No', 'DeviceProtection': 'No', 'TechSupport': 'No', 'StreamingTV': 'No', 'StreamingMovies': 'Yes'}   \n2       {'InternetService': 'Fiber optic', 'OnlineSecurity': 'No', 'OnlineBackup': 'No', 'DeviceProtection': 'Yes', 'TechSupport': 'No', 'StreamingTV': 'No', 'StreamingMovies': 'No'}   \n3    {'InternetService': 'Fiber optic', 'OnlineSecurity': 'No', 'OnlineBackup': 'Yes', 'DeviceProtection': 'Yes', 'TechSupport': 'No', 'StreamingTV': 'Yes', 'StreamingMovies': 'Yes'}   \n4      {'InternetService': 'Fiber optic', 'OnlineSecurity': 'No', 'OnlineBackup': 'No', 'DeviceProtection': 'No', 'TechSupport': 'Yes', 'StreamingTV': 'Yes', 'StreamingMovies': 'No'}   \n5             {'InternetService': 'DSL', 'OnlineSecurity': 'No', 'OnlineBackup': 'No', 'DeviceProtection': 'No', 'TechSupport': 'Yes', 'StreamingTV': 'Yes', 'StreamingMovies': 'Yes'}   \n6  {'InternetService': 'Fiber optic', 'OnlineSecurity': 'Yes', 'OnlineBackup': 'Yes', 'DeviceProtection': 'Yes', 'TechSupport': 'Yes', 'StreamingTV': 'Yes', 'StreamingMovies': 'Yes'}   \n7      {'InternetService': 'Fiber optic', 'OnlineSecurity': 'Yes', 'OnlineBackup': 'No', 'DeviceProtection': 'No', 'TechSupport': 'Yes', 'StreamingTV': 'No', 'StreamingMovies': 'No'}   \n8               {'InternetService': 'DSL', 'OnlineSecurity': 'Yes', 'OnlineBackup': 'No', 'DeviceProtection': 'No', 'TechSupport': 'No', 'StreamingTV': 'No', 'StreamingMovies': 'No'}   \n9          {'InternetService': 'DSL', 'OnlineSecurity': 'Yes', 'OnlineBackup': 'Yes', 'DeviceProtection': 'Yes', 'TechSupport': 'Yes', 'StreamingTV': 'Yes', 'StreamingMovies': 'Yes'}   \n\n                                                                                                                                                  account  \n0                    {'Contract': 'One year', 'PaperlessBilling': 'Yes', 'PaymentMethod': 'Mailed check', 'Charges': {'Monthly': 65.6, 'Total': '593.3'}}  \n1               {'Contract': 'Month-to-month', 'PaperlessBilling': 'No', 'PaymentMethod': 'Mailed check', 'Charges': {'Monthly': 59.9, 'Total': '542.4'}}  \n2         {'Contract': 'Month-to-month', 'PaperlessBilling': 'Yes', 'PaymentMethod': 'Electronic check', 'Charges': {'Monthly': 73.9, 'Total': '280.85'}}  \n3        {'Contract': 'Month-to-month', 'PaperlessBilling': 'Yes', 'PaymentMethod': 'Electronic check', 'Charges': {'Monthly': 98.0, 'Total': '1237.85'}}  \n4              {'Contract': 'Month-to-month', 'PaperlessBilling': 'Yes', 'PaymentMethod': 'Mailed check', 'Charges': {'Monthly': 83.9, 'Total': '267.4'}}  \n5  {'Contract': 'Month-to-month', 'PaperlessBilling': 'Yes', 'PaymentMethod': 'Credit card (automatic)', 'Charges': {'Monthly': 69.4, 'Total': '571.45'}}  \n6    {'Contract': 'Two year', 'PaperlessBilling': 'Yes', 'PaymentMethod': 'Bank transfer (automatic)', 'Charges': {'Monthly': 109.7, 'Total': '7904.25'}}  \n7       {'Contract': 'Two year', 'PaperlessBilling': 'Yes', 'PaymentMethod': 'Credit card (automatic)', 'Charges': {'Monthly': 84.65, 'Total': '5377.8'}}  \n8         {'Contract': 'Month-to-month', 'PaperlessBilling': 'Yes', 'PaymentMethod': 'Electronic check', 'Charges': {'Monthly': 48.2, 'Total': '340.35'}}  \n9                  {'Contract': 'Two year', 'PaperlessBilling': 'Yes', 'PaymentMethod': 'Mailed check', 'Charges': {'Monthly': 90.45, 'Total': '5957.9'}}  ",
      "text/html": "<div>\n<style scoped>\n    .dataframe tbody tr th:only-of-type {\n        vertical-align: middle;\n    }\n\n    .dataframe tbody tr th {\n        vertical-align: top;\n    }\n\n    .dataframe thead th {\n        text-align: right;\n    }\n</style>\n<table border=\"1\" class=\"dataframe\">\n  <thead>\n    <tr style=\"text-align: right;\">\n      <th></th>\n      <th>customerID</th>\n      <th>Churn</th>\n      <th>customer</th>\n      <th>phone</th>\n      <th>internet</th>\n      <th>account</th>\n    </tr>\n  </thead>\n  <tbody>\n    <tr>\n      <th>0</th>\n      <td>0002-ORFBO</td>\n      <td>No</td>\n      <td>{'gender': 'Female', 'SeniorCitizen': 0, 'Partner': 'Yes', 'Dependents': 'Yes', 'tenure': 9}</td>\n      <td>{'PhoneService': 'Yes', 'MultipleLines': 'No'}</td>\n      <td>{'InternetService': 'DSL', 'OnlineSecurity': 'No', 'OnlineBackup': 'Yes', 'DeviceProtection': 'No', 'TechSupport': 'Yes', 'StreamingTV': 'Yes', 'StreamingMovies': 'No'}</td>\n      <td>{'Contract': 'One year', 'PaperlessBilling': 'Yes', 'PaymentMethod': 'Mailed check', 'Charges': {'Monthly': 65.6, 'Total': '593.3'}}</td>\n    </tr>\n    <tr>\n      <th>1</th>\n      <td>0003-MKNFE</td>\n      <td>No</td>\n      <td>{'gender': 'Male', 'SeniorCitizen': 0, 'Partner': 'No', 'Dependents': 'No', 'tenure': 9}</td>\n      <td>{'PhoneService': 'Yes', 'MultipleLines': 'Yes'}</td>\n      <td>{'InternetService': 'DSL', 'OnlineSecurity': 'No', 'OnlineBackup': 'No', 'DeviceProtection': 'No', 'TechSupport': 'No', 'StreamingTV': 'No', 'StreamingMovies': 'Yes'}</td>\n      <td>{'Contract': 'Month-to-month', 'PaperlessBilling': 'No', 'PaymentMethod': 'Mailed check', 'Charges': {'Monthly': 59.9, 'Total': '542.4'}}</td>\n    </tr>\n    <tr>\n      <th>2</th>\n      <td>0004-TLHLJ</td>\n      <td>Yes</td>\n      <td>{'gender': 'Male', 'SeniorCitizen': 0, 'Partner': 'No', 'Dependents': 'No', 'tenure': 4}</td>\n      <td>{'PhoneService': 'Yes', 'MultipleLines': 'No'}</td>\n      <td>{'InternetService': 'Fiber optic', 'OnlineSecurity': 'No', 'OnlineBackup': 'No', 'DeviceProtection': 'Yes', 'TechSupport': 'No', 'StreamingTV': 'No', 'StreamingMovies': 'No'}</td>\n      <td>{'Contract': 'Month-to-month', 'PaperlessBilling': 'Yes', 'PaymentMethod': 'Electronic check', 'Charges': {'Monthly': 73.9, 'Total': '280.85'}}</td>\n    </tr>\n    <tr>\n      <th>3</th>\n      <td>0011-IGKFF</td>\n      <td>Yes</td>\n      <td>{'gender': 'Male', 'SeniorCitizen': 1, 'Partner': 'Yes', 'Dependents': 'No', 'tenure': 13}</td>\n      <td>{'PhoneService': 'Yes', 'MultipleLines': 'No'}</td>\n      <td>{'InternetService': 'Fiber optic', 'OnlineSecurity': 'No', 'OnlineBackup': 'Yes', 'DeviceProtection': 'Yes', 'TechSupport': 'No', 'StreamingTV': 'Yes', 'StreamingMovies': 'Yes'}</td>\n      <td>{'Contract': 'Month-to-month', 'PaperlessBilling': 'Yes', 'PaymentMethod': 'Electronic check', 'Charges': {'Monthly': 98.0, 'Total': '1237.85'}}</td>\n    </tr>\n    <tr>\n      <th>4</th>\n      <td>0013-EXCHZ</td>\n      <td>Yes</td>\n      <td>{'gender': 'Female', 'SeniorCitizen': 1, 'Partner': 'Yes', 'Dependents': 'No', 'tenure': 3}</td>\n      <td>{'PhoneService': 'Yes', 'MultipleLines': 'No'}</td>\n      <td>{'InternetService': 'Fiber optic', 'OnlineSecurity': 'No', 'OnlineBackup': 'No', 'DeviceProtection': 'No', 'TechSupport': 'Yes', 'StreamingTV': 'Yes', 'StreamingMovies': 'No'}</td>\n      <td>{'Contract': 'Month-to-month', 'PaperlessBilling': 'Yes', 'PaymentMethod': 'Mailed check', 'Charges': {'Monthly': 83.9, 'Total': '267.4'}}</td>\n    </tr>\n    <tr>\n      <th>5</th>\n      <td>0013-MHZWF</td>\n      <td>No</td>\n      <td>{'gender': 'Female', 'SeniorCitizen': 0, 'Partner': 'No', 'Dependents': 'Yes', 'tenure': 9}</td>\n      <td>{'PhoneService': 'Yes', 'MultipleLines': 'No'}</td>\n      <td>{'InternetService': 'DSL', 'OnlineSecurity': 'No', 'OnlineBackup': 'No', 'DeviceProtection': 'No', 'TechSupport': 'Yes', 'StreamingTV': 'Yes', 'StreamingMovies': 'Yes'}</td>\n      <td>{'Contract': 'Month-to-month', 'PaperlessBilling': 'Yes', 'PaymentMethod': 'Credit card (automatic)', 'Charges': {'Monthly': 69.4, 'Total': '571.45'}}</td>\n    </tr>\n    <tr>\n      <th>6</th>\n      <td>0013-SMEOE</td>\n      <td>No</td>\n      <td>{'gender': 'Female', 'SeniorCitizen': 1, 'Partner': 'Yes', 'Dependents': 'No', 'tenure': 71}</td>\n      <td>{'PhoneService': 'Yes', 'MultipleLines': 'No'}</td>\n      <td>{'InternetService': 'Fiber optic', 'OnlineSecurity': 'Yes', 'OnlineBackup': 'Yes', 'DeviceProtection': 'Yes', 'TechSupport': 'Yes', 'StreamingTV': 'Yes', 'StreamingMovies': 'Yes'}</td>\n      <td>{'Contract': 'Two year', 'PaperlessBilling': 'Yes', 'PaymentMethod': 'Bank transfer (automatic)', 'Charges': {'Monthly': 109.7, 'Total': '7904.25'}}</td>\n    </tr>\n    <tr>\n      <th>7</th>\n      <td>0014-BMAQU</td>\n      <td>No</td>\n      <td>{'gender': 'Male', 'SeniorCitizen': 0, 'Partner': 'Yes', 'Dependents': 'No', 'tenure': 63}</td>\n      <td>{'PhoneService': 'Yes', 'MultipleLines': 'Yes'}</td>\n      <td>{'InternetService': 'Fiber optic', 'OnlineSecurity': 'Yes', 'OnlineBackup': 'No', 'DeviceProtection': 'No', 'TechSupport': 'Yes', 'StreamingTV': 'No', 'StreamingMovies': 'No'}</td>\n      <td>{'Contract': 'Two year', 'PaperlessBilling': 'Yes', 'PaymentMethod': 'Credit card (automatic)', 'Charges': {'Monthly': 84.65, 'Total': '5377.8'}}</td>\n    </tr>\n    <tr>\n      <th>8</th>\n      <td>0015-UOCOJ</td>\n      <td>No</td>\n      <td>{'gender': 'Female', 'SeniorCitizen': 1, 'Partner': 'No', 'Dependents': 'No', 'tenure': 7}</td>\n      <td>{'PhoneService': 'Yes', 'MultipleLines': 'No'}</td>\n      <td>{'InternetService': 'DSL', 'OnlineSecurity': 'Yes', 'OnlineBackup': 'No', 'DeviceProtection': 'No', 'TechSupport': 'No', 'StreamingTV': 'No', 'StreamingMovies': 'No'}</td>\n      <td>{'Contract': 'Month-to-month', 'PaperlessBilling': 'Yes', 'PaymentMethod': 'Electronic check', 'Charges': {'Monthly': 48.2, 'Total': '340.35'}}</td>\n    </tr>\n    <tr>\n      <th>9</th>\n      <td>0016-QLJIS</td>\n      <td>No</td>\n      <td>{'gender': 'Female', 'SeniorCitizen': 0, 'Partner': 'Yes', 'Dependents': 'Yes', 'tenure': 65}</td>\n      <td>{'PhoneService': 'Yes', 'MultipleLines': 'Yes'}</td>\n      <td>{'InternetService': 'DSL', 'OnlineSecurity': 'Yes', 'OnlineBackup': 'Yes', 'DeviceProtection': 'Yes', 'TechSupport': 'Yes', 'StreamingTV': 'Yes', 'StreamingMovies': 'Yes'}</td>\n      <td>{'Contract': 'Two year', 'PaperlessBilling': 'Yes', 'PaymentMethod': 'Mailed check', 'Charges': {'Monthly': 90.45, 'Total': '5957.9'}}</td>\n    </tr>\n  </tbody>\n</table>\n</div>"
     },
     "execution_count": 2,
     "metadata": {},
     "output_type": "execute_result"
    }
   ],
   "source": [
    "data_url = \"https://raw.githubusercontent.com/sthemonica/alura-voz/main/Dados/Telco-Customer-Churn.json\"\n",
    "\n",
    "data = pd.read_json(path_or_buf = data_url)\n",
    "\n",
    "data.head(10)"
   ],
   "metadata": {
    "collapsed": false,
    "pycharm": {
     "name": "#%%\n"
    }
   }
  },
  {
   "cell_type": "code",
   "execution_count": 3,
   "outputs": [
    {
     "data": {
      "text/plain": "  customer_id churn  \\\n0  0002-ORFBO    No   \n1  0003-MKNFE    No   \n2  0004-TLHLJ   Yes   \n3  0011-IGKFF   Yes   \n4  0013-EXCHZ   Yes   \n5  0013-MHZWF    No   \n6  0013-SMEOE    No   \n7  0014-BMAQU    No   \n8  0015-UOCOJ    No   \n9  0016-QLJIS    No   \n\n                                                                                        customer  \\\n0   {'gender': 'Female', 'SeniorCitizen': 0, 'Partner': 'Yes', 'Dependents': 'Yes', 'tenure': 9}   \n1       {'gender': 'Male', 'SeniorCitizen': 0, 'Partner': 'No', 'Dependents': 'No', 'tenure': 9}   \n2       {'gender': 'Male', 'SeniorCitizen': 0, 'Partner': 'No', 'Dependents': 'No', 'tenure': 4}   \n3     {'gender': 'Male', 'SeniorCitizen': 1, 'Partner': 'Yes', 'Dependents': 'No', 'tenure': 13}   \n4    {'gender': 'Female', 'SeniorCitizen': 1, 'Partner': 'Yes', 'Dependents': 'No', 'tenure': 3}   \n5    {'gender': 'Female', 'SeniorCitizen': 0, 'Partner': 'No', 'Dependents': 'Yes', 'tenure': 9}   \n6   {'gender': 'Female', 'SeniorCitizen': 1, 'Partner': 'Yes', 'Dependents': 'No', 'tenure': 71}   \n7     {'gender': 'Male', 'SeniorCitizen': 0, 'Partner': 'Yes', 'Dependents': 'No', 'tenure': 63}   \n8     {'gender': 'Female', 'SeniorCitizen': 1, 'Partner': 'No', 'Dependents': 'No', 'tenure': 7}   \n9  {'gender': 'Female', 'SeniorCitizen': 0, 'Partner': 'Yes', 'Dependents': 'Yes', 'tenure': 65}   \n\n                                             phone  \\\n0   {'PhoneService': 'Yes', 'MultipleLines': 'No'}   \n1  {'PhoneService': 'Yes', 'MultipleLines': 'Yes'}   \n2   {'PhoneService': 'Yes', 'MultipleLines': 'No'}   \n3   {'PhoneService': 'Yes', 'MultipleLines': 'No'}   \n4   {'PhoneService': 'Yes', 'MultipleLines': 'No'}   \n5   {'PhoneService': 'Yes', 'MultipleLines': 'No'}   \n6   {'PhoneService': 'Yes', 'MultipleLines': 'No'}   \n7  {'PhoneService': 'Yes', 'MultipleLines': 'Yes'}   \n8   {'PhoneService': 'Yes', 'MultipleLines': 'No'}   \n9  {'PhoneService': 'Yes', 'MultipleLines': 'Yes'}   \n\n                                                                                                                                                                              internet  \\\n0             {'InternetService': 'DSL', 'OnlineSecurity': 'No', 'OnlineBackup': 'Yes', 'DeviceProtection': 'No', 'TechSupport': 'Yes', 'StreamingTV': 'Yes', 'StreamingMovies': 'No'}   \n1               {'InternetService': 'DSL', 'OnlineSecurity': 'No', 'OnlineBackup': 'No', 'DeviceProtection': 'No', 'TechSupport': 'No', 'StreamingTV': 'No', 'StreamingMovies': 'Yes'}   \n2       {'InternetService': 'Fiber optic', 'OnlineSecurity': 'No', 'OnlineBackup': 'No', 'DeviceProtection': 'Yes', 'TechSupport': 'No', 'StreamingTV': 'No', 'StreamingMovies': 'No'}   \n3    {'InternetService': 'Fiber optic', 'OnlineSecurity': 'No', 'OnlineBackup': 'Yes', 'DeviceProtection': 'Yes', 'TechSupport': 'No', 'StreamingTV': 'Yes', 'StreamingMovies': 'Yes'}   \n4      {'InternetService': 'Fiber optic', 'OnlineSecurity': 'No', 'OnlineBackup': 'No', 'DeviceProtection': 'No', 'TechSupport': 'Yes', 'StreamingTV': 'Yes', 'StreamingMovies': 'No'}   \n5             {'InternetService': 'DSL', 'OnlineSecurity': 'No', 'OnlineBackup': 'No', 'DeviceProtection': 'No', 'TechSupport': 'Yes', 'StreamingTV': 'Yes', 'StreamingMovies': 'Yes'}   \n6  {'InternetService': 'Fiber optic', 'OnlineSecurity': 'Yes', 'OnlineBackup': 'Yes', 'DeviceProtection': 'Yes', 'TechSupport': 'Yes', 'StreamingTV': 'Yes', 'StreamingMovies': 'Yes'}   \n7      {'InternetService': 'Fiber optic', 'OnlineSecurity': 'Yes', 'OnlineBackup': 'No', 'DeviceProtection': 'No', 'TechSupport': 'Yes', 'StreamingTV': 'No', 'StreamingMovies': 'No'}   \n8               {'InternetService': 'DSL', 'OnlineSecurity': 'Yes', 'OnlineBackup': 'No', 'DeviceProtection': 'No', 'TechSupport': 'No', 'StreamingTV': 'No', 'StreamingMovies': 'No'}   \n9          {'InternetService': 'DSL', 'OnlineSecurity': 'Yes', 'OnlineBackup': 'Yes', 'DeviceProtection': 'Yes', 'TechSupport': 'Yes', 'StreamingTV': 'Yes', 'StreamingMovies': 'Yes'}   \n\n                                                                                                                                                  account  \n0                    {'Contract': 'One year', 'PaperlessBilling': 'Yes', 'PaymentMethod': 'Mailed check', 'Charges': {'Monthly': 65.6, 'Total': '593.3'}}  \n1               {'Contract': 'Month-to-month', 'PaperlessBilling': 'No', 'PaymentMethod': 'Mailed check', 'Charges': {'Monthly': 59.9, 'Total': '542.4'}}  \n2         {'Contract': 'Month-to-month', 'PaperlessBilling': 'Yes', 'PaymentMethod': 'Electronic check', 'Charges': {'Monthly': 73.9, 'Total': '280.85'}}  \n3        {'Contract': 'Month-to-month', 'PaperlessBilling': 'Yes', 'PaymentMethod': 'Electronic check', 'Charges': {'Monthly': 98.0, 'Total': '1237.85'}}  \n4              {'Contract': 'Month-to-month', 'PaperlessBilling': 'Yes', 'PaymentMethod': 'Mailed check', 'Charges': {'Monthly': 83.9, 'Total': '267.4'}}  \n5  {'Contract': 'Month-to-month', 'PaperlessBilling': 'Yes', 'PaymentMethod': 'Credit card (automatic)', 'Charges': {'Monthly': 69.4, 'Total': '571.45'}}  \n6    {'Contract': 'Two year', 'PaperlessBilling': 'Yes', 'PaymentMethod': 'Bank transfer (automatic)', 'Charges': {'Monthly': 109.7, 'Total': '7904.25'}}  \n7       {'Contract': 'Two year', 'PaperlessBilling': 'Yes', 'PaymentMethod': 'Credit card (automatic)', 'Charges': {'Monthly': 84.65, 'Total': '5377.8'}}  \n8         {'Contract': 'Month-to-month', 'PaperlessBilling': 'Yes', 'PaymentMethod': 'Electronic check', 'Charges': {'Monthly': 48.2, 'Total': '340.35'}}  \n9                  {'Contract': 'Two year', 'PaperlessBilling': 'Yes', 'PaymentMethod': 'Mailed check', 'Charges': {'Monthly': 90.45, 'Total': '5957.9'}}  ",
      "text/html": "<div>\n<style scoped>\n    .dataframe tbody tr th:only-of-type {\n        vertical-align: middle;\n    }\n\n    .dataframe tbody tr th {\n        vertical-align: top;\n    }\n\n    .dataframe thead th {\n        text-align: right;\n    }\n</style>\n<table border=\"1\" class=\"dataframe\">\n  <thead>\n    <tr style=\"text-align: right;\">\n      <th></th>\n      <th>customer_id</th>\n      <th>churn</th>\n      <th>customer</th>\n      <th>phone</th>\n      <th>internet</th>\n      <th>account</th>\n    </tr>\n  </thead>\n  <tbody>\n    <tr>\n      <th>0</th>\n      <td>0002-ORFBO</td>\n      <td>No</td>\n      <td>{'gender': 'Female', 'SeniorCitizen': 0, 'Partner': 'Yes', 'Dependents': 'Yes', 'tenure': 9}</td>\n      <td>{'PhoneService': 'Yes', 'MultipleLines': 'No'}</td>\n      <td>{'InternetService': 'DSL', 'OnlineSecurity': 'No', 'OnlineBackup': 'Yes', 'DeviceProtection': 'No', 'TechSupport': 'Yes', 'StreamingTV': 'Yes', 'StreamingMovies': 'No'}</td>\n      <td>{'Contract': 'One year', 'PaperlessBilling': 'Yes', 'PaymentMethod': 'Mailed check', 'Charges': {'Monthly': 65.6, 'Total': '593.3'}}</td>\n    </tr>\n    <tr>\n      <th>1</th>\n      <td>0003-MKNFE</td>\n      <td>No</td>\n      <td>{'gender': 'Male', 'SeniorCitizen': 0, 'Partner': 'No', 'Dependents': 'No', 'tenure': 9}</td>\n      <td>{'PhoneService': 'Yes', 'MultipleLines': 'Yes'}</td>\n      <td>{'InternetService': 'DSL', 'OnlineSecurity': 'No', 'OnlineBackup': 'No', 'DeviceProtection': 'No', 'TechSupport': 'No', 'StreamingTV': 'No', 'StreamingMovies': 'Yes'}</td>\n      <td>{'Contract': 'Month-to-month', 'PaperlessBilling': 'No', 'PaymentMethod': 'Mailed check', 'Charges': {'Monthly': 59.9, 'Total': '542.4'}}</td>\n    </tr>\n    <tr>\n      <th>2</th>\n      <td>0004-TLHLJ</td>\n      <td>Yes</td>\n      <td>{'gender': 'Male', 'SeniorCitizen': 0, 'Partner': 'No', 'Dependents': 'No', 'tenure': 4}</td>\n      <td>{'PhoneService': 'Yes', 'MultipleLines': 'No'}</td>\n      <td>{'InternetService': 'Fiber optic', 'OnlineSecurity': 'No', 'OnlineBackup': 'No', 'DeviceProtection': 'Yes', 'TechSupport': 'No', 'StreamingTV': 'No', 'StreamingMovies': 'No'}</td>\n      <td>{'Contract': 'Month-to-month', 'PaperlessBilling': 'Yes', 'PaymentMethod': 'Electronic check', 'Charges': {'Monthly': 73.9, 'Total': '280.85'}}</td>\n    </tr>\n    <tr>\n      <th>3</th>\n      <td>0011-IGKFF</td>\n      <td>Yes</td>\n      <td>{'gender': 'Male', 'SeniorCitizen': 1, 'Partner': 'Yes', 'Dependents': 'No', 'tenure': 13}</td>\n      <td>{'PhoneService': 'Yes', 'MultipleLines': 'No'}</td>\n      <td>{'InternetService': 'Fiber optic', 'OnlineSecurity': 'No', 'OnlineBackup': 'Yes', 'DeviceProtection': 'Yes', 'TechSupport': 'No', 'StreamingTV': 'Yes', 'StreamingMovies': 'Yes'}</td>\n      <td>{'Contract': 'Month-to-month', 'PaperlessBilling': 'Yes', 'PaymentMethod': 'Electronic check', 'Charges': {'Monthly': 98.0, 'Total': '1237.85'}}</td>\n    </tr>\n    <tr>\n      <th>4</th>\n      <td>0013-EXCHZ</td>\n      <td>Yes</td>\n      <td>{'gender': 'Female', 'SeniorCitizen': 1, 'Partner': 'Yes', 'Dependents': 'No', 'tenure': 3}</td>\n      <td>{'PhoneService': 'Yes', 'MultipleLines': 'No'}</td>\n      <td>{'InternetService': 'Fiber optic', 'OnlineSecurity': 'No', 'OnlineBackup': 'No', 'DeviceProtection': 'No', 'TechSupport': 'Yes', 'StreamingTV': 'Yes', 'StreamingMovies': 'No'}</td>\n      <td>{'Contract': 'Month-to-month', 'PaperlessBilling': 'Yes', 'PaymentMethod': 'Mailed check', 'Charges': {'Monthly': 83.9, 'Total': '267.4'}}</td>\n    </tr>\n    <tr>\n      <th>5</th>\n      <td>0013-MHZWF</td>\n      <td>No</td>\n      <td>{'gender': 'Female', 'SeniorCitizen': 0, 'Partner': 'No', 'Dependents': 'Yes', 'tenure': 9}</td>\n      <td>{'PhoneService': 'Yes', 'MultipleLines': 'No'}</td>\n      <td>{'InternetService': 'DSL', 'OnlineSecurity': 'No', 'OnlineBackup': 'No', 'DeviceProtection': 'No', 'TechSupport': 'Yes', 'StreamingTV': 'Yes', 'StreamingMovies': 'Yes'}</td>\n      <td>{'Contract': 'Month-to-month', 'PaperlessBilling': 'Yes', 'PaymentMethod': 'Credit card (automatic)', 'Charges': {'Monthly': 69.4, 'Total': '571.45'}}</td>\n    </tr>\n    <tr>\n      <th>6</th>\n      <td>0013-SMEOE</td>\n      <td>No</td>\n      <td>{'gender': 'Female', 'SeniorCitizen': 1, 'Partner': 'Yes', 'Dependents': 'No', 'tenure': 71}</td>\n      <td>{'PhoneService': 'Yes', 'MultipleLines': 'No'}</td>\n      <td>{'InternetService': 'Fiber optic', 'OnlineSecurity': 'Yes', 'OnlineBackup': 'Yes', 'DeviceProtection': 'Yes', 'TechSupport': 'Yes', 'StreamingTV': 'Yes', 'StreamingMovies': 'Yes'}</td>\n      <td>{'Contract': 'Two year', 'PaperlessBilling': 'Yes', 'PaymentMethod': 'Bank transfer (automatic)', 'Charges': {'Monthly': 109.7, 'Total': '7904.25'}}</td>\n    </tr>\n    <tr>\n      <th>7</th>\n      <td>0014-BMAQU</td>\n      <td>No</td>\n      <td>{'gender': 'Male', 'SeniorCitizen': 0, 'Partner': 'Yes', 'Dependents': 'No', 'tenure': 63}</td>\n      <td>{'PhoneService': 'Yes', 'MultipleLines': 'Yes'}</td>\n      <td>{'InternetService': 'Fiber optic', 'OnlineSecurity': 'Yes', 'OnlineBackup': 'No', 'DeviceProtection': 'No', 'TechSupport': 'Yes', 'StreamingTV': 'No', 'StreamingMovies': 'No'}</td>\n      <td>{'Contract': 'Two year', 'PaperlessBilling': 'Yes', 'PaymentMethod': 'Credit card (automatic)', 'Charges': {'Monthly': 84.65, 'Total': '5377.8'}}</td>\n    </tr>\n    <tr>\n      <th>8</th>\n      <td>0015-UOCOJ</td>\n      <td>No</td>\n      <td>{'gender': 'Female', 'SeniorCitizen': 1, 'Partner': 'No', 'Dependents': 'No', 'tenure': 7}</td>\n      <td>{'PhoneService': 'Yes', 'MultipleLines': 'No'}</td>\n      <td>{'InternetService': 'DSL', 'OnlineSecurity': 'Yes', 'OnlineBackup': 'No', 'DeviceProtection': 'No', 'TechSupport': 'No', 'StreamingTV': 'No', 'StreamingMovies': 'No'}</td>\n      <td>{'Contract': 'Month-to-month', 'PaperlessBilling': 'Yes', 'PaymentMethod': 'Electronic check', 'Charges': {'Monthly': 48.2, 'Total': '340.35'}}</td>\n    </tr>\n    <tr>\n      <th>9</th>\n      <td>0016-QLJIS</td>\n      <td>No</td>\n      <td>{'gender': 'Female', 'SeniorCitizen': 0, 'Partner': 'Yes', 'Dependents': 'Yes', 'tenure': 65}</td>\n      <td>{'PhoneService': 'Yes', 'MultipleLines': 'Yes'}</td>\n      <td>{'InternetService': 'DSL', 'OnlineSecurity': 'Yes', 'OnlineBackup': 'Yes', 'DeviceProtection': 'Yes', 'TechSupport': 'Yes', 'StreamingTV': 'Yes', 'StreamingMovies': 'Yes'}</td>\n      <td>{'Contract': 'Two year', 'PaperlessBilling': 'Yes', 'PaymentMethod': 'Mailed check', 'Charges': {'Monthly': 90.45, 'Total': '5957.9'}}</td>\n    </tr>\n  </tbody>\n</table>\n</div>"
     },
     "execution_count": 3,
     "metadata": {},
     "output_type": "execute_result"
    }
   ],
   "source": [
    "# Standardizing the \"CustomerID\" and \"Churn\" columns' names.\n",
    "\n",
    "data = data.rename({\"customerID\": \"customer_id\", \"Churn\": \"churn\"}, axis = 1)\n",
    "\n",
    "data.head(10)"
   ],
   "metadata": {
    "collapsed": false,
    "pycharm": {
     "name": "#%%\n"
    }
   }
  },
  {
   "cell_type": "markdown",
   "source": [
    "---\n",
    "# Normalizing the DataFrame\n",
    "\n",
    "##### As I had seen that the \"customer\", \"phone\", \"internet\" and \"account\" columns all had more information in dictionaries, my next step was to extract this data into separate columns for 2 reasons:\n",
    "##### 1. to improve visibility and readability of the DataFrame and;\n",
    "##### 2. to allow for operations and analysis to be made with the data, which would have been impossible in the form of dictionaries."
   ],
   "metadata": {
    "collapsed": false,
    "pycharm": {
     "name": "#%% md\n"
    }
   }
  },
  {
   "cell_type": "code",
   "execution_count": 4,
   "outputs": [
    {
     "data": {
      "text/plain": "True    100.0\nName: customer, dtype: float64"
     },
     "execution_count": 4,
     "metadata": {},
     "output_type": "execute_result"
    }
   ],
   "source": [
    "# As we check the data entries for all these categories, we see that they really are dictionaries.\n",
    "# Because of that, we can extract the data inside each of them through the method json_nrmalize().\n",
    "\n",
    "data[\"customer\"].apply(lambda value: type(value) == dict).value_counts(normalize = True) * 100"
   ],
   "metadata": {
    "collapsed": false,
    "pycharm": {
     "name": "#%%\n"
    }
   }
  },
  {
   "cell_type": "code",
   "execution_count": 5,
   "outputs": [
    {
     "data": {
      "text/plain": "True    100.0\nName: phone, dtype: float64"
     },
     "execution_count": 5,
     "metadata": {},
     "output_type": "execute_result"
    }
   ],
   "source": [
    "data[\"phone\"].apply(lambda value: type(value) == dict).value_counts(normalize = True) * 100"
   ],
   "metadata": {
    "collapsed": false,
    "pycharm": {
     "name": "#%%\n"
    }
   }
  },
  {
   "cell_type": "code",
   "execution_count": 6,
   "outputs": [
    {
     "data": {
      "text/plain": "True    100.0\nName: internet, dtype: float64"
     },
     "execution_count": 6,
     "metadata": {},
     "output_type": "execute_result"
    }
   ],
   "source": [
    "data[\"internet\"].apply(lambda value: type(value) == dict).value_counts(normalize = True) * 100"
   ],
   "metadata": {
    "collapsed": false,
    "pycharm": {
     "name": "#%%\n"
    }
   }
  },
  {
   "cell_type": "code",
   "execution_count": 7,
   "outputs": [
    {
     "data": {
      "text/plain": "True    100.0\nName: account, dtype: float64"
     },
     "execution_count": 7,
     "metadata": {},
     "output_type": "execute_result"
    }
   ],
   "source": [
    "data[\"account\"].apply(lambda value: type(value) == dict).value_counts(normalize = True) * 100"
   ],
   "metadata": {
    "collapsed": false,
    "pycharm": {
     "name": "#%%\n"
    }
   }
  },
  {
   "cell_type": "markdown",
   "source": [
    "### <font color = \"Blue\"> Information under \"customer\"."
   ],
   "metadata": {
    "collapsed": false,
    "pycharm": {
     "name": "#%% md\n"
    }
   }
  },
  {
   "cell_type": "code",
   "execution_count": 8,
   "outputs": [
    {
     "data": {
      "text/plain": "Index(['gender', 'SeniorCitizen', 'Partner', 'Dependents', 'tenure'], dtype='object')"
     },
     "execution_count": 8,
     "metadata": {},
     "output_type": "execute_result"
    }
   ],
   "source": [
    "data_customer = pd.json_normalize(data = data[\"customer\"], sep = \"_\")\n",
    "\n",
    "data_customer.columns"
   ],
   "metadata": {
    "collapsed": false,
    "pycharm": {
     "name": "#%%\n"
    }
   }
  },
  {
   "cell_type": "code",
   "execution_count": 9,
   "outputs": [
    {
     "data": {
      "text/plain": "      gender  senior_citizen partner dependents  tenure\n0     Female               0     Yes        Yes       9\n1       Male               0      No         No       9\n2       Male               0      No         No       4\n3       Male               1     Yes         No      13\n4     Female               1     Yes         No       3\n...      ...             ...     ...        ...     ...\n7262  Female               0      No         No      13\n7263    Male               0     Yes         No      22\n7264    Male               0      No         No       2\n7265    Male               0     Yes        Yes      67\n7266    Male               0     Yes        Yes      63\n\n[7267 rows x 5 columns]",
      "text/html": "<div>\n<style scoped>\n    .dataframe tbody tr th:only-of-type {\n        vertical-align: middle;\n    }\n\n    .dataframe tbody tr th {\n        vertical-align: top;\n    }\n\n    .dataframe thead th {\n        text-align: right;\n    }\n</style>\n<table border=\"1\" class=\"dataframe\">\n  <thead>\n    <tr style=\"text-align: right;\">\n      <th></th>\n      <th>gender</th>\n      <th>senior_citizen</th>\n      <th>partner</th>\n      <th>dependents</th>\n      <th>tenure</th>\n    </tr>\n  </thead>\n  <tbody>\n    <tr>\n      <th>0</th>\n      <td>Female</td>\n      <td>0</td>\n      <td>Yes</td>\n      <td>Yes</td>\n      <td>9</td>\n    </tr>\n    <tr>\n      <th>1</th>\n      <td>Male</td>\n      <td>0</td>\n      <td>No</td>\n      <td>No</td>\n      <td>9</td>\n    </tr>\n    <tr>\n      <th>2</th>\n      <td>Male</td>\n      <td>0</td>\n      <td>No</td>\n      <td>No</td>\n      <td>4</td>\n    </tr>\n    <tr>\n      <th>3</th>\n      <td>Male</td>\n      <td>1</td>\n      <td>Yes</td>\n      <td>No</td>\n      <td>13</td>\n    </tr>\n    <tr>\n      <th>4</th>\n      <td>Female</td>\n      <td>1</td>\n      <td>Yes</td>\n      <td>No</td>\n      <td>3</td>\n    </tr>\n    <tr>\n      <th>...</th>\n      <td>...</td>\n      <td>...</td>\n      <td>...</td>\n      <td>...</td>\n      <td>...</td>\n    </tr>\n    <tr>\n      <th>7262</th>\n      <td>Female</td>\n      <td>0</td>\n      <td>No</td>\n      <td>No</td>\n      <td>13</td>\n    </tr>\n    <tr>\n      <th>7263</th>\n      <td>Male</td>\n      <td>0</td>\n      <td>Yes</td>\n      <td>No</td>\n      <td>22</td>\n    </tr>\n    <tr>\n      <th>7264</th>\n      <td>Male</td>\n      <td>0</td>\n      <td>No</td>\n      <td>No</td>\n      <td>2</td>\n    </tr>\n    <tr>\n      <th>7265</th>\n      <td>Male</td>\n      <td>0</td>\n      <td>Yes</td>\n      <td>Yes</td>\n      <td>67</td>\n    </tr>\n    <tr>\n      <th>7266</th>\n      <td>Male</td>\n      <td>0</td>\n      <td>Yes</td>\n      <td>Yes</td>\n      <td>63</td>\n    </tr>\n  </tbody>\n</table>\n<p>7267 rows × 5 columns</p>\n</div>"
     },
     "execution_count": 9,
     "metadata": {},
     "output_type": "execute_result"
    }
   ],
   "source": [
    "# Standardizing the columns' names.\n",
    "\n",
    "data_customer = data_customer.rename({\"SeniorCitizen\": 'senior_citizen', \"Partner\": 'partner', \"Dependents\": 'dependents'}, axis = 1)\n",
    "\n",
    "data_customer"
   ],
   "metadata": {
    "collapsed": false,
    "pycharm": {
     "name": "#%%\n"
    }
   }
  },
  {
   "cell_type": "markdown",
   "source": [
    "### <font color = \"Blue\"> Information under \"phone\"."
   ],
   "metadata": {
    "collapsed": false,
    "pycharm": {
     "name": "#%% md\n"
    }
   }
  },
  {
   "cell_type": "code",
   "execution_count": 10,
   "outputs": [
    {
     "data": {
      "text/plain": "Index(['PhoneService', 'MultipleLines'], dtype='object')"
     },
     "execution_count": 10,
     "metadata": {},
     "output_type": "execute_result"
    }
   ],
   "source": [
    "data_phone = pd.json_normalize(data = data[\"phone\"], sep = \"_\")\n",
    "\n",
    "data_phone.columns"
   ],
   "metadata": {
    "collapsed": false,
    "pycharm": {
     "name": "#%%\n"
    }
   }
  },
  {
   "cell_type": "code",
   "execution_count": 11,
   "outputs": [
    {
     "data": {
      "text/plain": "     phone_service    multiple_lines\n0              Yes                No\n1              Yes               Yes\n2              Yes                No\n3              Yes                No\n4              Yes                No\n...            ...               ...\n7262           Yes                No\n7263           Yes               Yes\n7264           Yes                No\n7265           Yes                No\n7266            No  No phone service\n\n[7267 rows x 2 columns]",
      "text/html": "<div>\n<style scoped>\n    .dataframe tbody tr th:only-of-type {\n        vertical-align: middle;\n    }\n\n    .dataframe tbody tr th {\n        vertical-align: top;\n    }\n\n    .dataframe thead th {\n        text-align: right;\n    }\n</style>\n<table border=\"1\" class=\"dataframe\">\n  <thead>\n    <tr style=\"text-align: right;\">\n      <th></th>\n      <th>phone_service</th>\n      <th>multiple_lines</th>\n    </tr>\n  </thead>\n  <tbody>\n    <tr>\n      <th>0</th>\n      <td>Yes</td>\n      <td>No</td>\n    </tr>\n    <tr>\n      <th>1</th>\n      <td>Yes</td>\n      <td>Yes</td>\n    </tr>\n    <tr>\n      <th>2</th>\n      <td>Yes</td>\n      <td>No</td>\n    </tr>\n    <tr>\n      <th>3</th>\n      <td>Yes</td>\n      <td>No</td>\n    </tr>\n    <tr>\n      <th>4</th>\n      <td>Yes</td>\n      <td>No</td>\n    </tr>\n    <tr>\n      <th>...</th>\n      <td>...</td>\n      <td>...</td>\n    </tr>\n    <tr>\n      <th>7262</th>\n      <td>Yes</td>\n      <td>No</td>\n    </tr>\n    <tr>\n      <th>7263</th>\n      <td>Yes</td>\n      <td>Yes</td>\n    </tr>\n    <tr>\n      <th>7264</th>\n      <td>Yes</td>\n      <td>No</td>\n    </tr>\n    <tr>\n      <th>7265</th>\n      <td>Yes</td>\n      <td>No</td>\n    </tr>\n    <tr>\n      <th>7266</th>\n      <td>No</td>\n      <td>No phone service</td>\n    </tr>\n  </tbody>\n</table>\n<p>7267 rows × 2 columns</p>\n</div>"
     },
     "execution_count": 11,
     "metadata": {},
     "output_type": "execute_result"
    }
   ],
   "source": [
    "# Standardizing the columns' names.\n",
    "\n",
    "data_phone = data_phone.rename({\"PhoneService\": \"phone_service\", \"MultipleLines\": \"multiple_lines\"}, axis = 1)\n",
    "\n",
    "data_phone"
   ],
   "metadata": {
    "collapsed": false,
    "pycharm": {
     "name": "#%%\n"
    }
   }
  },
  {
   "cell_type": "markdown",
   "source": [
    "### <font color = \"Blue\"> Information under \"internet\"."
   ],
   "metadata": {
    "collapsed": false,
    "pycharm": {
     "name": "#%% md\n"
    }
   }
  },
  {
   "cell_type": "code",
   "execution_count": 12,
   "outputs": [
    {
     "data": {
      "text/plain": "Index(['InternetService', 'OnlineSecurity', 'OnlineBackup', 'DeviceProtection',\n       'TechSupport', 'StreamingTV', 'StreamingMovies'],\n      dtype='object')"
     },
     "execution_count": 12,
     "metadata": {},
     "output_type": "execute_result"
    }
   ],
   "source": [
    "data_internet = pd.json_normalize(data= data[\"internet\"], sep = \"_\")\n",
    "\n",
    "data_internet.columns"
   ],
   "metadata": {
    "collapsed": false,
    "pycharm": {
     "name": "#%%\n"
    }
   }
  },
  {
   "cell_type": "code",
   "execution_count": 13,
   "outputs": [
    {
     "data": {
      "text/plain": "     internet_service online_security online_backup device_protection  \\\n0                 DSL              No           Yes                No   \n1                 DSL              No            No                No   \n2         Fiber optic              No            No               Yes   \n3         Fiber optic              No           Yes               Yes   \n4         Fiber optic              No            No                No   \n...               ...             ...           ...               ...   \n7262              DSL             Yes            No                No   \n7263      Fiber optic              No            No                No   \n7264              DSL              No           Yes                No   \n7265              DSL             Yes            No               Yes   \n7266              DSL             Yes           Yes               Yes   \n\n     tech_support streaming_tv streaming_movies  \n0             Yes          Yes               No  \n1              No           No              Yes  \n2              No           No               No  \n3              No          Yes              Yes  \n4             Yes          Yes               No  \n...           ...          ...              ...  \n7262          Yes           No               No  \n7263           No           No              Yes  \n7264           No           No               No  \n7265          Yes           No              Yes  \n7266           No          Yes              Yes  \n\n[7267 rows x 7 columns]",
      "text/html": "<div>\n<style scoped>\n    .dataframe tbody tr th:only-of-type {\n        vertical-align: middle;\n    }\n\n    .dataframe tbody tr th {\n        vertical-align: top;\n    }\n\n    .dataframe thead th {\n        text-align: right;\n    }\n</style>\n<table border=\"1\" class=\"dataframe\">\n  <thead>\n    <tr style=\"text-align: right;\">\n      <th></th>\n      <th>internet_service</th>\n      <th>online_security</th>\n      <th>online_backup</th>\n      <th>device_protection</th>\n      <th>tech_support</th>\n      <th>streaming_tv</th>\n      <th>streaming_movies</th>\n    </tr>\n  </thead>\n  <tbody>\n    <tr>\n      <th>0</th>\n      <td>DSL</td>\n      <td>No</td>\n      <td>Yes</td>\n      <td>No</td>\n      <td>Yes</td>\n      <td>Yes</td>\n      <td>No</td>\n    </tr>\n    <tr>\n      <th>1</th>\n      <td>DSL</td>\n      <td>No</td>\n      <td>No</td>\n      <td>No</td>\n      <td>No</td>\n      <td>No</td>\n      <td>Yes</td>\n    </tr>\n    <tr>\n      <th>2</th>\n      <td>Fiber optic</td>\n      <td>No</td>\n      <td>No</td>\n      <td>Yes</td>\n      <td>No</td>\n      <td>No</td>\n      <td>No</td>\n    </tr>\n    <tr>\n      <th>3</th>\n      <td>Fiber optic</td>\n      <td>No</td>\n      <td>Yes</td>\n      <td>Yes</td>\n      <td>No</td>\n      <td>Yes</td>\n      <td>Yes</td>\n    </tr>\n    <tr>\n      <th>4</th>\n      <td>Fiber optic</td>\n      <td>No</td>\n      <td>No</td>\n      <td>No</td>\n      <td>Yes</td>\n      <td>Yes</td>\n      <td>No</td>\n    </tr>\n    <tr>\n      <th>...</th>\n      <td>...</td>\n      <td>...</td>\n      <td>...</td>\n      <td>...</td>\n      <td>...</td>\n      <td>...</td>\n      <td>...</td>\n    </tr>\n    <tr>\n      <th>7262</th>\n      <td>DSL</td>\n      <td>Yes</td>\n      <td>No</td>\n      <td>No</td>\n      <td>Yes</td>\n      <td>No</td>\n      <td>No</td>\n    </tr>\n    <tr>\n      <th>7263</th>\n      <td>Fiber optic</td>\n      <td>No</td>\n      <td>No</td>\n      <td>No</td>\n      <td>No</td>\n      <td>No</td>\n      <td>Yes</td>\n    </tr>\n    <tr>\n      <th>7264</th>\n      <td>DSL</td>\n      <td>No</td>\n      <td>Yes</td>\n      <td>No</td>\n      <td>No</td>\n      <td>No</td>\n      <td>No</td>\n    </tr>\n    <tr>\n      <th>7265</th>\n      <td>DSL</td>\n      <td>Yes</td>\n      <td>No</td>\n      <td>Yes</td>\n      <td>Yes</td>\n      <td>No</td>\n      <td>Yes</td>\n    </tr>\n    <tr>\n      <th>7266</th>\n      <td>DSL</td>\n      <td>Yes</td>\n      <td>Yes</td>\n      <td>Yes</td>\n      <td>No</td>\n      <td>Yes</td>\n      <td>Yes</td>\n    </tr>\n  </tbody>\n</table>\n<p>7267 rows × 7 columns</p>\n</div>"
     },
     "execution_count": 13,
     "metadata": {},
     "output_type": "execute_result"
    }
   ],
   "source": [
    "# Standardizing the columns' names.\n",
    "\n",
    "data_internet = data_internet.rename({\"InternetService\": \"internet_service\", \"OnlineSecurity\": \"online_security\", \"OnlineBackup\": \"online_backup\", \"DeviceProtection\": \"device_protection\", \"TechSupport\": \"tech_support\", \"StreamingTV\": \"streaming_tv\", \"StreamingMovies\": \"streaming_movies\"}, axis = 1)\n",
    "\n",
    "data_internet"
   ],
   "metadata": {
    "collapsed": false,
    "pycharm": {
     "name": "#%%\n"
    }
   }
  },
  {
   "cell_type": "markdown",
   "source": [
    "### <font color = \"Blue\"> Information under \"account\"."
   ],
   "metadata": {
    "collapsed": false,
    "pycharm": {
     "name": "#%% md\n"
    }
   }
  },
  {
   "cell_type": "code",
   "execution_count": 14,
   "outputs": [
    {
     "data": {
      "text/plain": "Index(['Contract', 'PaperlessBilling', 'PaymentMethod', 'Charges.Monthly',\n       'Charges.Total'],\n      dtype='object')"
     },
     "execution_count": 14,
     "metadata": {},
     "output_type": "execute_result"
    }
   ],
   "source": [
    "data_account = pd.json_normalize(data = data[\"account\"])\n",
    "\n",
    "data_account.columns"
   ],
   "metadata": {
    "collapsed": false,
    "pycharm": {
     "name": "#%%\n"
    }
   }
  },
  {
   "cell_type": "code",
   "execution_count": 15,
   "outputs": [
    {
     "data": {
      "text/plain": "            contract paperless_billing    payment_method  charges_monthly  \\\n0           One year               Yes      Mailed check            65.60   \n1     Month-to-month                No      Mailed check            59.90   \n2     Month-to-month               Yes  Electronic check            73.90   \n3     Month-to-month               Yes  Electronic check            98.00   \n4     Month-to-month               Yes      Mailed check            83.90   \n...              ...               ...               ...              ...   \n7262        One year                No      Mailed check            55.15   \n7263  Month-to-month               Yes  Electronic check            85.10   \n7264  Month-to-month               Yes      Mailed check            50.30   \n7265        Two year                No      Mailed check            67.85   \n7266        Two year                No  Electronic check            59.00   \n\n     charges_total  \n0            593.3  \n1            542.4  \n2           280.85  \n3          1237.85  \n4            267.4  \n...            ...  \n7262         742.9  \n7263        1873.7  \n7264         92.75  \n7265       4627.65  \n7266        3707.6  \n\n[7267 rows x 5 columns]",
      "text/html": "<div>\n<style scoped>\n    .dataframe tbody tr th:only-of-type {\n        vertical-align: middle;\n    }\n\n    .dataframe tbody tr th {\n        vertical-align: top;\n    }\n\n    .dataframe thead th {\n        text-align: right;\n    }\n</style>\n<table border=\"1\" class=\"dataframe\">\n  <thead>\n    <tr style=\"text-align: right;\">\n      <th></th>\n      <th>contract</th>\n      <th>paperless_billing</th>\n      <th>payment_method</th>\n      <th>charges_monthly</th>\n      <th>charges_total</th>\n    </tr>\n  </thead>\n  <tbody>\n    <tr>\n      <th>0</th>\n      <td>One year</td>\n      <td>Yes</td>\n      <td>Mailed check</td>\n      <td>65.60</td>\n      <td>593.3</td>\n    </tr>\n    <tr>\n      <th>1</th>\n      <td>Month-to-month</td>\n      <td>No</td>\n      <td>Mailed check</td>\n      <td>59.90</td>\n      <td>542.4</td>\n    </tr>\n    <tr>\n      <th>2</th>\n      <td>Month-to-month</td>\n      <td>Yes</td>\n      <td>Electronic check</td>\n      <td>73.90</td>\n      <td>280.85</td>\n    </tr>\n    <tr>\n      <th>3</th>\n      <td>Month-to-month</td>\n      <td>Yes</td>\n      <td>Electronic check</td>\n      <td>98.00</td>\n      <td>1237.85</td>\n    </tr>\n    <tr>\n      <th>4</th>\n      <td>Month-to-month</td>\n      <td>Yes</td>\n      <td>Mailed check</td>\n      <td>83.90</td>\n      <td>267.4</td>\n    </tr>\n    <tr>\n      <th>...</th>\n      <td>...</td>\n      <td>...</td>\n      <td>...</td>\n      <td>...</td>\n      <td>...</td>\n    </tr>\n    <tr>\n      <th>7262</th>\n      <td>One year</td>\n      <td>No</td>\n      <td>Mailed check</td>\n      <td>55.15</td>\n      <td>742.9</td>\n    </tr>\n    <tr>\n      <th>7263</th>\n      <td>Month-to-month</td>\n      <td>Yes</td>\n      <td>Electronic check</td>\n      <td>85.10</td>\n      <td>1873.7</td>\n    </tr>\n    <tr>\n      <th>7264</th>\n      <td>Month-to-month</td>\n      <td>Yes</td>\n      <td>Mailed check</td>\n      <td>50.30</td>\n      <td>92.75</td>\n    </tr>\n    <tr>\n      <th>7265</th>\n      <td>Two year</td>\n      <td>No</td>\n      <td>Mailed check</td>\n      <td>67.85</td>\n      <td>4627.65</td>\n    </tr>\n    <tr>\n      <th>7266</th>\n      <td>Two year</td>\n      <td>No</td>\n      <td>Electronic check</td>\n      <td>59.00</td>\n      <td>3707.6</td>\n    </tr>\n  </tbody>\n</table>\n<p>7267 rows × 5 columns</p>\n</div>"
     },
     "execution_count": 15,
     "metadata": {},
     "output_type": "execute_result"
    }
   ],
   "source": [
    "# Standardizing the columns' names.\n",
    "\n",
    "data_account = data_account.rename({\"Contract\": \"contract\", \"PaperlessBilling\": \"paperless_billing\", \"PaymentMethod\": \"payment_method\", \"Charges.Monthly\": \"charges_monthly\", \"Charges.Total\": \"charges_total\"}, axis = 1)\n",
    "\n",
    "data_account"
   ],
   "metadata": {
    "collapsed": false,
    "pycharm": {
     "name": "#%%\n"
    }
   }
  },
  {
   "cell_type": "markdown",
   "source": [
    "### <font color = \"Blue\"> Concatenating all subsets into the original DataFrame laterally."
   ],
   "metadata": {
    "collapsed": false,
    "pycharm": {
     "name": "#%% md\n"
    }
   }
  },
  {
   "cell_type": "code",
   "execution_count": 16,
   "outputs": [
    {
     "data": {
      "text/plain": "  customer_id churn  gender  senior_citizen partner dependents  tenure  \\\n0  0002-ORFBO    No  Female               0     Yes        Yes       9   \n1  0003-MKNFE    No    Male               0      No         No       9   \n2  0004-TLHLJ   Yes    Male               0      No         No       4   \n3  0011-IGKFF   Yes    Male               1     Yes         No      13   \n4  0013-EXCHZ   Yes  Female               1     Yes         No       3   \n5  0013-MHZWF    No  Female               0      No        Yes       9   \n6  0013-SMEOE    No  Female               1     Yes         No      71   \n7  0014-BMAQU    No    Male               0     Yes         No      63   \n8  0015-UOCOJ    No  Female               1      No         No       7   \n9  0016-QLJIS    No  Female               0     Yes        Yes      65   \n\n  phone_service multiple_lines internet_service online_security online_backup  \\\n0           Yes             No              DSL              No           Yes   \n1           Yes            Yes              DSL              No            No   \n2           Yes             No      Fiber optic              No            No   \n3           Yes             No      Fiber optic              No           Yes   \n4           Yes             No      Fiber optic              No            No   \n5           Yes             No              DSL              No            No   \n6           Yes             No      Fiber optic             Yes           Yes   \n7           Yes            Yes      Fiber optic             Yes            No   \n8           Yes             No              DSL             Yes            No   \n9           Yes            Yes              DSL             Yes           Yes   \n\n  device_protection tech_support streaming_tv streaming_movies  \\\n0                No          Yes          Yes               No   \n1                No           No           No              Yes   \n2               Yes           No           No               No   \n3               Yes           No          Yes              Yes   \n4                No          Yes          Yes               No   \n5                No          Yes          Yes              Yes   \n6               Yes          Yes          Yes              Yes   \n7                No          Yes           No               No   \n8                No           No           No               No   \n9               Yes          Yes          Yes              Yes   \n\n         contract paperless_billing             payment_method  \\\n0        One year               Yes               Mailed check   \n1  Month-to-month                No               Mailed check   \n2  Month-to-month               Yes           Electronic check   \n3  Month-to-month               Yes           Electronic check   \n4  Month-to-month               Yes               Mailed check   \n5  Month-to-month               Yes    Credit card (automatic)   \n6        Two year               Yes  Bank transfer (automatic)   \n7        Two year               Yes    Credit card (automatic)   \n8  Month-to-month               Yes           Electronic check   \n9        Two year               Yes               Mailed check   \n\n   charges_monthly charges_total  \n0            65.60         593.3  \n1            59.90         542.4  \n2            73.90        280.85  \n3            98.00       1237.85  \n4            83.90         267.4  \n5            69.40        571.45  \n6           109.70       7904.25  \n7            84.65        5377.8  \n8            48.20        340.35  \n9            90.45        5957.9  ",
      "text/html": "<div>\n<style scoped>\n    .dataframe tbody tr th:only-of-type {\n        vertical-align: middle;\n    }\n\n    .dataframe tbody tr th {\n        vertical-align: top;\n    }\n\n    .dataframe thead th {\n        text-align: right;\n    }\n</style>\n<table border=\"1\" class=\"dataframe\">\n  <thead>\n    <tr style=\"text-align: right;\">\n      <th></th>\n      <th>customer_id</th>\n      <th>churn</th>\n      <th>gender</th>\n      <th>senior_citizen</th>\n      <th>partner</th>\n      <th>dependents</th>\n      <th>tenure</th>\n      <th>phone_service</th>\n      <th>multiple_lines</th>\n      <th>internet_service</th>\n      <th>online_security</th>\n      <th>online_backup</th>\n      <th>device_protection</th>\n      <th>tech_support</th>\n      <th>streaming_tv</th>\n      <th>streaming_movies</th>\n      <th>contract</th>\n      <th>paperless_billing</th>\n      <th>payment_method</th>\n      <th>charges_monthly</th>\n      <th>charges_total</th>\n    </tr>\n  </thead>\n  <tbody>\n    <tr>\n      <th>0</th>\n      <td>0002-ORFBO</td>\n      <td>No</td>\n      <td>Female</td>\n      <td>0</td>\n      <td>Yes</td>\n      <td>Yes</td>\n      <td>9</td>\n      <td>Yes</td>\n      <td>No</td>\n      <td>DSL</td>\n      <td>No</td>\n      <td>Yes</td>\n      <td>No</td>\n      <td>Yes</td>\n      <td>Yes</td>\n      <td>No</td>\n      <td>One year</td>\n      <td>Yes</td>\n      <td>Mailed check</td>\n      <td>65.60</td>\n      <td>593.3</td>\n    </tr>\n    <tr>\n      <th>1</th>\n      <td>0003-MKNFE</td>\n      <td>No</td>\n      <td>Male</td>\n      <td>0</td>\n      <td>No</td>\n      <td>No</td>\n      <td>9</td>\n      <td>Yes</td>\n      <td>Yes</td>\n      <td>DSL</td>\n      <td>No</td>\n      <td>No</td>\n      <td>No</td>\n      <td>No</td>\n      <td>No</td>\n      <td>Yes</td>\n      <td>Month-to-month</td>\n      <td>No</td>\n      <td>Mailed check</td>\n      <td>59.90</td>\n      <td>542.4</td>\n    </tr>\n    <tr>\n      <th>2</th>\n      <td>0004-TLHLJ</td>\n      <td>Yes</td>\n      <td>Male</td>\n      <td>0</td>\n      <td>No</td>\n      <td>No</td>\n      <td>4</td>\n      <td>Yes</td>\n      <td>No</td>\n      <td>Fiber optic</td>\n      <td>No</td>\n      <td>No</td>\n      <td>Yes</td>\n      <td>No</td>\n      <td>No</td>\n      <td>No</td>\n      <td>Month-to-month</td>\n      <td>Yes</td>\n      <td>Electronic check</td>\n      <td>73.90</td>\n      <td>280.85</td>\n    </tr>\n    <tr>\n      <th>3</th>\n      <td>0011-IGKFF</td>\n      <td>Yes</td>\n      <td>Male</td>\n      <td>1</td>\n      <td>Yes</td>\n      <td>No</td>\n      <td>13</td>\n      <td>Yes</td>\n      <td>No</td>\n      <td>Fiber optic</td>\n      <td>No</td>\n      <td>Yes</td>\n      <td>Yes</td>\n      <td>No</td>\n      <td>Yes</td>\n      <td>Yes</td>\n      <td>Month-to-month</td>\n      <td>Yes</td>\n      <td>Electronic check</td>\n      <td>98.00</td>\n      <td>1237.85</td>\n    </tr>\n    <tr>\n      <th>4</th>\n      <td>0013-EXCHZ</td>\n      <td>Yes</td>\n      <td>Female</td>\n      <td>1</td>\n      <td>Yes</td>\n      <td>No</td>\n      <td>3</td>\n      <td>Yes</td>\n      <td>No</td>\n      <td>Fiber optic</td>\n      <td>No</td>\n      <td>No</td>\n      <td>No</td>\n      <td>Yes</td>\n      <td>Yes</td>\n      <td>No</td>\n      <td>Month-to-month</td>\n      <td>Yes</td>\n      <td>Mailed check</td>\n      <td>83.90</td>\n      <td>267.4</td>\n    </tr>\n    <tr>\n      <th>5</th>\n      <td>0013-MHZWF</td>\n      <td>No</td>\n      <td>Female</td>\n      <td>0</td>\n      <td>No</td>\n      <td>Yes</td>\n      <td>9</td>\n      <td>Yes</td>\n      <td>No</td>\n      <td>DSL</td>\n      <td>No</td>\n      <td>No</td>\n      <td>No</td>\n      <td>Yes</td>\n      <td>Yes</td>\n      <td>Yes</td>\n      <td>Month-to-month</td>\n      <td>Yes</td>\n      <td>Credit card (automatic)</td>\n      <td>69.40</td>\n      <td>571.45</td>\n    </tr>\n    <tr>\n      <th>6</th>\n      <td>0013-SMEOE</td>\n      <td>No</td>\n      <td>Female</td>\n      <td>1</td>\n      <td>Yes</td>\n      <td>No</td>\n      <td>71</td>\n      <td>Yes</td>\n      <td>No</td>\n      <td>Fiber optic</td>\n      <td>Yes</td>\n      <td>Yes</td>\n      <td>Yes</td>\n      <td>Yes</td>\n      <td>Yes</td>\n      <td>Yes</td>\n      <td>Two year</td>\n      <td>Yes</td>\n      <td>Bank transfer (automatic)</td>\n      <td>109.70</td>\n      <td>7904.25</td>\n    </tr>\n    <tr>\n      <th>7</th>\n      <td>0014-BMAQU</td>\n      <td>No</td>\n      <td>Male</td>\n      <td>0</td>\n      <td>Yes</td>\n      <td>No</td>\n      <td>63</td>\n      <td>Yes</td>\n      <td>Yes</td>\n      <td>Fiber optic</td>\n      <td>Yes</td>\n      <td>No</td>\n      <td>No</td>\n      <td>Yes</td>\n      <td>No</td>\n      <td>No</td>\n      <td>Two year</td>\n      <td>Yes</td>\n      <td>Credit card (automatic)</td>\n      <td>84.65</td>\n      <td>5377.8</td>\n    </tr>\n    <tr>\n      <th>8</th>\n      <td>0015-UOCOJ</td>\n      <td>No</td>\n      <td>Female</td>\n      <td>1</td>\n      <td>No</td>\n      <td>No</td>\n      <td>7</td>\n      <td>Yes</td>\n      <td>No</td>\n      <td>DSL</td>\n      <td>Yes</td>\n      <td>No</td>\n      <td>No</td>\n      <td>No</td>\n      <td>No</td>\n      <td>No</td>\n      <td>Month-to-month</td>\n      <td>Yes</td>\n      <td>Electronic check</td>\n      <td>48.20</td>\n      <td>340.35</td>\n    </tr>\n    <tr>\n      <th>9</th>\n      <td>0016-QLJIS</td>\n      <td>No</td>\n      <td>Female</td>\n      <td>0</td>\n      <td>Yes</td>\n      <td>Yes</td>\n      <td>65</td>\n      <td>Yes</td>\n      <td>Yes</td>\n      <td>DSL</td>\n      <td>Yes</td>\n      <td>Yes</td>\n      <td>Yes</td>\n      <td>Yes</td>\n      <td>Yes</td>\n      <td>Yes</td>\n      <td>Two year</td>\n      <td>Yes</td>\n      <td>Mailed check</td>\n      <td>90.45</td>\n      <td>5957.9</td>\n    </tr>\n  </tbody>\n</table>\n</div>"
     },
     "execution_count": 16,
     "metadata": {},
     "output_type": "execute_result"
    }
   ],
   "source": [
    "# The \"customer\", \"phone\", \"internet\" and \"account\" columns of the original DataFrame have been left out deliberately.\n",
    "\n",
    "data = pd.concat([data[[\"customer_id\", \"churn\"]], data_customer, data_phone, data_internet,data_account], axis = 1)\n",
    "\n",
    "data.head(10)"
   ],
   "metadata": {
    "collapsed": false,
    "pycharm": {
     "name": "#%%\n"
    }
   }
  },
  {
   "cell_type": "markdown",
   "source": [
    "---\n",
    "# Understanding the dataset information"
   ],
   "metadata": {
    "collapsed": false,
    "pycharm": {
     "name": "#%% md\n"
    }
   },
   "outputs": []
  },
  {
   "cell_type": "code",
   "execution_count": 17,
   "outputs": [
    {
     "name": "stdout",
     "output_type": "stream",
     "text": [
      "The dataset currently has 7267 customer entries and 21 different pieces of information about each of them\n"
     ]
    }
   ],
   "source": [
    "print(f\"The dataset currently has {data.shape[0]} customer entries and {data.shape[1]} different pieces of information about each of them\")"
   ],
   "metadata": {
    "collapsed": false,
    "pycharm": {
     "name": "#%%\n"
    }
   }
  },
  {
   "cell_type": "markdown",
   "source": [
    "---\n",
    "# Analysing data entries and their types"
   ],
   "metadata": {
    "collapsed": false,
    "pycharm": {
     "name": "#%% md\n"
    }
   },
   "outputs": []
  },
  {
   "cell_type": "code",
   "execution_count": 18,
   "outputs": [
    {
     "name": "stdout",
     "output_type": "stream",
     "text": [
      "<class 'pandas.core.frame.DataFrame'>\n",
      "RangeIndex: 7267 entries, 0 to 7266\n",
      "Data columns (total 21 columns):\n",
      " #   Column             Non-Null Count  Dtype  \n",
      "---  ------             --------------  -----  \n",
      " 0   customer_id        7267 non-null   object \n",
      " 1   churn              7267 non-null   object \n",
      " 2   gender             7267 non-null   object \n",
      " 3   senior_citizen     7267 non-null   int64  \n",
      " 4   partner            7267 non-null   object \n",
      " 5   dependents         7267 non-null   object \n",
      " 6   tenure             7267 non-null   int64  \n",
      " 7   phone_service      7267 non-null   object \n",
      " 8   multiple_lines     7267 non-null   object \n",
      " 9   internet_service   7267 non-null   object \n",
      " 10  online_security    7267 non-null   object \n",
      " 11  online_backup      7267 non-null   object \n",
      " 12  device_protection  7267 non-null   object \n",
      " 13  tech_support       7267 non-null   object \n",
      " 14  streaming_tv       7267 non-null   object \n",
      " 15  streaming_movies   7267 non-null   object \n",
      " 16  contract           7267 non-null   object \n",
      " 17  paperless_billing  7267 non-null   object \n",
      " 18  payment_method     7267 non-null   object \n",
      " 19  charges_monthly    7267 non-null   float64\n",
      " 20  charges_total      7267 non-null   object \n",
      "dtypes: float64(1), int64(2), object(18)\n",
      "memory usage: 1.2+ MB\n"
     ]
    }
   ],
   "source": [
    "data.info()"
   ],
   "metadata": {
    "collapsed": false,
    "pycharm": {
     "name": "#%%\n"
    }
   }
  },
  {
   "cell_type": "markdown",
   "source": [
    "##### - As the DataFrame info is analysed, we can see that there are no values considered to be null in all columns.\n",
    "##### - The variable \"senior_citizen\", which should be a boolean one, is actually labeled as being of the int type. This happened because the \"Yes\" or \"No\" have been replaced with \"0\" and \"1\". At the stage of fixing data inconsistencies, it will be decided whether to switch to \"Yes\" and \"No\" or maintain zeroes and ones.\n",
    "##### - The variable \"charges_total\", which should be of the float/integer type, is actually an object. The reasons and corrections to this irregularity will be addressed in the stage of fixing data inconsistencies."
   ],
   "metadata": {
    "collapsed": false,
    "pycharm": {
     "name": "#%% md\n"
    }
   }
  },
  {
   "cell_type": "markdown",
   "source": [
    "### <font color = \"Blue\"> Boolean Variables\n",
    "\n",
    "Beginer-friendly text: a boolean variable is that which involves a dichotomy of \"True\"/\"False\", \"Yes\"/\"No\", one or the other, without any middle ground.\n",
    "- churn\n",
    "- senior_citizen\n",
    "- partner\n",
    "- dependents\n",
    "- phone_service\n",
    "- multiple_lines\n",
    "- online_security\n",
    "- online_backup\n",
    "- device_protection\n",
    "- tech_support\n",
    "- streaming_tv\n",
    "- streaming_movies\n",
    "- paperless_billing"
   ],
   "metadata": {
    "collapsed": false,
    "pycharm": {
     "name": "#%% md\n"
    }
   }
  },
  {
   "cell_type": "markdown",
   "source": [
    "### <font color = \"Blue\"> Quantitative Variables\n",
    "\n",
    "- tenure\n",
    "- charges_monthly\n",
    "- charges_total"
   ],
   "metadata": {
    "collapsed": false,
    "pycharm": {
     "name": "#%% md\n"
    }
   }
  },
  {
   "cell_type": "markdown",
   "source": [
    "### <font color = \"Blue\"> Descriptive Variables\n",
    "\n",
    "- customer_id\n",
    "- gender\n",
    "- internet_service\n",
    "- contract\n",
    "- payment_method"
   ],
   "metadata": {
    "collapsed": false,
    "pycharm": {
     "name": "#%% md\n"
    }
   }
  },
  {
   "cell_type": "markdown",
   "source": [
    "---\n",
    "# Checking for and Fixing inconsistencies in the data"
   ],
   "metadata": {
    "collapsed": false,
    "pycharm": {
     "name": "#%% md\n"
    }
   }
  },
  {
   "cell_type": "markdown",
   "source": [
    "#### <font color = \"Blue\"> 1. The first thing that came to mind was to check if there were no duplicated customers in the dataset. This was done by using the unique() method and applying it to the customer_id column."
   ],
   "metadata": {
    "collapsed": false,
    "pycharm": {
     "name": "#%% md\n"
    }
   }
  },
  {
   "cell_type": "code",
   "execution_count": 19,
   "outputs": [
    {
     "data": {
      "text/plain": "7267"
     },
     "execution_count": 19,
     "metadata": {},
     "output_type": "execute_result"
    }
   ],
   "source": [
    "# The result of this cell indicates that there are 7267 different customer IDs in the dataset.\n",
    "\n",
    "data[\"customer_id\"].unique().shape[0]"
   ],
   "metadata": {
    "collapsed": false,
    "pycharm": {
     "name": "#%%\n"
    }
   }
  },
  {
   "cell_type": "code",
   "execution_count": 20,
   "outputs": [
    {
     "data": {
      "text/plain": "7267"
     },
     "execution_count": 20,
     "metadata": {},
     "output_type": "execute_result"
    }
   ],
   "source": [
    "data.shape[0]"
   ],
   "metadata": {
    "collapsed": false,
    "pycharm": {
     "name": "#%%\n"
    }
   }
  },
  {
   "cell_type": "code",
   "execution_count": 21,
   "outputs": [
    {
     "data": {
      "text/plain": "Empty DataFrame\nColumns: [customer_id, churn, gender, senior_citizen, partner, dependents, tenure, phone_service, multiple_lines, internet_service, online_security, online_backup, device_protection, tech_support, streaming_tv, streaming_movies, contract, paperless_billing, payment_method, charges_monthly, charges_total]\nIndex: []",
      "text/html": "<div>\n<style scoped>\n    .dataframe tbody tr th:only-of-type {\n        vertical-align: middle;\n    }\n\n    .dataframe tbody tr th {\n        vertical-align: top;\n    }\n\n    .dataframe thead th {\n        text-align: right;\n    }\n</style>\n<table border=\"1\" class=\"dataframe\">\n  <thead>\n    <tr style=\"text-align: right;\">\n      <th></th>\n      <th>customer_id</th>\n      <th>churn</th>\n      <th>gender</th>\n      <th>senior_citizen</th>\n      <th>partner</th>\n      <th>dependents</th>\n      <th>tenure</th>\n      <th>phone_service</th>\n      <th>multiple_lines</th>\n      <th>internet_service</th>\n      <th>online_security</th>\n      <th>online_backup</th>\n      <th>device_protection</th>\n      <th>tech_support</th>\n      <th>streaming_tv</th>\n      <th>streaming_movies</th>\n      <th>contract</th>\n      <th>paperless_billing</th>\n      <th>payment_method</th>\n      <th>charges_monthly</th>\n      <th>charges_total</th>\n    </tr>\n  </thead>\n  <tbody>\n  </tbody>\n</table>\n</div>"
     },
     "execution_count": 21,
     "metadata": {},
     "output_type": "execute_result"
    }
   ],
   "source": [
    "# Let's quickly check if the customer_id has got any blank entries.\n",
    "\n",
    "data.query(\"customer_id == ''\")"
   ],
   "metadata": {
    "collapsed": false,
    "pycharm": {
     "name": "#%%\n"
    }
   }
  },
  {
   "cell_type": "markdown",
   "source": [
    "##### <font color = \"Green\"> Being that the dataset originally has got 7.267 entries, none of them are blank, and each of them has got a unique customer ID, we can discard the possibility of there being duplicated entries."
   ],
   "metadata": {
    "collapsed": false,
    "pycharm": {
     "name": "#%% md\n"
    }
   }
  },
  {
   "cell_type": "markdown",
   "source": [
    "#### <font color = \"Blue\"> 2. The *senior_citizen* variable has got 0 and 1 for values rather than \"Yes\" and \"No\"."
   ],
   "metadata": {
    "collapsed": false,
    "pycharm": {
     "name": "#%% md\n"
    }
   }
  },
  {
   "cell_type": "markdown",
   "source": [
    "##### First, I wanted to understand which number represented which condition of \"Yes\" (is 65 years old or older) or \"No\"."
   ],
   "metadata": {
    "collapsed": false,
    "pycharm": {
     "name": "#%% md\n"
    }
   }
  },
  {
   "cell_type": "code",
   "execution_count": 22,
   "outputs": [
    {
     "data": {
      "text/plain": "0    83.734691\n1    16.265309\nName: senior_citizen, dtype: float64"
     },
     "execution_count": 22,
     "metadata": {},
     "output_type": "execute_result"
    }
   ],
   "source": [
    "data[\"senior_citizen\"].value_counts(normalize = True) * 100"
   ],
   "metadata": {
    "collapsed": false,
    "pycharm": {
     "name": "#%%\n"
    }
   }
  },
  {
   "cell_type": "markdown",
   "source": [
    "##### Given that a bit less than 83.75% of customers are \"0\", it is most likely that 0 means \"No\" (they are not 65 years or older)."
   ],
   "metadata": {
    "collapsed": false,
    "pycharm": {
     "name": "#%% md\n"
    }
   },
   "outputs": []
  },
  {
   "cell_type": "markdown",
   "source": [
    "\n",
    "##### For the purpose of standardizing variable labels, <font color = \"Green\"> I have decided to replace 0 with \"No\" and 1 with \"Yes\"."
   ],
   "metadata": {
    "collapsed": false,
    "pycharm": {
     "name": "#%% md\n"
    }
   }
  },
  {
   "cell_type": "code",
   "execution_count": 23,
   "outputs": [],
   "source": [
    "data[\"senior_citizen\"] = data[\"senior_citizen\"].transform(lambda value: \"Yes\" if value == 1 else \"No\")"
   ],
   "metadata": {
    "collapsed": false,
    "pycharm": {
     "name": "#%%\n"
    }
   }
  },
  {
   "cell_type": "code",
   "execution_count": 24,
   "outputs": [
    {
     "data": {
      "text/plain": "No     83.734691\nYes    16.265309\nName: senior_citizen, dtype: float64"
     },
     "execution_count": 24,
     "metadata": {},
     "output_type": "execute_result"
    }
   ],
   "source": [
    "# With the test in this cell, we can see that the percentages have not changed after altering the labels of each value.\n",
    "\n",
    "data[\"senior_citizen\"].value_counts(normalize = True) * 100"
   ],
   "metadata": {
    "collapsed": false,
    "pycharm": {
     "name": "#%%\n"
    }
   }
  },
  {
   "cell_type": "markdown",
   "source": [
    "##### After this check, we are certain that all values in the *senior_citizen* column have been replaced with \"Yes\" and \"No\"."
   ],
   "metadata": {
    "collapsed": false,
    "pycharm": {
     "name": "#%% md\n"
    }
   }
  },
  {
   "cell_type": "markdown",
   "source": [
    "#### <font color = \"Blue\"> 3. As has been mentioned before, the \"charges_total\" variable values are labeled as objects when we use the info() method. Let's see what that's about."
   ],
   "metadata": {
    "collapsed": false,
    "pycharm": {
     "name": "#%% md\n"
    }
   }
  },
  {
   "cell_type": "code",
   "execution_count": 25,
   "outputs": [
    {
     "data": {
      "text/plain": "'593.3'"
     },
     "execution_count": 25,
     "metadata": {},
     "output_type": "execute_result"
    }
   ],
   "source": [
    "data[\"charges_total\"][0]"
   ],
   "metadata": {
    "collapsed": false,
    "pycharm": {
     "name": "#%%\n"
    }
   }
  },
  {
   "cell_type": "code",
   "execution_count": 26,
   "outputs": [
    {
     "data": {
      "text/plain": "str"
     },
     "execution_count": 26,
     "metadata": {},
     "output_type": "execute_result"
    }
   ],
   "source": [
    "type(data[\"charges_total\"][0])"
   ],
   "metadata": {
    "collapsed": false,
    "pycharm": {
     "name": "#%%\n"
    }
   }
  },
  {
   "cell_type": "markdown",
   "source": [
    "##### The test above already raises a possibility. Though the values appear to be floats, they might all be strings. Let's build a more sophisticated test and apply it to all entries in this column."
   ],
   "metadata": {
    "collapsed": false,
    "pycharm": {
     "name": "#%% md\n"
    }
   }
  },
  {
   "cell_type": "code",
   "execution_count": 27,
   "outputs": [
    {
     "data": {
      "text/plain": "True    100.0\nName: charges_total, dtype: float64"
     },
     "execution_count": 27,
     "metadata": {},
     "output_type": "execute_result"
    }
   ],
   "source": [
    "data[\"charges_total\"].apply(lambda value: type(value) == str).value_counts(normalize = True) * 100"
   ],
   "metadata": {
    "collapsed": false,
    "pycharm": {
     "name": "#%%\n"
    }
   }
  },
  {
   "cell_type": "markdown",
   "source": [
    "##### <font color = \"Green\"> As this test has proven, 100% of the values in this column are strings. We can change their type to floats using the to_numeric() method."
   ],
   "metadata": {
    "collapsed": false,
    "pycharm": {
     "name": "#%% md\n"
    }
   }
  },
  {
   "cell_type": "code",
   "execution_count": 28,
   "outputs": [],
   "source": [
    "data[\"charges_total\"] = pd.to_numeric(arg = data[\"charges_total\"], errors = \"coerce\")"
   ],
   "metadata": {
    "collapsed": false,
    "pycharm": {
     "name": "#%%\n"
    }
   }
  },
  {
   "cell_type": "markdown",
   "source": [
    "##### After this switch has been done, let's reapply the test from before, but checking if they have become floats."
   ],
   "metadata": {
    "collapsed": false,
    "pycharm": {
     "name": "#%% md\n"
    }
   }
  },
  {
   "cell_type": "code",
   "execution_count": 29,
   "outputs": [
    {
     "data": {
      "text/plain": "True    100.0\nName: charges_total, dtype: float64"
     },
     "execution_count": 29,
     "metadata": {},
     "output_type": "execute_result"
    }
   ],
   "source": [
    "data[\"charges_total\"].apply(lambda value: type(value) == float).value_counts(normalize = True) * 100"
   ],
   "metadata": {
    "collapsed": false,
    "pycharm": {
     "name": "#%%\n"
    }
   }
  },
  {
   "cell_type": "markdown",
   "source": [
    "##### 100% of them are now floats!"
   ],
   "metadata": {
    "collapsed": false,
    "pycharm": {
     "name": "#%% md\n"
    }
   }
  },
  {
   "cell_type": "markdown",
   "source": [
    "#### <font color = \"Blue\"> 4. Still on the \"charges_total\" variable, a quick use of the isnull() method shows us that there are 11 entries with null values."
   ],
   "metadata": {
    "collapsed": false,
    "pycharm": {
     "name": "#%% md\n"
    }
   }
  },
  {
   "cell_type": "code",
   "execution_count": 30,
   "outputs": [
    {
     "data": {
      "text/plain": "False    7256\nTrue       11\nName: charges_total, dtype: int64"
     },
     "execution_count": 30,
     "metadata": {},
     "output_type": "execute_result"
    }
   ],
   "source": [
    "data[\"charges_total\"].isnull().value_counts()"
   ],
   "metadata": {
    "collapsed": false,
    "pycharm": {
     "name": "#%%\n"
    }
   }
  },
  {
   "cell_type": "markdown",
   "source": [
    "##### Let's understand the reason by visualizing these 11 entries through a query."
   ],
   "metadata": {
    "collapsed": false,
    "pycharm": {
     "name": "#%% md\n"
    }
   }
  },
  {
   "cell_type": "code",
   "execution_count": 31,
   "outputs": [
    {
     "data": {
      "text/plain": "     customer_id churn  gender senior_citizen partner dependents  tenure  \\\n975   1371-DWPAZ    No  Female             No     Yes        Yes       0   \n1775  2520-SGTTA    No  Female             No     Yes        Yes       0   \n1955  2775-SEFEE    No    Male             No      No        Yes       0   \n2075  2923-ARZLG    No    Male             No     Yes        Yes       0   \n2232  3115-CZMZD    No    Male             No      No        Yes       0   \n2308  3213-VVOLG    No    Male             No     Yes        Yes       0   \n2930  4075-WKNIU    No  Female             No     Yes        Yes       0   \n3134  4367-NUYAO    No    Male             No     Yes        Yes       0   \n3203  4472-LVYGI    No  Female             No     Yes        Yes       0   \n4169  5709-LVOEQ    No  Female             No     Yes        Yes       0   \n5599  7644-OMVMY    No    Male             No     Yes        Yes       0   \n\n     phone_service    multiple_lines internet_service      online_security  \\\n975             No  No phone service              DSL                  Yes   \n1775           Yes                No               No  No internet service   \n1955           Yes               Yes              DSL                  Yes   \n2075           Yes                No               No  No internet service   \n2232           Yes                No               No  No internet service   \n2308           Yes               Yes               No  No internet service   \n2930           Yes               Yes              DSL                   No   \n3134           Yes               Yes               No  No internet service   \n3203            No  No phone service              DSL                  Yes   \n4169           Yes                No              DSL                  Yes   \n5599           Yes                No               No  No internet service   \n\n            online_backup    device_protection         tech_support  \\\n975                   Yes                  Yes                  Yes   \n1775  No internet service  No internet service  No internet service   \n1955                  Yes                   No                  Yes   \n2075  No internet service  No internet service  No internet service   \n2232  No internet service  No internet service  No internet service   \n2308  No internet service  No internet service  No internet service   \n2930                  Yes                  Yes                  Yes   \n3134  No internet service  No internet service  No internet service   \n3203                   No                  Yes                  Yes   \n4169                  Yes                  Yes                   No   \n5599  No internet service  No internet service  No internet service   \n\n             streaming_tv     streaming_movies  contract paperless_billing  \\\n975                   Yes                   No  Two year                No   \n1775  No internet service  No internet service  Two year                No   \n1955                   No                   No  Two year               Yes   \n2075  No internet service  No internet service  One year               Yes   \n2232  No internet service  No internet service  Two year                No   \n2308  No internet service  No internet service  Two year                No   \n2930                  Yes                   No  Two year                No   \n3134  No internet service  No internet service  Two year                No   \n3203                  Yes                   No  Two year               Yes   \n4169                  Yes                  Yes  Two year                No   \n5599  No internet service  No internet service  Two year                No   \n\n                 payment_method  charges_monthly  charges_total  \n975     Credit card (automatic)            56.05            NaN  \n1775               Mailed check            20.00            NaN  \n1955  Bank transfer (automatic)            61.90            NaN  \n2075               Mailed check            19.70            NaN  \n2232               Mailed check            20.25            NaN  \n2308               Mailed check            25.35            NaN  \n2930               Mailed check            73.35            NaN  \n3134               Mailed check            25.75            NaN  \n3203  Bank transfer (automatic)            52.55            NaN  \n4169               Mailed check            80.85            NaN  \n5599               Mailed check            19.85            NaN  ",
      "text/html": "<div>\n<style scoped>\n    .dataframe tbody tr th:only-of-type {\n        vertical-align: middle;\n    }\n\n    .dataframe tbody tr th {\n        vertical-align: top;\n    }\n\n    .dataframe thead th {\n        text-align: right;\n    }\n</style>\n<table border=\"1\" class=\"dataframe\">\n  <thead>\n    <tr style=\"text-align: right;\">\n      <th></th>\n      <th>customer_id</th>\n      <th>churn</th>\n      <th>gender</th>\n      <th>senior_citizen</th>\n      <th>partner</th>\n      <th>dependents</th>\n      <th>tenure</th>\n      <th>phone_service</th>\n      <th>multiple_lines</th>\n      <th>internet_service</th>\n      <th>online_security</th>\n      <th>online_backup</th>\n      <th>device_protection</th>\n      <th>tech_support</th>\n      <th>streaming_tv</th>\n      <th>streaming_movies</th>\n      <th>contract</th>\n      <th>paperless_billing</th>\n      <th>payment_method</th>\n      <th>charges_monthly</th>\n      <th>charges_total</th>\n    </tr>\n  </thead>\n  <tbody>\n    <tr>\n      <th>975</th>\n      <td>1371-DWPAZ</td>\n      <td>No</td>\n      <td>Female</td>\n      <td>No</td>\n      <td>Yes</td>\n      <td>Yes</td>\n      <td>0</td>\n      <td>No</td>\n      <td>No phone service</td>\n      <td>DSL</td>\n      <td>Yes</td>\n      <td>Yes</td>\n      <td>Yes</td>\n      <td>Yes</td>\n      <td>Yes</td>\n      <td>No</td>\n      <td>Two year</td>\n      <td>No</td>\n      <td>Credit card (automatic)</td>\n      <td>56.05</td>\n      <td>NaN</td>\n    </tr>\n    <tr>\n      <th>1775</th>\n      <td>2520-SGTTA</td>\n      <td>No</td>\n      <td>Female</td>\n      <td>No</td>\n      <td>Yes</td>\n      <td>Yes</td>\n      <td>0</td>\n      <td>Yes</td>\n      <td>No</td>\n      <td>No</td>\n      <td>No internet service</td>\n      <td>No internet service</td>\n      <td>No internet service</td>\n      <td>No internet service</td>\n      <td>No internet service</td>\n      <td>No internet service</td>\n      <td>Two year</td>\n      <td>No</td>\n      <td>Mailed check</td>\n      <td>20.00</td>\n      <td>NaN</td>\n    </tr>\n    <tr>\n      <th>1955</th>\n      <td>2775-SEFEE</td>\n      <td>No</td>\n      <td>Male</td>\n      <td>No</td>\n      <td>No</td>\n      <td>Yes</td>\n      <td>0</td>\n      <td>Yes</td>\n      <td>Yes</td>\n      <td>DSL</td>\n      <td>Yes</td>\n      <td>Yes</td>\n      <td>No</td>\n      <td>Yes</td>\n      <td>No</td>\n      <td>No</td>\n      <td>Two year</td>\n      <td>Yes</td>\n      <td>Bank transfer (automatic)</td>\n      <td>61.90</td>\n      <td>NaN</td>\n    </tr>\n    <tr>\n      <th>2075</th>\n      <td>2923-ARZLG</td>\n      <td>No</td>\n      <td>Male</td>\n      <td>No</td>\n      <td>Yes</td>\n      <td>Yes</td>\n      <td>0</td>\n      <td>Yes</td>\n      <td>No</td>\n      <td>No</td>\n      <td>No internet service</td>\n      <td>No internet service</td>\n      <td>No internet service</td>\n      <td>No internet service</td>\n      <td>No internet service</td>\n      <td>No internet service</td>\n      <td>One year</td>\n      <td>Yes</td>\n      <td>Mailed check</td>\n      <td>19.70</td>\n      <td>NaN</td>\n    </tr>\n    <tr>\n      <th>2232</th>\n      <td>3115-CZMZD</td>\n      <td>No</td>\n      <td>Male</td>\n      <td>No</td>\n      <td>No</td>\n      <td>Yes</td>\n      <td>0</td>\n      <td>Yes</td>\n      <td>No</td>\n      <td>No</td>\n      <td>No internet service</td>\n      <td>No internet service</td>\n      <td>No internet service</td>\n      <td>No internet service</td>\n      <td>No internet service</td>\n      <td>No internet service</td>\n      <td>Two year</td>\n      <td>No</td>\n      <td>Mailed check</td>\n      <td>20.25</td>\n      <td>NaN</td>\n    </tr>\n    <tr>\n      <th>2308</th>\n      <td>3213-VVOLG</td>\n      <td>No</td>\n      <td>Male</td>\n      <td>No</td>\n      <td>Yes</td>\n      <td>Yes</td>\n      <td>0</td>\n      <td>Yes</td>\n      <td>Yes</td>\n      <td>No</td>\n      <td>No internet service</td>\n      <td>No internet service</td>\n      <td>No internet service</td>\n      <td>No internet service</td>\n      <td>No internet service</td>\n      <td>No internet service</td>\n      <td>Two year</td>\n      <td>No</td>\n      <td>Mailed check</td>\n      <td>25.35</td>\n      <td>NaN</td>\n    </tr>\n    <tr>\n      <th>2930</th>\n      <td>4075-WKNIU</td>\n      <td>No</td>\n      <td>Female</td>\n      <td>No</td>\n      <td>Yes</td>\n      <td>Yes</td>\n      <td>0</td>\n      <td>Yes</td>\n      <td>Yes</td>\n      <td>DSL</td>\n      <td>No</td>\n      <td>Yes</td>\n      <td>Yes</td>\n      <td>Yes</td>\n      <td>Yes</td>\n      <td>No</td>\n      <td>Two year</td>\n      <td>No</td>\n      <td>Mailed check</td>\n      <td>73.35</td>\n      <td>NaN</td>\n    </tr>\n    <tr>\n      <th>3134</th>\n      <td>4367-NUYAO</td>\n      <td>No</td>\n      <td>Male</td>\n      <td>No</td>\n      <td>Yes</td>\n      <td>Yes</td>\n      <td>0</td>\n      <td>Yes</td>\n      <td>Yes</td>\n      <td>No</td>\n      <td>No internet service</td>\n      <td>No internet service</td>\n      <td>No internet service</td>\n      <td>No internet service</td>\n      <td>No internet service</td>\n      <td>No internet service</td>\n      <td>Two year</td>\n      <td>No</td>\n      <td>Mailed check</td>\n      <td>25.75</td>\n      <td>NaN</td>\n    </tr>\n    <tr>\n      <th>3203</th>\n      <td>4472-LVYGI</td>\n      <td>No</td>\n      <td>Female</td>\n      <td>No</td>\n      <td>Yes</td>\n      <td>Yes</td>\n      <td>0</td>\n      <td>No</td>\n      <td>No phone service</td>\n      <td>DSL</td>\n      <td>Yes</td>\n      <td>No</td>\n      <td>Yes</td>\n      <td>Yes</td>\n      <td>Yes</td>\n      <td>No</td>\n      <td>Two year</td>\n      <td>Yes</td>\n      <td>Bank transfer (automatic)</td>\n      <td>52.55</td>\n      <td>NaN</td>\n    </tr>\n    <tr>\n      <th>4169</th>\n      <td>5709-LVOEQ</td>\n      <td>No</td>\n      <td>Female</td>\n      <td>No</td>\n      <td>Yes</td>\n      <td>Yes</td>\n      <td>0</td>\n      <td>Yes</td>\n      <td>No</td>\n      <td>DSL</td>\n      <td>Yes</td>\n      <td>Yes</td>\n      <td>Yes</td>\n      <td>No</td>\n      <td>Yes</td>\n      <td>Yes</td>\n      <td>Two year</td>\n      <td>No</td>\n      <td>Mailed check</td>\n      <td>80.85</td>\n      <td>NaN</td>\n    </tr>\n    <tr>\n      <th>5599</th>\n      <td>7644-OMVMY</td>\n      <td>No</td>\n      <td>Male</td>\n      <td>No</td>\n      <td>Yes</td>\n      <td>Yes</td>\n      <td>0</td>\n      <td>Yes</td>\n      <td>No</td>\n      <td>No</td>\n      <td>No internet service</td>\n      <td>No internet service</td>\n      <td>No internet service</td>\n      <td>No internet service</td>\n      <td>No internet service</td>\n      <td>No internet service</td>\n      <td>Two year</td>\n      <td>No</td>\n      <td>Mailed check</td>\n      <td>19.85</td>\n      <td>NaN</td>\n    </tr>\n  </tbody>\n</table>\n</div>"
     },
     "execution_count": 31,
     "metadata": {},
     "output_type": "execute_result"
    }
   ],
   "source": [
    "data[data[\"charges_total\"].isna() == True]"
   ],
   "metadata": {
    "collapsed": false,
    "pycharm": {
     "name": "#%%\n"
    }
   }
  },
  {
   "cell_type": "markdown",
   "source": [
    "##### As future inspiration for analysis, it's interesting to note that:\n",
    "##### - All of these customers are below 64 years of age (as seen by the *senior_citizen* variable).\n",
    "##### - All of these customers have dependents.\n",
    "##### - None of these customers have left the company (as seen by the *churn* variable)."
   ],
   "metadata": {
    "collapsed": false,
    "pycharm": {
     "name": "#%% md\n"
    }
   }
  },
  {
   "cell_type": "markdown",
   "source": [
    "##### For the purpose of this specific issue though, the most important information is that <font color = \"Green\"> none of these customers have completed a full month of tenure with the company, which is probably why the *charges_total* values have appeared as null.\n",
    "##### Being that the case, let's see how *charges_total* behaves for 1-month-tenure customers."
   ],
   "metadata": {
    "collapsed": false,
    "pycharm": {
     "name": "#%% md\n"
    }
   }
  },
  {
   "cell_type": "code",
   "execution_count": 32,
   "outputs": [
    {
     "data": {
      "text/plain": "634"
     },
     "execution_count": 32,
     "metadata": {},
     "output_type": "execute_result"
    }
   ],
   "source": [
    "data.query(\"tenure == 1\").shape[0]"
   ],
   "metadata": {
    "collapsed": false,
    "pycharm": {
     "name": "#%%\n"
    }
   }
  },
  {
   "cell_type": "code",
   "execution_count": 33,
   "outputs": [
    {
     "data": {
      "text/plain": "634"
     },
     "execution_count": 33,
     "metadata": {},
     "output_type": "execute_result"
    }
   ],
   "source": [
    "data.query(\"tenure == 1\").query(\"charges_monthly == charges_total\").shape[0]"
   ],
   "metadata": {
    "collapsed": false,
    "pycharm": {
     "name": "#%%\n"
    }
   }
  },
  {
   "cell_type": "markdown",
   "source": [
    "##### As shown above, the *charges_monthly* and *charges_total* variables have the same values in each entry for 1-month-tenure customers. This would mean that *charges_total* values are \"1 month behind\" for all customers in the database, as charges for 0-month-tenure customers are not included in the dataset until the first month.\n",
    "\n",
    "##### Being that the case, <font color = \"Green\"> I have decided to fill the null values of 0-month-tenure customers with 0 rather than fill them with the information from the *charges_monthly*."
   ],
   "metadata": {
    "collapsed": false,
    "pycharm": {
     "name": "#%% md\n"
    }
   }
  },
  {
   "cell_type": "code",
   "execution_count": 34,
   "outputs": [
    {
     "data": {
      "text/plain": "Empty DataFrame\nColumns: [customer_id, churn, gender, senior_citizen, partner, dependents, tenure, phone_service, multiple_lines, internet_service, online_security, online_backup, device_protection, tech_support, streaming_tv, streaming_movies, contract, paperless_billing, payment_method, charges_monthly, charges_total]\nIndex: []",
      "text/html": "<div>\n<style scoped>\n    .dataframe tbody tr th:only-of-type {\n        vertical-align: middle;\n    }\n\n    .dataframe tbody tr th {\n        vertical-align: top;\n    }\n\n    .dataframe thead th {\n        text-align: right;\n    }\n</style>\n<table border=\"1\" class=\"dataframe\">\n  <thead>\n    <tr style=\"text-align: right;\">\n      <th></th>\n      <th>customer_id</th>\n      <th>churn</th>\n      <th>gender</th>\n      <th>senior_citizen</th>\n      <th>partner</th>\n      <th>dependents</th>\n      <th>tenure</th>\n      <th>phone_service</th>\n      <th>multiple_lines</th>\n      <th>internet_service</th>\n      <th>online_security</th>\n      <th>online_backup</th>\n      <th>device_protection</th>\n      <th>tech_support</th>\n      <th>streaming_tv</th>\n      <th>streaming_movies</th>\n      <th>contract</th>\n      <th>paperless_billing</th>\n      <th>payment_method</th>\n      <th>charges_monthly</th>\n      <th>charges_total</th>\n    </tr>\n  </thead>\n  <tbody>\n  </tbody>\n</table>\n</div>"
     },
     "execution_count": 34,
     "metadata": {},
     "output_type": "execute_result"
    }
   ],
   "source": [
    "# Let's apply 0 to the null values.\n",
    "\n",
    "data[\"charges_total\"].fillna(value = 0, inplace = True)\n",
    "\n",
    "# And repeat the test to see if they have actually been replaced.\n",
    "\n",
    "data[data[\"charges_total\"].isna() == True]"
   ],
   "metadata": {
    "collapsed": false,
    "pycharm": {
     "name": "#%%\n"
    }
   }
  },
  {
   "cell_type": "markdown",
   "source": [
    "#### <font color = \"Blue\"> 5. Checking for controversial entries between columns."
   ],
   "metadata": {
    "collapsed": false,
    "pycharm": {
     "name": "#%% md\n"
    }
   }
  },
  {
   "cell_type": "markdown",
   "source": [
    "##### By \"controversial entries\" I mean values that would mean impossible situations in reality. For example, it should be impossible for a customer to have \"Yes\" on the *multiple_lines* column and \"No\" on the *phone_service* column (in order to actually have multiple phone lines, the customer has to have at least one to begin with)."
   ],
   "metadata": {
    "collapsed": false,
    "pycharm": {
     "name": "#%% md\n"
    }
   }
  },
  {
   "cell_type": "markdown",
   "source": [
    "##### <font color = \"Blue\"> 5a. It should be impossible for a customer to have “Yes” on the multiple_lines column and “No” on the phone_service column."
   ],
   "metadata": {
    "collapsed": false,
    "pycharm": {
     "name": "#%% md\n"
    }
   }
  },
  {
   "cell_type": "code",
   "execution_count": 35,
   "outputs": [
    {
     "data": {
      "text/plain": "Empty DataFrame\nColumns: [customer_id, churn, gender, senior_citizen, partner, dependents, tenure, phone_service, multiple_lines, internet_service, online_security, online_backup, device_protection, tech_support, streaming_tv, streaming_movies, contract, paperless_billing, payment_method, charges_monthly, charges_total]\nIndex: []",
      "text/html": "<div>\n<style scoped>\n    .dataframe tbody tr th:only-of-type {\n        vertical-align: middle;\n    }\n\n    .dataframe tbody tr th {\n        vertical-align: top;\n    }\n\n    .dataframe thead th {\n        text-align: right;\n    }\n</style>\n<table border=\"1\" class=\"dataframe\">\n  <thead>\n    <tr style=\"text-align: right;\">\n      <th></th>\n      <th>customer_id</th>\n      <th>churn</th>\n      <th>gender</th>\n      <th>senior_citizen</th>\n      <th>partner</th>\n      <th>dependents</th>\n      <th>tenure</th>\n      <th>phone_service</th>\n      <th>multiple_lines</th>\n      <th>internet_service</th>\n      <th>online_security</th>\n      <th>online_backup</th>\n      <th>device_protection</th>\n      <th>tech_support</th>\n      <th>streaming_tv</th>\n      <th>streaming_movies</th>\n      <th>contract</th>\n      <th>paperless_billing</th>\n      <th>payment_method</th>\n      <th>charges_monthly</th>\n      <th>charges_total</th>\n    </tr>\n  </thead>\n  <tbody>\n  </tbody>\n</table>\n</div>"
     },
     "execution_count": 35,
     "metadata": {},
     "output_type": "execute_result"
    }
   ],
   "source": [
    "data.query(\"phone_service == 'No' and multiple_lines == 'Yes'\")"
   ],
   "metadata": {
    "collapsed": false,
    "pycharm": {
     "name": "#%%\n"
    }
   }
  },
  {
   "cell_type": "markdown",
   "source": [
    "##### No entries are returned, so <font color = \"Green\"> **we can consider the data to be in conformity**."
   ],
   "metadata": {
    "collapsed": false,
    "pycharm": {
     "name": "#%% md\n"
    }
   }
  },
  {
   "cell_type": "markdown",
   "source": [
    "##### <font color = \"Blue\"> 5b. Whenever a customer has got \"No\" on the *phone_service* column, the *multiple_lines* column should be labeled as \"No phone service\""
   ],
   "metadata": {
    "collapsed": false,
    "pycharm": {
     "name": "#%% md\n"
    }
   }
  },
  {
   "cell_type": "code",
   "execution_count": 36,
   "outputs": [
    {
     "data": {
      "text/plain": "Empty DataFrame\nColumns: [customer_id, churn, gender, senior_citizen, partner, dependents, tenure, phone_service, multiple_lines, internet_service, online_security, online_backup, device_protection, tech_support, streaming_tv, streaming_movies, contract, paperless_billing, payment_method, charges_monthly, charges_total]\nIndex: []",
      "text/html": "<div>\n<style scoped>\n    .dataframe tbody tr th:only-of-type {\n        vertical-align: middle;\n    }\n\n    .dataframe tbody tr th {\n        vertical-align: top;\n    }\n\n    .dataframe thead th {\n        text-align: right;\n    }\n</style>\n<table border=\"1\" class=\"dataframe\">\n  <thead>\n    <tr style=\"text-align: right;\">\n      <th></th>\n      <th>customer_id</th>\n      <th>churn</th>\n      <th>gender</th>\n      <th>senior_citizen</th>\n      <th>partner</th>\n      <th>dependents</th>\n      <th>tenure</th>\n      <th>phone_service</th>\n      <th>multiple_lines</th>\n      <th>internet_service</th>\n      <th>online_security</th>\n      <th>online_backup</th>\n      <th>device_protection</th>\n      <th>tech_support</th>\n      <th>streaming_tv</th>\n      <th>streaming_movies</th>\n      <th>contract</th>\n      <th>paperless_billing</th>\n      <th>payment_method</th>\n      <th>charges_monthly</th>\n      <th>charges_total</th>\n    </tr>\n  </thead>\n  <tbody>\n  </tbody>\n</table>\n</div>"
     },
     "execution_count": 36,
     "metadata": {},
     "output_type": "execute_result"
    }
   ],
   "source": [
    "data.query(\"phone_service == 'No' and multiple_lines == 'No'\")"
   ],
   "metadata": {
    "collapsed": false,
    "pycharm": {
     "name": "#%%\n"
    }
   }
  },
  {
   "cell_type": "markdown",
   "source": [
    "##### No entries are returned, so <font color = \"Green\"> **we can consider the data to be in conformity**."
   ],
   "metadata": {
    "collapsed": false,
    "pycharm": {
     "name": "#%% md\n"
    }
   }
  },
  {
   "cell_type": "markdown",
   "source": [
    "##### <font color = \"Blue\"> 5c. Whenever a customer has got \"No\" on the *internet_service* column, the *online_security*, *online_backup*, *device_protection*, *tech_support*, *streaming_tv* and *streaming_movies* columns should all be labeled as \"No internet service\"."
   ],
   "metadata": {
    "collapsed": false,
    "pycharm": {
     "name": "#%% md\n"
    }
   }
  },
  {
   "cell_type": "code",
   "execution_count": 37,
   "outputs": [
    {
     "data": {
      "text/plain": "Empty DataFrame\nColumns: [customer_id, churn, gender, senior_citizen, partner, dependents, tenure, phone_service, multiple_lines, internet_service, online_security, online_backup, device_protection, tech_support, streaming_tv, streaming_movies, contract, paperless_billing, payment_method, charges_monthly, charges_total]\nIndex: []",
      "text/html": "<div>\n<style scoped>\n    .dataframe tbody tr th:only-of-type {\n        vertical-align: middle;\n    }\n\n    .dataframe tbody tr th {\n        vertical-align: top;\n    }\n\n    .dataframe thead th {\n        text-align: right;\n    }\n</style>\n<table border=\"1\" class=\"dataframe\">\n  <thead>\n    <tr style=\"text-align: right;\">\n      <th></th>\n      <th>customer_id</th>\n      <th>churn</th>\n      <th>gender</th>\n      <th>senior_citizen</th>\n      <th>partner</th>\n      <th>dependents</th>\n      <th>tenure</th>\n      <th>phone_service</th>\n      <th>multiple_lines</th>\n      <th>internet_service</th>\n      <th>online_security</th>\n      <th>online_backup</th>\n      <th>device_protection</th>\n      <th>tech_support</th>\n      <th>streaming_tv</th>\n      <th>streaming_movies</th>\n      <th>contract</th>\n      <th>paperless_billing</th>\n      <th>payment_method</th>\n      <th>charges_monthly</th>\n      <th>charges_total</th>\n    </tr>\n  </thead>\n  <tbody>\n  </tbody>\n</table>\n</div>"
     },
     "execution_count": 37,
     "metadata": {},
     "output_type": "execute_result"
    }
   ],
   "source": [
    "data.query(\"internet_service == 'No' and (online_security == 'No' or online_backup == 'No' or device_protection == 'No' or tech_support == 'No' or streaming_tv == 'No' or streaming_movies == 'No')\")"
   ],
   "metadata": {
    "collapsed": false,
    "pycharm": {
     "name": "#%%\n"
    }
   }
  },
  {
   "cell_type": "markdown",
   "source": [
    "##### No entries are returned, so <font color = \"Green\"> **we can consider the data to be in conformity**."
   ],
   "metadata": {
    "collapsed": false,
    "pycharm": {
     "name": "#%% md\n"
    }
   }
  },
  {
   "cell_type": "markdown",
   "source": [
    "##### <font color = \"Blue\"> 5d. Whenever a customer has got \"Yes\" on the *phone_service* column, the *multiple_lines* column can't be labeled as \"No phone service\"."
   ],
   "metadata": {
    "collapsed": false,
    "pycharm": {
     "name": "#%% md\n"
    }
   }
  },
  {
   "cell_type": "code",
   "execution_count": 38,
   "outputs": [
    {
     "data": {
      "text/plain": "Empty DataFrame\nColumns: [customer_id, churn, gender, senior_citizen, partner, dependents, tenure, phone_service, multiple_lines, internet_service, online_security, online_backup, device_protection, tech_support, streaming_tv, streaming_movies, contract, paperless_billing, payment_method, charges_monthly, charges_total]\nIndex: []",
      "text/html": "<div>\n<style scoped>\n    .dataframe tbody tr th:only-of-type {\n        vertical-align: middle;\n    }\n\n    .dataframe tbody tr th {\n        vertical-align: top;\n    }\n\n    .dataframe thead th {\n        text-align: right;\n    }\n</style>\n<table border=\"1\" class=\"dataframe\">\n  <thead>\n    <tr style=\"text-align: right;\">\n      <th></th>\n      <th>customer_id</th>\n      <th>churn</th>\n      <th>gender</th>\n      <th>senior_citizen</th>\n      <th>partner</th>\n      <th>dependents</th>\n      <th>tenure</th>\n      <th>phone_service</th>\n      <th>multiple_lines</th>\n      <th>internet_service</th>\n      <th>online_security</th>\n      <th>online_backup</th>\n      <th>device_protection</th>\n      <th>tech_support</th>\n      <th>streaming_tv</th>\n      <th>streaming_movies</th>\n      <th>contract</th>\n      <th>paperless_billing</th>\n      <th>payment_method</th>\n      <th>charges_monthly</th>\n      <th>charges_total</th>\n    </tr>\n  </thead>\n  <tbody>\n  </tbody>\n</table>\n</div>"
     },
     "execution_count": 38,
     "metadata": {},
     "output_type": "execute_result"
    }
   ],
   "source": [
    "data.query(\"phone_service == 'Yes' and multiple_lines == 'No phone service'\")"
   ],
   "metadata": {
    "collapsed": false,
    "pycharm": {
     "name": "#%%\n"
    }
   }
  },
  {
   "cell_type": "markdown",
   "source": [
    "##### No entries are returned, so <font color = \"Green\"> **we can consider the data to be in conformity**."
   ],
   "metadata": {
    "collapsed": false,
    "pycharm": {
     "name": "#%% md\n"
    }
   }
  },
  {
   "cell_type": "markdown",
   "source": [
    "##### <font color = \"Blue\"> 5e. Whenever a customer has got \"Yes\" on the *internet_service* column, the *online_security*, *online_backup*, *device_protection*, *tech_support*, *streaming_tv* and *streaming_movies* columns can't be labeled as \"No internet service\".\n"
   ],
   "metadata": {
    "collapsed": false,
    "pycharm": {
     "name": "#%% md\n"
    }
   }
  },
  {
   "cell_type": "code",
   "execution_count": 39,
   "outputs": [
    {
     "data": {
      "text/plain": "Empty DataFrame\nColumns: [customer_id, churn, gender, senior_citizen, partner, dependents, tenure, phone_service, multiple_lines, internet_service, online_security, online_backup, device_protection, tech_support, streaming_tv, streaming_movies, contract, paperless_billing, payment_method, charges_monthly, charges_total]\nIndex: []",
      "text/html": "<div>\n<style scoped>\n    .dataframe tbody tr th:only-of-type {\n        vertical-align: middle;\n    }\n\n    .dataframe tbody tr th {\n        vertical-align: top;\n    }\n\n    .dataframe thead th {\n        text-align: right;\n    }\n</style>\n<table border=\"1\" class=\"dataframe\">\n  <thead>\n    <tr style=\"text-align: right;\">\n      <th></th>\n      <th>customer_id</th>\n      <th>churn</th>\n      <th>gender</th>\n      <th>senior_citizen</th>\n      <th>partner</th>\n      <th>dependents</th>\n      <th>tenure</th>\n      <th>phone_service</th>\n      <th>multiple_lines</th>\n      <th>internet_service</th>\n      <th>online_security</th>\n      <th>online_backup</th>\n      <th>device_protection</th>\n      <th>tech_support</th>\n      <th>streaming_tv</th>\n      <th>streaming_movies</th>\n      <th>contract</th>\n      <th>paperless_billing</th>\n      <th>payment_method</th>\n      <th>charges_monthly</th>\n      <th>charges_total</th>\n    </tr>\n  </thead>\n  <tbody>\n  </tbody>\n</table>\n</div>"
     },
     "execution_count": 39,
     "metadata": {},
     "output_type": "execute_result"
    }
   ],
   "source": [
    "data.query(\"internet_service == 'Yes' and (online_security == 'No phone service' or online_backup == 'No phone service' or device_protection == 'No phone service' or tech_support == 'No phone service' or streaming_tv == 'No phone service' or streaming_movies == 'No phone service')\")"
   ],
   "metadata": {
    "collapsed": false,
    "pycharm": {
     "name": "#%%\n"
    }
   }
  },
  {
   "cell_type": "markdown",
   "source": [
    "##### No entries are returned, so <font color = \"Green\"> **we can consider the data to be in conformity**."
   ],
   "metadata": {
    "collapsed": false,
    "pycharm": {
     "name": "#%% md\n"
    }
   }
  },
  {
   "cell_type": "markdown",
   "source": [
    "##### <font color = \"Blue\"> 5f. Since this is a customer database, all entries must have hired at least one of the services available. So there shouldn't be entries that have \"No\" in both *phone_service* and *internet_service* columns.\n"
   ],
   "metadata": {
    "collapsed": false,
    "pycharm": {
     "name": "#%% md\n"
    }
   }
  },
  {
   "cell_type": "code",
   "execution_count": 40,
   "outputs": [
    {
     "data": {
      "text/plain": "Empty DataFrame\nColumns: [customer_id, churn, gender, senior_citizen, partner, dependents, tenure, phone_service, multiple_lines, internet_service, online_security, online_backup, device_protection, tech_support, streaming_tv, streaming_movies, contract, paperless_billing, payment_method, charges_monthly, charges_total]\nIndex: []",
      "text/html": "<div>\n<style scoped>\n    .dataframe tbody tr th:only-of-type {\n        vertical-align: middle;\n    }\n\n    .dataframe tbody tr th {\n        vertical-align: top;\n    }\n\n    .dataframe thead th {\n        text-align: right;\n    }\n</style>\n<table border=\"1\" class=\"dataframe\">\n  <thead>\n    <tr style=\"text-align: right;\">\n      <th></th>\n      <th>customer_id</th>\n      <th>churn</th>\n      <th>gender</th>\n      <th>senior_citizen</th>\n      <th>partner</th>\n      <th>dependents</th>\n      <th>tenure</th>\n      <th>phone_service</th>\n      <th>multiple_lines</th>\n      <th>internet_service</th>\n      <th>online_security</th>\n      <th>online_backup</th>\n      <th>device_protection</th>\n      <th>tech_support</th>\n      <th>streaming_tv</th>\n      <th>streaming_movies</th>\n      <th>contract</th>\n      <th>paperless_billing</th>\n      <th>payment_method</th>\n      <th>charges_monthly</th>\n      <th>charges_total</th>\n    </tr>\n  </thead>\n  <tbody>\n  </tbody>\n</table>\n</div>"
     },
     "execution_count": 40,
     "metadata": {},
     "output_type": "execute_result"
    }
   ],
   "source": [
    "data.query(\"phone_service == 'No' and internet_service == 'No'\")"
   ],
   "metadata": {
    "collapsed": false,
    "pycharm": {
     "name": "#%%\n"
    }
   }
  },
  {
   "cell_type": "markdown",
   "source": [
    "##### No entries are returned, so <font color = \"Green\"> **we can consider the data to be in conformity**.\n"
   ],
   "metadata": {
    "collapsed": false,
    "pycharm": {
     "name": "#%% md\n"
    }
   }
  },
  {
   "cell_type": "markdown",
   "source": [
    "#### <font color = \"Blue\"> 6. Checking for blank values in the DataFrame."
   ],
   "metadata": {
    "collapsed": false,
    "pycharm": {
     "name": "#%% md\n"
    }
   }
  },
  {
   "cell_type": "code",
   "execution_count": 41,
   "outputs": [
    {
     "data": {
      "text/plain": "Empty DataFrame\nColumns: [customer_id, churn, gender, senior_citizen, partner, dependents, tenure, phone_service, multiple_lines, internet_service, online_security, online_backup, device_protection, tech_support, streaming_tv, streaming_movies, contract, paperless_billing, payment_method, charges_monthly, charges_total]\nIndex: []",
      "text/html": "<div>\n<style scoped>\n    .dataframe tbody tr th:only-of-type {\n        vertical-align: middle;\n    }\n\n    .dataframe tbody tr th {\n        vertical-align: top;\n    }\n\n    .dataframe thead th {\n        text-align: right;\n    }\n</style>\n<table border=\"1\" class=\"dataframe\">\n  <thead>\n    <tr style=\"text-align: right;\">\n      <th></th>\n      <th>customer_id</th>\n      <th>churn</th>\n      <th>gender</th>\n      <th>senior_citizen</th>\n      <th>partner</th>\n      <th>dependents</th>\n      <th>tenure</th>\n      <th>phone_service</th>\n      <th>multiple_lines</th>\n      <th>internet_service</th>\n      <th>online_security</th>\n      <th>online_backup</th>\n      <th>device_protection</th>\n      <th>tech_support</th>\n      <th>streaming_tv</th>\n      <th>streaming_movies</th>\n      <th>contract</th>\n      <th>paperless_billing</th>\n      <th>payment_method</th>\n      <th>charges_monthly</th>\n      <th>charges_total</th>\n    </tr>\n  </thead>\n  <tbody>\n  </tbody>\n</table>\n</div>"
     },
     "execution_count": 41,
     "metadata": {},
     "output_type": "execute_result"
    }
   ],
   "source": [
    "# Checking for blank values with spaces (' ').\n",
    "\n",
    "data[data.eq(' ').any(1)]"
   ],
   "metadata": {
    "collapsed": false,
    "pycharm": {
     "name": "#%%\n"
    }
   }
  },
  {
   "cell_type": "code",
   "execution_count": 42,
   "outputs": [
    {
     "data": {
      "text/plain": "     customer_id churn  gender senior_citizen partner dependents  tenure  \\\n30    0047-ZHDTW        Female             No      No         No      11   \n75    0120-YZLQA          Male             No      No         No      71   \n96    0154-QYHJU          Male             No      No         No      29   \n98    0162-RZGMZ        Female            Yes      No         No       5   \n175   0274-VVQOQ          Male            Yes     Yes         No      65   \n...          ...   ...     ...            ...     ...        ...     ...   \n7158  9840-GSRFX        Female             No      No         No      14   \n7180  9872-RZQQB        Female             No     Yes         No      49   \n7211  9920-GNDMB          Male             No      No         No       9   \n7239  9955-RVWSC        Female             No     Yes        Yes      67   \n7247  9966-VYRTZ        Female             No     Yes        Yes      31   \n\n     phone_service    multiple_lines internet_service      online_security  \\\n30             Yes               Yes      Fiber optic                  Yes   \n75             Yes                No               No  No internet service   \n96             Yes                No              DSL                  Yes   \n98             Yes                No              DSL                  Yes   \n175            Yes               Yes      Fiber optic                   No   \n...            ...               ...              ...                  ...   \n7158           Yes               Yes              DSL                   No   \n7180            No  No phone service              DSL                  Yes   \n7211           Yes               Yes      Fiber optic                   No   \n7239           Yes                No               No  No internet service   \n7247           Yes                No               No  No internet service   \n\n            online_backup    device_protection         tech_support  \\\n30                     No                   No                   No   \n75    No internet service  No internet service  No internet service   \n96                    Yes                   No                  Yes   \n98                    Yes                   No                  Yes   \n175                   Yes                  Yes                   No   \n...                   ...                  ...                  ...   \n7158                  Yes                   No                   No   \n7180                   No                   No                   No   \n7211                   No                   No                   No   \n7239  No internet service  No internet service  No internet service   \n7247  No internet service  No internet service  No internet service   \n\n             streaming_tv     streaming_movies        contract  \\\n30                     No                   No  Month-to-month   \n75    No internet service  No internet service        Two year   \n96                     No                   No        One year   \n98                     No                   No  Month-to-month   \n175                   Yes                  Yes        One year   \n...                   ...                  ...             ...   \n7158                   No                   No        One year   \n7180                  Yes                   No  Month-to-month   \n7211                   No                   No  Month-to-month   \n7239  No internet service  No internet service        Two year   \n7247  No internet service  No internet service  Month-to-month   \n\n     paperless_billing             payment_method  charges_monthly  \\\n30                 Yes  Bank transfer (automatic)            79.00   \n75                 Yes    Credit card (automatic)            19.90   \n96                 Yes           Electronic check            58.75   \n98                  No    Credit card (automatic)            59.90   \n175                Yes  Bank transfer (automatic)           103.15   \n...                ...                        ...              ...   \n7158               Yes               Mailed check            54.25   \n7180                No  Bank transfer (automatic)            40.65   \n7211               Yes           Electronic check            76.25   \n7239               Yes  Bank transfer (automatic)            19.25   \n7247               Yes               Mailed check            19.55   \n\n      charges_total  \n30           929.30  \n75          1355.10  \n96          1696.20  \n98           287.85  \n175         6792.45  \n...             ...  \n7158         773.20  \n7180        2070.75  \n7211         684.85  \n7239        1372.90  \n7247         658.95  \n\n[224 rows x 21 columns]",
      "text/html": "<div>\n<style scoped>\n    .dataframe tbody tr th:only-of-type {\n        vertical-align: middle;\n    }\n\n    .dataframe tbody tr th {\n        vertical-align: top;\n    }\n\n    .dataframe thead th {\n        text-align: right;\n    }\n</style>\n<table border=\"1\" class=\"dataframe\">\n  <thead>\n    <tr style=\"text-align: right;\">\n      <th></th>\n      <th>customer_id</th>\n      <th>churn</th>\n      <th>gender</th>\n      <th>senior_citizen</th>\n      <th>partner</th>\n      <th>dependents</th>\n      <th>tenure</th>\n      <th>phone_service</th>\n      <th>multiple_lines</th>\n      <th>internet_service</th>\n      <th>online_security</th>\n      <th>online_backup</th>\n      <th>device_protection</th>\n      <th>tech_support</th>\n      <th>streaming_tv</th>\n      <th>streaming_movies</th>\n      <th>contract</th>\n      <th>paperless_billing</th>\n      <th>payment_method</th>\n      <th>charges_monthly</th>\n      <th>charges_total</th>\n    </tr>\n  </thead>\n  <tbody>\n    <tr>\n      <th>30</th>\n      <td>0047-ZHDTW</td>\n      <td></td>\n      <td>Female</td>\n      <td>No</td>\n      <td>No</td>\n      <td>No</td>\n      <td>11</td>\n      <td>Yes</td>\n      <td>Yes</td>\n      <td>Fiber optic</td>\n      <td>Yes</td>\n      <td>No</td>\n      <td>No</td>\n      <td>No</td>\n      <td>No</td>\n      <td>No</td>\n      <td>Month-to-month</td>\n      <td>Yes</td>\n      <td>Bank transfer (automatic)</td>\n      <td>79.00</td>\n      <td>929.30</td>\n    </tr>\n    <tr>\n      <th>75</th>\n      <td>0120-YZLQA</td>\n      <td></td>\n      <td>Male</td>\n      <td>No</td>\n      <td>No</td>\n      <td>No</td>\n      <td>71</td>\n      <td>Yes</td>\n      <td>No</td>\n      <td>No</td>\n      <td>No internet service</td>\n      <td>No internet service</td>\n      <td>No internet service</td>\n      <td>No internet service</td>\n      <td>No internet service</td>\n      <td>No internet service</td>\n      <td>Two year</td>\n      <td>Yes</td>\n      <td>Credit card (automatic)</td>\n      <td>19.90</td>\n      <td>1355.10</td>\n    </tr>\n    <tr>\n      <th>96</th>\n      <td>0154-QYHJU</td>\n      <td></td>\n      <td>Male</td>\n      <td>No</td>\n      <td>No</td>\n      <td>No</td>\n      <td>29</td>\n      <td>Yes</td>\n      <td>No</td>\n      <td>DSL</td>\n      <td>Yes</td>\n      <td>Yes</td>\n      <td>No</td>\n      <td>Yes</td>\n      <td>No</td>\n      <td>No</td>\n      <td>One year</td>\n      <td>Yes</td>\n      <td>Electronic check</td>\n      <td>58.75</td>\n      <td>1696.20</td>\n    </tr>\n    <tr>\n      <th>98</th>\n      <td>0162-RZGMZ</td>\n      <td></td>\n      <td>Female</td>\n      <td>Yes</td>\n      <td>No</td>\n      <td>No</td>\n      <td>5</td>\n      <td>Yes</td>\n      <td>No</td>\n      <td>DSL</td>\n      <td>Yes</td>\n      <td>Yes</td>\n      <td>No</td>\n      <td>Yes</td>\n      <td>No</td>\n      <td>No</td>\n      <td>Month-to-month</td>\n      <td>No</td>\n      <td>Credit card (automatic)</td>\n      <td>59.90</td>\n      <td>287.85</td>\n    </tr>\n    <tr>\n      <th>175</th>\n      <td>0274-VVQOQ</td>\n      <td></td>\n      <td>Male</td>\n      <td>Yes</td>\n      <td>Yes</td>\n      <td>No</td>\n      <td>65</td>\n      <td>Yes</td>\n      <td>Yes</td>\n      <td>Fiber optic</td>\n      <td>No</td>\n      <td>Yes</td>\n      <td>Yes</td>\n      <td>No</td>\n      <td>Yes</td>\n      <td>Yes</td>\n      <td>One year</td>\n      <td>Yes</td>\n      <td>Bank transfer (automatic)</td>\n      <td>103.15</td>\n      <td>6792.45</td>\n    </tr>\n    <tr>\n      <th>...</th>\n      <td>...</td>\n      <td>...</td>\n      <td>...</td>\n      <td>...</td>\n      <td>...</td>\n      <td>...</td>\n      <td>...</td>\n      <td>...</td>\n      <td>...</td>\n      <td>...</td>\n      <td>...</td>\n      <td>...</td>\n      <td>...</td>\n      <td>...</td>\n      <td>...</td>\n      <td>...</td>\n      <td>...</td>\n      <td>...</td>\n      <td>...</td>\n      <td>...</td>\n      <td>...</td>\n    </tr>\n    <tr>\n      <th>7158</th>\n      <td>9840-GSRFX</td>\n      <td></td>\n      <td>Female</td>\n      <td>No</td>\n      <td>No</td>\n      <td>No</td>\n      <td>14</td>\n      <td>Yes</td>\n      <td>Yes</td>\n      <td>DSL</td>\n      <td>No</td>\n      <td>Yes</td>\n      <td>No</td>\n      <td>No</td>\n      <td>No</td>\n      <td>No</td>\n      <td>One year</td>\n      <td>Yes</td>\n      <td>Mailed check</td>\n      <td>54.25</td>\n      <td>773.20</td>\n    </tr>\n    <tr>\n      <th>7180</th>\n      <td>9872-RZQQB</td>\n      <td></td>\n      <td>Female</td>\n      <td>No</td>\n      <td>Yes</td>\n      <td>No</td>\n      <td>49</td>\n      <td>No</td>\n      <td>No phone service</td>\n      <td>DSL</td>\n      <td>Yes</td>\n      <td>No</td>\n      <td>No</td>\n      <td>No</td>\n      <td>Yes</td>\n      <td>No</td>\n      <td>Month-to-month</td>\n      <td>No</td>\n      <td>Bank transfer (automatic)</td>\n      <td>40.65</td>\n      <td>2070.75</td>\n    </tr>\n    <tr>\n      <th>7211</th>\n      <td>9920-GNDMB</td>\n      <td></td>\n      <td>Male</td>\n      <td>No</td>\n      <td>No</td>\n      <td>No</td>\n      <td>9</td>\n      <td>Yes</td>\n      <td>Yes</td>\n      <td>Fiber optic</td>\n      <td>No</td>\n      <td>No</td>\n      <td>No</td>\n      <td>No</td>\n      <td>No</td>\n      <td>No</td>\n      <td>Month-to-month</td>\n      <td>Yes</td>\n      <td>Electronic check</td>\n      <td>76.25</td>\n      <td>684.85</td>\n    </tr>\n    <tr>\n      <th>7239</th>\n      <td>9955-RVWSC</td>\n      <td></td>\n      <td>Female</td>\n      <td>No</td>\n      <td>Yes</td>\n      <td>Yes</td>\n      <td>67</td>\n      <td>Yes</td>\n      <td>No</td>\n      <td>No</td>\n      <td>No internet service</td>\n      <td>No internet service</td>\n      <td>No internet service</td>\n      <td>No internet service</td>\n      <td>No internet service</td>\n      <td>No internet service</td>\n      <td>Two year</td>\n      <td>Yes</td>\n      <td>Bank transfer (automatic)</td>\n      <td>19.25</td>\n      <td>1372.90</td>\n    </tr>\n    <tr>\n      <th>7247</th>\n      <td>9966-VYRTZ</td>\n      <td></td>\n      <td>Female</td>\n      <td>No</td>\n      <td>Yes</td>\n      <td>Yes</td>\n      <td>31</td>\n      <td>Yes</td>\n      <td>No</td>\n      <td>No</td>\n      <td>No internet service</td>\n      <td>No internet service</td>\n      <td>No internet service</td>\n      <td>No internet service</td>\n      <td>No internet service</td>\n      <td>No internet service</td>\n      <td>Month-to-month</td>\n      <td>Yes</td>\n      <td>Mailed check</td>\n      <td>19.55</td>\n      <td>658.95</td>\n    </tr>\n  </tbody>\n</table>\n<p>224 rows × 21 columns</p>\n</div>"
     },
     "execution_count": 42,
     "metadata": {},
     "output_type": "execute_result"
    }
   ],
   "source": [
    "# Checking for blank values without spaces ('').\n",
    "\n",
    "data[data.eq('').any(1)]"
   ],
   "metadata": {
    "collapsed": false,
    "pycharm": {
     "name": "#%%\n"
    }
   }
  },
  {
   "cell_type": "markdown",
   "source": [
    "##### Though the *churn* variable is only supposed to have only \"Yes\" or \"No\" for values, the unique() method demonstrates that there are blank values in some of the entries."
   ],
   "metadata": {
    "collapsed": false,
    "pycharm": {
     "name": "#%% md\n"
    }
   }
  },
  {
   "cell_type": "code",
   "execution_count": 43,
   "outputs": [
    {
     "data": {
      "text/plain": "No     5174\nYes    1869\n        224\nName: churn, dtype: int64"
     },
     "execution_count": 43,
     "metadata": {},
     "output_type": "execute_result"
    }
   ],
   "source": [
    "# In 224 of them, to be exact.\n",
    "\n",
    "data[\"churn\"].value_counts()"
   ],
   "metadata": {
    "collapsed": false,
    "pycharm": {
     "name": "#%%\n"
    }
   }
  },
  {
   "cell_type": "markdown",
   "source": [
    "##### As the *churn* variable will be the most important to group entries in the DataFrame in the analysis stage, a decision has to be made of whether to keep the blank entries in the dataset or not.\n",
    "##### Let's see what these 224 blank entries represent in terms of percentage."
   ],
   "metadata": {
    "collapsed": false,
    "pycharm": {
     "name": "#%% md\n"
    }
   }
  },
  {
   "cell_type": "code",
   "execution_count": 44,
   "outputs": [
    {
     "data": {
      "text/plain": "No     71.198569\nYes    25.719004\n        3.082427\nName: churn, dtype: float64"
     },
     "execution_count": 44,
     "metadata": {},
     "output_type": "execute_result"
    }
   ],
   "source": [
    "data[\"churn\"].value_counts(normalize = True) * 100"
   ],
   "metadata": {
    "collapsed": false,
    "pycharm": {
     "name": "#%%\n"
    }
   }
  },
  {
   "cell_type": "markdown",
   "source": [
    "##### <font color = \"Green\"> Since blank *churn* values represent a small percentage of entries in the DataFrame, I have decided to assign *data* to a new, sanitized version of the original DataFrame, excluding these blank entries.\n",
    "\n",
    "##### <font color = \"Green\"> Nevertheless,I have decided to create a second DataFrame named *data_all_entries*, which will be an identical version of the *data* DataFrame (before excluding the blank entries), to act as a backup in case it becomes relevant in the future.\n",
    "\n",
    "#### <font color = \"Red\"> The creation of both DataFrames is done at the end of this notebook."
   ],
   "metadata": {
    "collapsed": false,
    "pycharm": {
     "name": "#%% md\n"
    }
   }
  },
  {
   "cell_type": "markdown",
   "source": [
    "---\n",
    "# Creating the *charges_daily* column"
   ],
   "metadata": {
    "collapsed": false,
    "pycharm": {
     "name": "#%% md\n"
    }
   }
  },
  {
   "cell_type": "markdown",
   "source": [
    "##### The company has requested that a new column is created in the 18th position to store information about each customer's charges, divided by day. For this exercise, I have decided to consider a 30-day month."
   ],
   "metadata": {
    "collapsed": false,
    "pycharm": {
     "name": "#%% md\n"
    }
   }
  },
  {
   "cell_type": "code",
   "execution_count": 45,
   "outputs": [
    {
     "data": {
      "text/plain": "0       2.19\n1       2.00\n2       2.46\n3       3.27\n4       2.80\n        ... \n7262    1.84\n7263    2.84\n7264    1.68\n7265    2.26\n7266    1.97\nName: charges_monthly, Length: 7267, dtype: float64"
     },
     "execution_count": 45,
     "metadata": {},
     "output_type": "execute_result"
    }
   ],
   "source": [
    "# Calculating the daily spending of each customer and assigning them to a Series.\n",
    "\n",
    "charges_daily = (data[\"charges_monthly\"] / 30).round(2)\n",
    "\n",
    "charges_daily"
   ],
   "metadata": {
    "collapsed": false,
    "pycharm": {
     "name": "#%%\n"
    }
   }
  },
  {
   "cell_type": "code",
   "execution_count": 46,
   "outputs": [
    {
     "data": {
      "text/plain": "0       2.19\n1       2.00\n2       2.46\n3       3.27\n4       2.80\n        ... \n7262    1.84\n7263    2.84\n7264    1.68\n7265    2.26\n7266    1.97\nName: charges_daily, Length: 7267, dtype: float64"
     },
     "execution_count": 46,
     "metadata": {},
     "output_type": "execute_result"
    }
   ],
   "source": [
    "# Renaming the label of the \"charges_daily\" Series.\n",
    "\n",
    "charges_daily.rename(\"charges_daily\", inplace = True)\n",
    "\n",
    "charges_daily"
   ],
   "metadata": {
    "collapsed": false,
    "pycharm": {
     "name": "#%%\n"
    }
   }
  },
  {
   "cell_type": "code",
   "execution_count": 47,
   "outputs": [
    {
     "data": {
      "text/plain": "Index(['paperless_billing', 'payment_method', 'charges_monthly',\n       'charges_total'],\n      dtype='object')"
     },
     "execution_count": 47,
     "metadata": {},
     "output_type": "execute_result"
    }
   ],
   "source": [
    "# The company asked to insert this column on the 18th position, which would be where the paperless_billing column is. Let's see if it is a good place to put it.\n",
    "\n",
    "data.columns[17:]"
   ],
   "metadata": {
    "collapsed": false,
    "pycharm": {
     "name": "#%%\n"
    }
   }
  },
  {
   "cell_type": "markdown",
   "source": [
    "##### Though the company has asked to put the *charges_daily* column on the 18th position, <font color = \"Green\"> I have decided to insert it in the 20th position, as it will be right after *payment_method* and together with other columns with charges information."
   ],
   "metadata": {
    "collapsed": false,
    "pycharm": {
     "name": "#%% md\n"
    }
   }
  },
  {
   "cell_type": "code",
   "execution_count": 48,
   "outputs": [],
   "source": [
    "# Inserting the Series into the DataFrame.\n",
    "\n",
    "data.insert(loc = 19, column = \"charges_daily\", value = charges_daily)\n",
    "          # loc = 19 because the columns idex starts at 0."
   ],
   "metadata": {
    "collapsed": false,
    "pycharm": {
     "name": "#%%\n"
    }
   }
  },
  {
   "cell_type": "code",
   "execution_count": 49,
   "outputs": [
    {
     "data": {
      "text/plain": "  customer_id churn  gender senior_citizen partner dependents  tenure  \\\n0  0002-ORFBO    No  Female             No     Yes        Yes       9   \n1  0003-MKNFE    No    Male             No      No         No       9   \n2  0004-TLHLJ   Yes    Male             No      No         No       4   \n3  0011-IGKFF   Yes    Male            Yes     Yes         No      13   \n4  0013-EXCHZ   Yes  Female            Yes     Yes         No       3   \n5  0013-MHZWF    No  Female             No      No        Yes       9   \n6  0013-SMEOE    No  Female            Yes     Yes         No      71   \n7  0014-BMAQU    No    Male             No     Yes         No      63   \n8  0015-UOCOJ    No  Female            Yes      No         No       7   \n9  0016-QLJIS    No  Female             No     Yes        Yes      65   \n\n  phone_service multiple_lines internet_service online_security online_backup  \\\n0           Yes             No              DSL              No           Yes   \n1           Yes            Yes              DSL              No            No   \n2           Yes             No      Fiber optic              No            No   \n3           Yes             No      Fiber optic              No           Yes   \n4           Yes             No      Fiber optic              No            No   \n5           Yes             No              DSL              No            No   \n6           Yes             No      Fiber optic             Yes           Yes   \n7           Yes            Yes      Fiber optic             Yes            No   \n8           Yes             No              DSL             Yes            No   \n9           Yes            Yes              DSL             Yes           Yes   \n\n  device_protection tech_support streaming_tv streaming_movies  \\\n0                No          Yes          Yes               No   \n1                No           No           No              Yes   \n2               Yes           No           No               No   \n3               Yes           No          Yes              Yes   \n4                No          Yes          Yes               No   \n5                No          Yes          Yes              Yes   \n6               Yes          Yes          Yes              Yes   \n7                No          Yes           No               No   \n8                No           No           No               No   \n9               Yes          Yes          Yes              Yes   \n\n         contract paperless_billing             payment_method  charges_daily  \\\n0        One year               Yes               Mailed check           2.19   \n1  Month-to-month                No               Mailed check           2.00   \n2  Month-to-month               Yes           Electronic check           2.46   \n3  Month-to-month               Yes           Electronic check           3.27   \n4  Month-to-month               Yes               Mailed check           2.80   \n5  Month-to-month               Yes    Credit card (automatic)           2.31   \n6        Two year               Yes  Bank transfer (automatic)           3.66   \n7        Two year               Yes    Credit card (automatic)           2.82   \n8  Month-to-month               Yes           Electronic check           1.61   \n9        Two year               Yes               Mailed check           3.02   \n\n   charges_monthly  charges_total  \n0            65.60         593.30  \n1            59.90         542.40  \n2            73.90         280.85  \n3            98.00        1237.85  \n4            83.90         267.40  \n5            69.40         571.45  \n6           109.70        7904.25  \n7            84.65        5377.80  \n8            48.20         340.35  \n9            90.45        5957.90  ",
      "text/html": "<div>\n<style scoped>\n    .dataframe tbody tr th:only-of-type {\n        vertical-align: middle;\n    }\n\n    .dataframe tbody tr th {\n        vertical-align: top;\n    }\n\n    .dataframe thead th {\n        text-align: right;\n    }\n</style>\n<table border=\"1\" class=\"dataframe\">\n  <thead>\n    <tr style=\"text-align: right;\">\n      <th></th>\n      <th>customer_id</th>\n      <th>churn</th>\n      <th>gender</th>\n      <th>senior_citizen</th>\n      <th>partner</th>\n      <th>dependents</th>\n      <th>tenure</th>\n      <th>phone_service</th>\n      <th>multiple_lines</th>\n      <th>internet_service</th>\n      <th>online_security</th>\n      <th>online_backup</th>\n      <th>device_protection</th>\n      <th>tech_support</th>\n      <th>streaming_tv</th>\n      <th>streaming_movies</th>\n      <th>contract</th>\n      <th>paperless_billing</th>\n      <th>payment_method</th>\n      <th>charges_daily</th>\n      <th>charges_monthly</th>\n      <th>charges_total</th>\n    </tr>\n  </thead>\n  <tbody>\n    <tr>\n      <th>0</th>\n      <td>0002-ORFBO</td>\n      <td>No</td>\n      <td>Female</td>\n      <td>No</td>\n      <td>Yes</td>\n      <td>Yes</td>\n      <td>9</td>\n      <td>Yes</td>\n      <td>No</td>\n      <td>DSL</td>\n      <td>No</td>\n      <td>Yes</td>\n      <td>No</td>\n      <td>Yes</td>\n      <td>Yes</td>\n      <td>No</td>\n      <td>One year</td>\n      <td>Yes</td>\n      <td>Mailed check</td>\n      <td>2.19</td>\n      <td>65.60</td>\n      <td>593.30</td>\n    </tr>\n    <tr>\n      <th>1</th>\n      <td>0003-MKNFE</td>\n      <td>No</td>\n      <td>Male</td>\n      <td>No</td>\n      <td>No</td>\n      <td>No</td>\n      <td>9</td>\n      <td>Yes</td>\n      <td>Yes</td>\n      <td>DSL</td>\n      <td>No</td>\n      <td>No</td>\n      <td>No</td>\n      <td>No</td>\n      <td>No</td>\n      <td>Yes</td>\n      <td>Month-to-month</td>\n      <td>No</td>\n      <td>Mailed check</td>\n      <td>2.00</td>\n      <td>59.90</td>\n      <td>542.40</td>\n    </tr>\n    <tr>\n      <th>2</th>\n      <td>0004-TLHLJ</td>\n      <td>Yes</td>\n      <td>Male</td>\n      <td>No</td>\n      <td>No</td>\n      <td>No</td>\n      <td>4</td>\n      <td>Yes</td>\n      <td>No</td>\n      <td>Fiber optic</td>\n      <td>No</td>\n      <td>No</td>\n      <td>Yes</td>\n      <td>No</td>\n      <td>No</td>\n      <td>No</td>\n      <td>Month-to-month</td>\n      <td>Yes</td>\n      <td>Electronic check</td>\n      <td>2.46</td>\n      <td>73.90</td>\n      <td>280.85</td>\n    </tr>\n    <tr>\n      <th>3</th>\n      <td>0011-IGKFF</td>\n      <td>Yes</td>\n      <td>Male</td>\n      <td>Yes</td>\n      <td>Yes</td>\n      <td>No</td>\n      <td>13</td>\n      <td>Yes</td>\n      <td>No</td>\n      <td>Fiber optic</td>\n      <td>No</td>\n      <td>Yes</td>\n      <td>Yes</td>\n      <td>No</td>\n      <td>Yes</td>\n      <td>Yes</td>\n      <td>Month-to-month</td>\n      <td>Yes</td>\n      <td>Electronic check</td>\n      <td>3.27</td>\n      <td>98.00</td>\n      <td>1237.85</td>\n    </tr>\n    <tr>\n      <th>4</th>\n      <td>0013-EXCHZ</td>\n      <td>Yes</td>\n      <td>Female</td>\n      <td>Yes</td>\n      <td>Yes</td>\n      <td>No</td>\n      <td>3</td>\n      <td>Yes</td>\n      <td>No</td>\n      <td>Fiber optic</td>\n      <td>No</td>\n      <td>No</td>\n      <td>No</td>\n      <td>Yes</td>\n      <td>Yes</td>\n      <td>No</td>\n      <td>Month-to-month</td>\n      <td>Yes</td>\n      <td>Mailed check</td>\n      <td>2.80</td>\n      <td>83.90</td>\n      <td>267.40</td>\n    </tr>\n    <tr>\n      <th>5</th>\n      <td>0013-MHZWF</td>\n      <td>No</td>\n      <td>Female</td>\n      <td>No</td>\n      <td>No</td>\n      <td>Yes</td>\n      <td>9</td>\n      <td>Yes</td>\n      <td>No</td>\n      <td>DSL</td>\n      <td>No</td>\n      <td>No</td>\n      <td>No</td>\n      <td>Yes</td>\n      <td>Yes</td>\n      <td>Yes</td>\n      <td>Month-to-month</td>\n      <td>Yes</td>\n      <td>Credit card (automatic)</td>\n      <td>2.31</td>\n      <td>69.40</td>\n      <td>571.45</td>\n    </tr>\n    <tr>\n      <th>6</th>\n      <td>0013-SMEOE</td>\n      <td>No</td>\n      <td>Female</td>\n      <td>Yes</td>\n      <td>Yes</td>\n      <td>No</td>\n      <td>71</td>\n      <td>Yes</td>\n      <td>No</td>\n      <td>Fiber optic</td>\n      <td>Yes</td>\n      <td>Yes</td>\n      <td>Yes</td>\n      <td>Yes</td>\n      <td>Yes</td>\n      <td>Yes</td>\n      <td>Two year</td>\n      <td>Yes</td>\n      <td>Bank transfer (automatic)</td>\n      <td>3.66</td>\n      <td>109.70</td>\n      <td>7904.25</td>\n    </tr>\n    <tr>\n      <th>7</th>\n      <td>0014-BMAQU</td>\n      <td>No</td>\n      <td>Male</td>\n      <td>No</td>\n      <td>Yes</td>\n      <td>No</td>\n      <td>63</td>\n      <td>Yes</td>\n      <td>Yes</td>\n      <td>Fiber optic</td>\n      <td>Yes</td>\n      <td>No</td>\n      <td>No</td>\n      <td>Yes</td>\n      <td>No</td>\n      <td>No</td>\n      <td>Two year</td>\n      <td>Yes</td>\n      <td>Credit card (automatic)</td>\n      <td>2.82</td>\n      <td>84.65</td>\n      <td>5377.80</td>\n    </tr>\n    <tr>\n      <th>8</th>\n      <td>0015-UOCOJ</td>\n      <td>No</td>\n      <td>Female</td>\n      <td>Yes</td>\n      <td>No</td>\n      <td>No</td>\n      <td>7</td>\n      <td>Yes</td>\n      <td>No</td>\n      <td>DSL</td>\n      <td>Yes</td>\n      <td>No</td>\n      <td>No</td>\n      <td>No</td>\n      <td>No</td>\n      <td>No</td>\n      <td>Month-to-month</td>\n      <td>Yes</td>\n      <td>Electronic check</td>\n      <td>1.61</td>\n      <td>48.20</td>\n      <td>340.35</td>\n    </tr>\n    <tr>\n      <th>9</th>\n      <td>0016-QLJIS</td>\n      <td>No</td>\n      <td>Female</td>\n      <td>No</td>\n      <td>Yes</td>\n      <td>Yes</td>\n      <td>65</td>\n      <td>Yes</td>\n      <td>Yes</td>\n      <td>DSL</td>\n      <td>Yes</td>\n      <td>Yes</td>\n      <td>Yes</td>\n      <td>Yes</td>\n      <td>Yes</td>\n      <td>Yes</td>\n      <td>Two year</td>\n      <td>Yes</td>\n      <td>Mailed check</td>\n      <td>3.02</td>\n      <td>90.45</td>\n      <td>5957.90</td>\n    </tr>\n  </tbody>\n</table>\n</div>"
     },
     "execution_count": 49,
     "metadata": {},
     "output_type": "execute_result"
    }
   ],
   "source": [
    "data.head(10)"
   ],
   "metadata": {
    "collapsed": false,
    "pycharm": {
     "name": "#%%\n"
    }
   }
  },
  {
   "cell_type": "markdown",
   "source": [
    "---\n",
    "# Creating the *services_hired* column."
   ],
   "metadata": {
    "collapsed": false,
    "pycharm": {
     "name": "#%% md\n"
    }
   }
  },
  {
   "cell_type": "markdown",
   "source": [
    "##### After treating this dataset for some time now, I realised how difficult it is to visualise how many services each customer has hired, which is why I have decided to create the *services_hired* column.\n",
    "\n",
    "##### The values of this column will be integers and will be calculated by counting each instance of \"Yes\" in the services columns (*phone_service*, *multiple_lines*, *online_security*, *online_backup*, *device_protection*, *tech_support*, *streaming_tv* and *streaming_movies*). Because the *internet_service* column labels are different from \"Yes\" and \"No\", we just have to include all of its labels except for \"No\"."
   ],
   "metadata": {
    "collapsed": false,
    "pycharm": {
     "name": "#%% md\n"
    }
   }
  },
  {
   "cell_type": "code",
   "execution_count": 50,
   "outputs": [
    {
     "data": {
      "text/plain": "      phone_service  multiple_lines  online_security  online_backup  \\\n0              True           False            False           True   \n1              True            True            False          False   \n2              True           False            False          False   \n3              True           False            False           True   \n4              True           False            False          False   \n...             ...             ...              ...            ...   \n7262           True           False             True          False   \n7263           True            True            False          False   \n7264           True           False            False           True   \n7265           True           False             True          False   \n7266          False           False             True           True   \n\n      device_protection  tech_support  streaming_tv  streaming_movies  \n0                 False          True          True             False  \n1                 False         False         False              True  \n2                  True         False         False             False  \n3                  True         False          True              True  \n4                 False          True          True             False  \n...                 ...           ...           ...               ...  \n7262              False          True         False             False  \n7263              False         False         False              True  \n7264              False         False         False             False  \n7265               True          True         False              True  \n7266               True         False          True              True  \n\n[7267 rows x 8 columns]",
      "text/html": "<div>\n<style scoped>\n    .dataframe tbody tr th:only-of-type {\n        vertical-align: middle;\n    }\n\n    .dataframe tbody tr th {\n        vertical-align: top;\n    }\n\n    .dataframe thead th {\n        text-align: right;\n    }\n</style>\n<table border=\"1\" class=\"dataframe\">\n  <thead>\n    <tr style=\"text-align: right;\">\n      <th></th>\n      <th>phone_service</th>\n      <th>multiple_lines</th>\n      <th>online_security</th>\n      <th>online_backup</th>\n      <th>device_protection</th>\n      <th>tech_support</th>\n      <th>streaming_tv</th>\n      <th>streaming_movies</th>\n    </tr>\n  </thead>\n  <tbody>\n    <tr>\n      <th>0</th>\n      <td>True</td>\n      <td>False</td>\n      <td>False</td>\n      <td>True</td>\n      <td>False</td>\n      <td>True</td>\n      <td>True</td>\n      <td>False</td>\n    </tr>\n    <tr>\n      <th>1</th>\n      <td>True</td>\n      <td>True</td>\n      <td>False</td>\n      <td>False</td>\n      <td>False</td>\n      <td>False</td>\n      <td>False</td>\n      <td>True</td>\n    </tr>\n    <tr>\n      <th>2</th>\n      <td>True</td>\n      <td>False</td>\n      <td>False</td>\n      <td>False</td>\n      <td>True</td>\n      <td>False</td>\n      <td>False</td>\n      <td>False</td>\n    </tr>\n    <tr>\n      <th>3</th>\n      <td>True</td>\n      <td>False</td>\n      <td>False</td>\n      <td>True</td>\n      <td>True</td>\n      <td>False</td>\n      <td>True</td>\n      <td>True</td>\n    </tr>\n    <tr>\n      <th>4</th>\n      <td>True</td>\n      <td>False</td>\n      <td>False</td>\n      <td>False</td>\n      <td>False</td>\n      <td>True</td>\n      <td>True</td>\n      <td>False</td>\n    </tr>\n    <tr>\n      <th>...</th>\n      <td>...</td>\n      <td>...</td>\n      <td>...</td>\n      <td>...</td>\n      <td>...</td>\n      <td>...</td>\n      <td>...</td>\n      <td>...</td>\n    </tr>\n    <tr>\n      <th>7262</th>\n      <td>True</td>\n      <td>False</td>\n      <td>True</td>\n      <td>False</td>\n      <td>False</td>\n      <td>True</td>\n      <td>False</td>\n      <td>False</td>\n    </tr>\n    <tr>\n      <th>7263</th>\n      <td>True</td>\n      <td>True</td>\n      <td>False</td>\n      <td>False</td>\n      <td>False</td>\n      <td>False</td>\n      <td>False</td>\n      <td>True</td>\n    </tr>\n    <tr>\n      <th>7264</th>\n      <td>True</td>\n      <td>False</td>\n      <td>False</td>\n      <td>True</td>\n      <td>False</td>\n      <td>False</td>\n      <td>False</td>\n      <td>False</td>\n    </tr>\n    <tr>\n      <th>7265</th>\n      <td>True</td>\n      <td>False</td>\n      <td>True</td>\n      <td>False</td>\n      <td>True</td>\n      <td>True</td>\n      <td>False</td>\n      <td>True</td>\n    </tr>\n    <tr>\n      <th>7266</th>\n      <td>False</td>\n      <td>False</td>\n      <td>True</td>\n      <td>True</td>\n      <td>True</td>\n      <td>False</td>\n      <td>True</td>\n      <td>True</td>\n    </tr>\n  </tbody>\n</table>\n<p>7267 rows × 8 columns</p>\n</div>"
     },
     "execution_count": 50,
     "metadata": {},
     "output_type": "execute_result"
    }
   ],
   "source": [
    "# Using the eq() method we can obtain a boolean variation of the pertinent columns, where \"True\" indicates services that have been hired and \"False\" indicates the opposite.\n",
    "\n",
    "services_hired = data[[\"phone_service\", \"multiple_lines\", \"online_security\", \"online_backup\", \"device_protection\", \"tech_support\", \"streaming_tv\", \"streaming_movies\"]].eq(\"Yes\" or \"DSL\" or \"Fiber optic\")\n",
    "\n",
    "services_hired"
   ],
   "metadata": {
    "collapsed": false,
    "pycharm": {
     "name": "#%%\n"
    }
   }
  },
  {
   "cell_type": "code",
   "execution_count": 51,
   "outputs": [
    {
     "data": {
      "text/plain": "array(['DSL', 'Fiber optic', 'No'], dtype=object)"
     },
     "execution_count": 51,
     "metadata": {},
     "output_type": "execute_result"
    }
   ],
   "source": [
    "data[\"internet_service\"].unique()"
   ],
   "metadata": {
    "collapsed": false,
    "pycharm": {
     "name": "#%%\n"
    }
   }
  },
  {
   "cell_type": "code",
   "execution_count": 52,
   "outputs": [],
   "source": [
    "data_internet_service_dsl = data[\"internet_service\"].eq(\"DSL\")"
   ],
   "metadata": {
    "collapsed": false,
    "pycharm": {
     "name": "#%%\n"
    }
   }
  },
  {
   "cell_type": "code",
   "execution_count": 53,
   "outputs": [],
   "source": [
    "data_internet_service_fiber_optic = data[\"internet_service\"].eq(\"Fiber optic\")"
   ],
   "metadata": {
    "collapsed": false,
    "pycharm": {
     "name": "#%%\n"
    }
   }
  },
  {
   "cell_type": "code",
   "execution_count": 54,
   "outputs": [],
   "source": [
    "# Let's insert the data_internet_service into the services_hired DataFrame.\n",
    "\n",
    "services_hired.insert(loc = 2, column = \"internet_service_dsl\", value = data_internet_service_dsl)\n",
    "\n",
    "services_hired.insert(loc = 3, column = \"internet_service_fiber_optic\", value = data_internet_service_fiber_optic)"
   ],
   "metadata": {
    "collapsed": false,
    "pycharm": {
     "name": "#%%\n"
    }
   }
  },
  {
   "cell_type": "code",
   "execution_count": 55,
   "outputs": [
    {
     "data": {
      "text/plain": "      phone_service  multiple_lines  internet_service_dsl  \\\n0              True           False                  True   \n1              True            True                  True   \n2              True           False                 False   \n3              True           False                 False   \n4              True           False                 False   \n...             ...             ...                   ...   \n7262           True           False                  True   \n7263           True            True                 False   \n7264           True           False                  True   \n7265           True           False                  True   \n7266          False           False                  True   \n\n      internet_service_fiber_optic  online_security  online_backup  \\\n0                            False            False           True   \n1                            False            False          False   \n2                             True            False          False   \n3                             True            False           True   \n4                             True            False          False   \n...                            ...              ...            ...   \n7262                         False             True          False   \n7263                          True            False          False   \n7264                         False            False           True   \n7265                         False             True          False   \n7266                         False             True           True   \n\n      device_protection  tech_support  streaming_tv  streaming_movies  \n0                 False          True          True             False  \n1                 False         False         False              True  \n2                  True         False         False             False  \n3                  True         False          True              True  \n4                 False          True          True             False  \n...                 ...           ...           ...               ...  \n7262              False          True         False             False  \n7263              False         False         False              True  \n7264              False         False         False             False  \n7265               True          True         False              True  \n7266               True         False          True              True  \n\n[7267 rows x 10 columns]",
      "text/html": "<div>\n<style scoped>\n    .dataframe tbody tr th:only-of-type {\n        vertical-align: middle;\n    }\n\n    .dataframe tbody tr th {\n        vertical-align: top;\n    }\n\n    .dataframe thead th {\n        text-align: right;\n    }\n</style>\n<table border=\"1\" class=\"dataframe\">\n  <thead>\n    <tr style=\"text-align: right;\">\n      <th></th>\n      <th>phone_service</th>\n      <th>multiple_lines</th>\n      <th>internet_service_dsl</th>\n      <th>internet_service_fiber_optic</th>\n      <th>online_security</th>\n      <th>online_backup</th>\n      <th>device_protection</th>\n      <th>tech_support</th>\n      <th>streaming_tv</th>\n      <th>streaming_movies</th>\n    </tr>\n  </thead>\n  <tbody>\n    <tr>\n      <th>0</th>\n      <td>True</td>\n      <td>False</td>\n      <td>True</td>\n      <td>False</td>\n      <td>False</td>\n      <td>True</td>\n      <td>False</td>\n      <td>True</td>\n      <td>True</td>\n      <td>False</td>\n    </tr>\n    <tr>\n      <th>1</th>\n      <td>True</td>\n      <td>True</td>\n      <td>True</td>\n      <td>False</td>\n      <td>False</td>\n      <td>False</td>\n      <td>False</td>\n      <td>False</td>\n      <td>False</td>\n      <td>True</td>\n    </tr>\n    <tr>\n      <th>2</th>\n      <td>True</td>\n      <td>False</td>\n      <td>False</td>\n      <td>True</td>\n      <td>False</td>\n      <td>False</td>\n      <td>True</td>\n      <td>False</td>\n      <td>False</td>\n      <td>False</td>\n    </tr>\n    <tr>\n      <th>3</th>\n      <td>True</td>\n      <td>False</td>\n      <td>False</td>\n      <td>True</td>\n      <td>False</td>\n      <td>True</td>\n      <td>True</td>\n      <td>False</td>\n      <td>True</td>\n      <td>True</td>\n    </tr>\n    <tr>\n      <th>4</th>\n      <td>True</td>\n      <td>False</td>\n      <td>False</td>\n      <td>True</td>\n      <td>False</td>\n      <td>False</td>\n      <td>False</td>\n      <td>True</td>\n      <td>True</td>\n      <td>False</td>\n    </tr>\n    <tr>\n      <th>...</th>\n      <td>...</td>\n      <td>...</td>\n      <td>...</td>\n      <td>...</td>\n      <td>...</td>\n      <td>...</td>\n      <td>...</td>\n      <td>...</td>\n      <td>...</td>\n      <td>...</td>\n    </tr>\n    <tr>\n      <th>7262</th>\n      <td>True</td>\n      <td>False</td>\n      <td>True</td>\n      <td>False</td>\n      <td>True</td>\n      <td>False</td>\n      <td>False</td>\n      <td>True</td>\n      <td>False</td>\n      <td>False</td>\n    </tr>\n    <tr>\n      <th>7263</th>\n      <td>True</td>\n      <td>True</td>\n      <td>False</td>\n      <td>True</td>\n      <td>False</td>\n      <td>False</td>\n      <td>False</td>\n      <td>False</td>\n      <td>False</td>\n      <td>True</td>\n    </tr>\n    <tr>\n      <th>7264</th>\n      <td>True</td>\n      <td>False</td>\n      <td>True</td>\n      <td>False</td>\n      <td>False</td>\n      <td>True</td>\n      <td>False</td>\n      <td>False</td>\n      <td>False</td>\n      <td>False</td>\n    </tr>\n    <tr>\n      <th>7265</th>\n      <td>True</td>\n      <td>False</td>\n      <td>True</td>\n      <td>False</td>\n      <td>True</td>\n      <td>False</td>\n      <td>True</td>\n      <td>True</td>\n      <td>False</td>\n      <td>True</td>\n    </tr>\n    <tr>\n      <th>7266</th>\n      <td>False</td>\n      <td>False</td>\n      <td>True</td>\n      <td>False</td>\n      <td>True</td>\n      <td>True</td>\n      <td>True</td>\n      <td>False</td>\n      <td>True</td>\n      <td>True</td>\n    </tr>\n  </tbody>\n</table>\n<p>7267 rows × 10 columns</p>\n</div>"
     },
     "execution_count": 55,
     "metadata": {},
     "output_type": "execute_result"
    }
   ],
   "source": [
    "services_hired"
   ],
   "metadata": {
    "collapsed": false,
    "pycharm": {
     "name": "#%%\n"
    }
   }
  },
  {
   "cell_type": "code",
   "execution_count": 56,
   "outputs": [
    {
     "data": {
      "text/plain": "0       5\n1       4\n2       3\n3       6\n4       4\n       ..\n7262    4\n7263    4\n7264    3\n7265    6\n7266    6\nLength: 7267, dtype: int64"
     },
     "execution_count": 56,
     "metadata": {},
     "output_type": "execute_result"
    }
   ],
   "source": [
    "# Let's add the True values for each client separately.\n",
    "\n",
    "services_hired.sum(axis = 1)"
   ],
   "metadata": {
    "collapsed": false,
    "pycharm": {
     "name": "#%%\n"
    }
   }
  },
  {
   "cell_type": "markdown",
   "source": [
    "##### After the data has been obtained, we can add it to the original DataFrame. <font color = \"Green\"> I have decided to insert it on the 17th position for a more intuitive visualization."
   ],
   "metadata": {
    "collapsed": false,
    "pycharm": {
     "name": "#%% md\n"
    }
   }
  },
  {
   "cell_type": "code",
   "execution_count": 57,
   "outputs": [],
   "source": [
    "data.insert(loc = 16, column = \"services_hired\", value = services_hired.sum(axis = 1))"
   ],
   "metadata": {
    "collapsed": false,
    "pycharm": {
     "name": "#%%\n"
    }
   }
  },
  {
   "cell_type": "code",
   "execution_count": 58,
   "outputs": [
    {
     "data": {
      "text/plain": "     customer_id churn  gender senior_citizen partner dependents  tenure  \\\n5758  7868-TMWMZ    No  Female            Yes     Yes         No      60   \n505   0719-SYFRB   Yes  Female             No      No         No      12   \n5339  7293-LSCDV    No  Female             No     Yes        Yes      60   \n6822  9405-GPBBG    No  Female             No      No         No      64   \n4899  6696-YDAYZ    No    Male             No     Yes        Yes      16   \n\n     phone_service multiple_lines internet_service      online_security  \\\n5758           Yes             No      Fiber optic                  Yes   \n505            Yes            Yes              DSL                  Yes   \n5339           Yes             No               No  No internet service   \n6822           Yes            Yes      Fiber optic                   No   \n4899           Yes             No               No  No internet service   \n\n            online_backup    device_protection         tech_support  \\\n5758                  Yes                  Yes                  Yes   \n505                    No                  Yes                  Yes   \n5339  No internet service  No internet service  No internet service   \n6822                  Yes                  Yes                  Yes   \n4899  No internet service  No internet service  No internet service   \n\n             streaming_tv     streaming_movies  services_hired  \\\n5758                  Yes                  Yes               8   \n505                    No                   No               6   \n5339  No internet service  No internet service               1   \n6822                  Yes                  Yes               8   \n4899  No internet service  No internet service               1   \n\n            contract paperless_billing             payment_method  \\\n5758        Two year               Yes  Bank transfer (automatic)   \n505   Month-to-month               Yes               Mailed check   \n5339        Two year               Yes    Credit card (automatic)   \n6822        Two year               Yes    Credit card (automatic)   \n4899        Two year                No               Mailed check   \n\n      charges_daily  charges_monthly  charges_total  \n5758           3.67           110.00        6668.35  \n505            2.06            61.65         713.75  \n5339           0.64            19.25        1103.25  \n6822           3.68           110.50        7069.25  \n4899           0.68            20.50         290.55  ",
      "text/html": "<div>\n<style scoped>\n    .dataframe tbody tr th:only-of-type {\n        vertical-align: middle;\n    }\n\n    .dataframe tbody tr th {\n        vertical-align: top;\n    }\n\n    .dataframe thead th {\n        text-align: right;\n    }\n</style>\n<table border=\"1\" class=\"dataframe\">\n  <thead>\n    <tr style=\"text-align: right;\">\n      <th></th>\n      <th>customer_id</th>\n      <th>churn</th>\n      <th>gender</th>\n      <th>senior_citizen</th>\n      <th>partner</th>\n      <th>dependents</th>\n      <th>tenure</th>\n      <th>phone_service</th>\n      <th>multiple_lines</th>\n      <th>internet_service</th>\n      <th>online_security</th>\n      <th>online_backup</th>\n      <th>device_protection</th>\n      <th>tech_support</th>\n      <th>streaming_tv</th>\n      <th>streaming_movies</th>\n      <th>services_hired</th>\n      <th>contract</th>\n      <th>paperless_billing</th>\n      <th>payment_method</th>\n      <th>charges_daily</th>\n      <th>charges_monthly</th>\n      <th>charges_total</th>\n    </tr>\n  </thead>\n  <tbody>\n    <tr>\n      <th>5758</th>\n      <td>7868-TMWMZ</td>\n      <td>No</td>\n      <td>Female</td>\n      <td>Yes</td>\n      <td>Yes</td>\n      <td>No</td>\n      <td>60</td>\n      <td>Yes</td>\n      <td>No</td>\n      <td>Fiber optic</td>\n      <td>Yes</td>\n      <td>Yes</td>\n      <td>Yes</td>\n      <td>Yes</td>\n      <td>Yes</td>\n      <td>Yes</td>\n      <td>8</td>\n      <td>Two year</td>\n      <td>Yes</td>\n      <td>Bank transfer (automatic)</td>\n      <td>3.67</td>\n      <td>110.00</td>\n      <td>6668.35</td>\n    </tr>\n    <tr>\n      <th>505</th>\n      <td>0719-SYFRB</td>\n      <td>Yes</td>\n      <td>Female</td>\n      <td>No</td>\n      <td>No</td>\n      <td>No</td>\n      <td>12</td>\n      <td>Yes</td>\n      <td>Yes</td>\n      <td>DSL</td>\n      <td>Yes</td>\n      <td>No</td>\n      <td>Yes</td>\n      <td>Yes</td>\n      <td>No</td>\n      <td>No</td>\n      <td>6</td>\n      <td>Month-to-month</td>\n      <td>Yes</td>\n      <td>Mailed check</td>\n      <td>2.06</td>\n      <td>61.65</td>\n      <td>713.75</td>\n    </tr>\n    <tr>\n      <th>5339</th>\n      <td>7293-LSCDV</td>\n      <td>No</td>\n      <td>Female</td>\n      <td>No</td>\n      <td>Yes</td>\n      <td>Yes</td>\n      <td>60</td>\n      <td>Yes</td>\n      <td>No</td>\n      <td>No</td>\n      <td>No internet service</td>\n      <td>No internet service</td>\n      <td>No internet service</td>\n      <td>No internet service</td>\n      <td>No internet service</td>\n      <td>No internet service</td>\n      <td>1</td>\n      <td>Two year</td>\n      <td>Yes</td>\n      <td>Credit card (automatic)</td>\n      <td>0.64</td>\n      <td>19.25</td>\n      <td>1103.25</td>\n    </tr>\n    <tr>\n      <th>6822</th>\n      <td>9405-GPBBG</td>\n      <td>No</td>\n      <td>Female</td>\n      <td>No</td>\n      <td>No</td>\n      <td>No</td>\n      <td>64</td>\n      <td>Yes</td>\n      <td>Yes</td>\n      <td>Fiber optic</td>\n      <td>No</td>\n      <td>Yes</td>\n      <td>Yes</td>\n      <td>Yes</td>\n      <td>Yes</td>\n      <td>Yes</td>\n      <td>8</td>\n      <td>Two year</td>\n      <td>Yes</td>\n      <td>Credit card (automatic)</td>\n      <td>3.68</td>\n      <td>110.50</td>\n      <td>7069.25</td>\n    </tr>\n    <tr>\n      <th>4899</th>\n      <td>6696-YDAYZ</td>\n      <td>No</td>\n      <td>Male</td>\n      <td>No</td>\n      <td>Yes</td>\n      <td>Yes</td>\n      <td>16</td>\n      <td>Yes</td>\n      <td>No</td>\n      <td>No</td>\n      <td>No internet service</td>\n      <td>No internet service</td>\n      <td>No internet service</td>\n      <td>No internet service</td>\n      <td>No internet service</td>\n      <td>No internet service</td>\n      <td>1</td>\n      <td>Two year</td>\n      <td>No</td>\n      <td>Mailed check</td>\n      <td>0.68</td>\n      <td>20.50</td>\n      <td>290.55</td>\n    </tr>\n  </tbody>\n</table>\n</div>"
     },
     "execution_count": 58,
     "metadata": {},
     "output_type": "execute_result"
    }
   ],
   "source": [
    "data.sample(5)"
   ],
   "metadata": {
    "collapsed": false,
    "pycharm": {
     "name": "#%%\n"
    }
   }
  },
  {
   "cell_type": "markdown",
   "source": [
    "---\n",
    "# Exporting the datasets"
   ],
   "metadata": {
    "collapsed": false,
    "pycharm": {
     "name": "#%% md\n"
    }
   }
  },
  {
   "cell_type": "markdown",
   "source": [
    "##### As written on issue correction 6, two different DataFrames will be created and exported in this section."
   ],
   "metadata": {
    "collapsed": false,
    "pycharm": {
     "name": "#%% md\n"
    }
   }
  },
  {
   "cell_type": "markdown",
   "source": [
    "#### <font color = \"Blue\"> 1. First, a DataFrame with all entries, including the ones with blank values in the \"churn\" variable. This DataFrame (and the JSON file that will originate from it) will be called *data_all_entries.json*."
   ],
   "metadata": {
    "collapsed": false,
    "pycharm": {
     "name": "#%% md\n"
    }
   }
  },
  {
   "cell_type": "code",
   "execution_count": 59,
   "outputs": [],
   "source": [
    "data_all_entries = data"
   ],
   "metadata": {
    "collapsed": false,
    "pycharm": {
     "name": "#%%\n"
    }
   }
  },
  {
   "cell_type": "code",
   "execution_count": 60,
   "outputs": [],
   "source": [
    "data_all_entries.to_json(path_or_buf = \"data_all_entries.json\", orient = \"split\", index = False)"
   ],
   "metadata": {
    "collapsed": false,
    "pycharm": {
     "name": "#%%\n"
    }
   }
  },
  {
   "cell_type": "markdown",
   "source": [
    "#### <font color = \"Blue\"> 2. Next, a DataFrame without the entries with blank values in the \"churn\" variable. This DataFrame (and the JSON file that will originate from it) will be called *data_treated.json*."
   ],
   "metadata": {
    "collapsed": false,
    "pycharm": {
     "name": "#%% md\n"
    }
   }
  },
  {
   "cell_type": "code",
   "execution_count": 61,
   "outputs": [],
   "source": [
    "data = data.query(\"churn == 'Yes' or churn == 'No'\")"
   ],
   "metadata": {
    "collapsed": false,
    "pycharm": {
     "name": "#%%\n"
    }
   }
  },
  {
   "cell_type": "code",
   "execution_count": 62,
   "outputs": [],
   "source": [
    "data.to_json(path_or_buf = \"data_treated.json\", orient = \"split\", index = False)"
   ],
   "metadata": {
    "collapsed": false,
    "pycharm": {
     "name": "#%%\n"
    }
   }
  }
 ],
 "metadata": {
  "kernelspec": {
   "display_name": "Python 3",
   "language": "python",
   "name": "python3"
  },
  "language_info": {
   "codemirror_mode": {
    "name": "ipython",
    "version": 2
   },
   "file_extension": ".py",
   "mimetype": "text/x-python",
   "name": "python",
   "nbconvert_exporter": "python",
   "pygments_lexer": "ipython2",
   "version": "2.7.6"
  }
 },
 "nbformat": 4,
 "nbformat_minor": 0
}